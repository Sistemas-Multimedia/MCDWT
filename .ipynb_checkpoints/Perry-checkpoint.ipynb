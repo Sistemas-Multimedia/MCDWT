{
 "cells": [
  {
   "cell_type": "code",
   "execution_count": 118,
   "metadata": {},
   "outputs": [],
   "source": [
    "!rm /tmp/*.png "
   ]
  },
  {
   "cell_type": "code",
   "execution_count": 119,
   "metadata": {},
   "outputs": [],
   "source": [
    "!cp sequences/480/*.png /tmp "
   ]
  },
  {
   "cell_type": "code",
   "execution_count": 120,
   "metadata": {},
   "outputs": [
    {
     "name": "stdout",
     "output_type": "stream",
     "text": [
      "import os\r\n",
      "import sys\r\n",
      "\r\n",
      "def RenameFiles(path = \"/tmp/\"):\r\n",
      "    for file in os.listdir(path):\r\n",
      "        if file.endswith(\".png\"):\r\n",
      "            oldName = os.path.join(path,file)\r\n",
      "            numero = int(file[-8:][:-4])\r\n",
      "            anterior = numero - 1\r\n",
      "            newName = os.path.join(path,\"{:04d}\".format(anterior)+\".png\")\r\n",
      "            os.rename(oldName,newName)\r\n",
      "\r\n",
      "if __name__ ==\"__main__\":\r\n",
      "    if len(sys.argv) < 2:\r\n",
      "        RenameFiles()\r\n",
      "    else:\r\n",
      "        RenameFiles(sys.argv[1])\r\n"
     ]
    }
   ],
   "source": [
    "!cat src/cambiar.py"
   ]
  },
  {
   "cell_type": "code",
   "execution_count": 121,
   "metadata": {},
   "outputs": [],
   "source": [
    "!python3 src/cambiar.py"
   ]
  },
  {
   "cell_type": "code",
   "execution_count": 122,
   "metadata": {},
   "outputs": [],
   "source": [
    "!python3 -O src/MDWT.py -p /tmp/ -N 10"
   ]
  },
  {
   "cell_type": "code",
   "execution_count": 123,
   "metadata": {},
   "outputs": [
    {
     "name": "stdout",
     "output_type": "stream",
     "text": [
      "Original 15940.0\r\n",
      "Nuevo 15190.0\r\n",
      "Ratio de compresion 1.04937\r\n"
     ]
    }
   ],
   "source": [
    "!python3 -O src/MCDWT.py -P 1 -p /tmp/ -T 1 -N 9\n",
    "!python3 src/suma.py 10"
   ]
  },
  {
   "cell_type": "code",
   "execution_count": 107,
   "metadata": {},
   "outputs": [
    {
     "name": "stdout",
     "output_type": "stream",
     "text": [
      "import os\r\n",
      "import sys\r\n",
      "\r\n",
      "def AddSizes(path = \"/tmp/\", N = 5):\r\n",
      "        tamanoTotal = 0.0\r\n",
      "        tamanoTotalNuevo = 0.0 \r\n",
      "        for i in range(N):            \r\n",
      "            path_archivo_normal = os.path.join(path,\"{:04d}\".format(i)+\".png\")\r\n",
      "            path_archivo_reducido = os.path.join(path,\"LL{:04d}\".format(i)+\".png\")\r\n",
      "            tamanoTotal += os.stat(path_archivo_normal).st_size\r\n",
      "            tamanoTotalNuevo += os.stat(path_archivo_reducido).st_size\r\n",
      "        print(\"Original \" + str(tamanoTotal))\r\n",
      "        print(\"Nuevo \" + str(tamanoTotalNuevo))\r\n",
      "        print(\"Ratio de compresion \" + \"{0:.5f}\".format(tamanoTotal/tamanoTotalNuevo))\r\n",
      "\r\n",
      "if __name__ ==\"__main__\":\r\n",
      "        if len(sys.argv) < 2:\r\n",
      "             AddSizes()\r\n",
      "        elif len(sys.argv) == 2:\r\n",
      "            AddSizes(N=int(sys.argv[1]))            \r\n",
      "        else:\r\n",
      "            AddSizes(sys.argv[1],int(sys.argv[2]))\r\n"
     ]
    }
   ],
   "source": [
    "!cat src/suma.py"
   ]
  },
  {
   "cell_type": "code",
   "execution_count": 134,
   "metadata": {},
   "outputs": [
    {
     "name": "stdout",
     "output_type": "stream",
     "text": [
      "Original 15940.0\r\n",
      "Nuevo 15190.0\r\n",
      "Ratio de compresion 1.04937\r\n"
     ]
    }
   ],
   "source": [
    "!python3 -O src/MCDWT.py -P 1 -p /tmp/ -T 2 -N 9\n",
    "!python3 src/suma.py 10"
   ]
  },
  {
   "cell_type": "code",
   "execution_count": 110,
   "metadata": {},
   "outputs": [
    {
     "name": "stdout",
     "output_type": "stream",
     "text": [
      "Original 15940.0\r\n",
      "Nuevo 15190.0\r\n",
      "Ratio de compresion 1.04937\r\n"
     ]
    }
   ],
   "source": [
    "!python3 -O src/MCDWT.py -P 1 -p /tmp/ -T 3 -N 9\n",
    "!python3 src/suma.py 10"
   ]
  },
  {
   "cell_type": "code",
   "execution_count": 111,
   "metadata": {},
   "outputs": [
    {
     "name": "stdout",
     "output_type": "stream",
     "text": [
      "Original 15940.0\r\n",
      "Nuevo 15190.0\r\n",
      "Ratio de compresion 1.04937\r\n"
     ]
    }
   ],
   "source": [
    "!python3 -O src/MCDWT.py -P 1 -p /tmp/ -T 4 -N 9\n",
    "!python3 src/suma.py 10"
   ]
  },
  {
   "cell_type": "code",
   "execution_count": null,
   "metadata": {},
   "outputs": [],
   "source": []
  }
 ],
 "metadata": {
  "kernelspec": {
   "display_name": "Python 3",
   "language": "python",
   "name": "python3"
  },
  "language_info": {
   "codemirror_mode": {
    "name": "ipython",
    "version": 3
   },
   "file_extension": ".py",
   "mimetype": "text/x-python",
   "name": "python",
   "nbconvert_exporter": "python",
   "pygments_lexer": "ipython3",
   "version": "3.6.9"
  }
 },
 "nbformat": 4,
 "nbformat_minor": 4
}
