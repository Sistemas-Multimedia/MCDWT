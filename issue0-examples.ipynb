{
 "cells": [
  {
   "cell_type": "code",
   "execution_count": 1,
   "metadata": {},
   "outputs": [
    {
     "name": "stdout",
     "output_type": "stream",
     "text": [
      "00 - Ejecución de algunos ejemplos\r\n"
     ]
    }
   ],
   "source": [
    "!echo \"00 - Ejecución de algunos ejemplos\""
   ]
  },
  {
   "cell_type": "code",
   "execution_count": 2,
   "metadata": {},
   "outputs": [
    {
     "name": "stdout",
     "output_type": "stream",
     "text": [
      "01 - Declaración de parámetros\r\n"
     ]
    }
   ],
   "source": [
    "!echo \"01 - Declaración de parámetros\""
   ]
  },
  {
   "cell_type": "code",
   "execution_count": 5,
   "metadata": {},
   "outputs": [
    {
     "name": "stdout",
     "output_type": "stream",
     "text": [
      "\u001b[H\u001b[2J--2020-01-24 19:10:15--  https://media.xiph.org/video/derf/y4m/galleon_422_qcif.y4m\n",
      "Resolving media.xiph.org (media.xiph.org)... 54.39.18.101, 2607:5300:203:2965::\n",
      "Connecting to media.xiph.org (media.xiph.org)|54.39.18.101|:443... connected.\n",
      "HTTP request sent, awaiting response... 200 OK\n",
      "Length: 18249883 (17M)\n",
      "Saving to: ‘galleon_422_qcif.y4m’\n",
      "\n",
      "galleon_422_qcif.y4 100%[===================>]  17.40M  1.19MB/s    in 15s     \n",
      "\n",
      "2020-01-24 19:10:30 (1.17 MB/s) - ‘galleon_422_qcif.y4m’ saved [18249883/18249883]\n",
      "\n",
      "ffmpeg version 3.4.6-0ubuntu0.18.04.1 Copyright (c) 2000-2019 the FFmpeg developers\n",
      "  built with gcc 7 (Ubuntu 7.3.0-16ubuntu3)\n",
      "  configuration: --prefix=/usr --extra-version=0ubuntu0.18.04.1 --toolchain=hardened --libdir=/usr/lib/x86_64-linux-gnu --incdir=/usr/include/x86_64-linux-gnu --enable-gpl --disable-stripping --enable-avresample --enable-avisynth --enable-gnutls --enable-ladspa --enable-libass --enable-libbluray --enable-libbs2b --enable-libcaca --enable-libcdio --enable-libflite --enable-libfontconfig --enable-libfreetype --enable-libfribidi --enable-libgme --enable-libgsm --enable-libmp3lame --enable-libmysofa --enable-libopenjpeg --enable-libopenmpt --enable-libopus --enable-libpulse --enable-librubberband --enable-librsvg --enable-libshine --enable-libsnappy --enable-libsoxr --enable-libspeex --enable-libssh --enable-libtheora --enable-libtwolame --enable-libvorbis --enable-libvpx --enable-libwavpack --enable-libwebp --enable-libx265 --enable-libxml2 --enable-libxvid --enable-libzmq --enable-libzvbi --enable-omx --enable-openal --enable-opengl --enable-sdl2 --enable-libdc1394 --enable-libdrm --enable-libiec61883 --enable-chromaprint --enable-frei0r --enable-libopencv --enable-libx264 --enable-shared\n",
      "  libavutil      55. 78.100 / 55. 78.100\n",
      "  libavcodec     57.107.100 / 57.107.100\n",
      "  libavformat    57. 83.100 / 57. 83.100\n",
      "  libavdevice    57. 10.100 / 57. 10.100\n",
      "  libavfilter     6.107.100 /  6.107.100\n",
      "  libavresample   3.  7.  0 /  3.  7.  0\n",
      "  libswscale      4.  8.100 /  4.  8.100\n",
      "  libswresample   2.  9.100 /  2.  9.100\n",
      "  libpostproc    54.  7.100 / 54.  7.100\n",
      "Input #0, yuv4mpegpipe, from 'galleon_422_qcif.y4m':\n",
      "  Duration: 00:00:12.00, start: 0.000000, bitrate: 12166 kb/s\n",
      "    Stream #0:0: Video: rawvideo (Y42B / 0x42323459), yuv422p(progressive), 176x144, SAR 128:117 DAR 1408:1053, 30 fps, 30 tbr, 30 tbn, 30 tbc\n",
      "Stream mapping:\n",
      "  Stream #0:0 -> #0:0 (rawvideo (native) -> png (native))\n",
      "Press [q] to stop, [?] for help\n",
      "Output #0, image2, to '/tmp/entrada/%03d.png':\n",
      "  Metadata:\n",
      "    encoder         : Lavf57.83.100\n",
      "    Stream #0:0: Video: png, rgb24, 176x144 [SAR 128:117 DAR 1408:1053], q=2-31, 200 kb/s, 30 fps, 30 tbn, 30 tbc\n",
      "    Metadata:\n",
      "      encoder         : Lavc57.107.100 png\n",
      "frame=    9 fps=0.0 q=-0.0 Lsize=N/A time=00:00:00.30 bitrate=N/A speed=6.52x    \n",
      "video:510kB audio:0kB subtitle:0kB other streams:0kB global headers:0kB muxing overhead: unknown\n",
      "usage: MCDWT.py [-h] [-b] [-p PREFIX] [-N DECOMPOSITIONS] [-T ITERATIONS]\n",
      "                [-P PREDICTOR]\n",
      "MCDWT.py: error: argument -T/--iterations: expected one argument\n",
      "El tamaño de las imagenes finales es 484 bytes\n",
      "El tamaño de las imagenes iniciales es 544 bytes\n",
      "El ratio de compresion es 1.12\n"
     ]
    }
   ],
   "source": [
    "url_video = \"https://media.xiph.org/video/derf/y4m/galleon_422_qcif.y4m\"\n",
    "name_video = \"galleon_422_qcif.y4m\"\n",
    "entrada = \"entrada\"\n",
    "salida = \"salida\"\n",
    "limite = 9\n",
    "T=5\n",
    "!sh issue00final-v3.sh {entrada} {salida} {url_video} {name_video} {limite} {T}"
   ]
  },
  {
   "cell_type": "code",
   "execution_count": 1,
   "metadata": {},
   "outputs": [
    {
     "name": "stdout",
     "output_type": "stream",
     "text": [
      "02 - Declaración de parámetros\r\n"
     ]
    }
   ],
   "source": [
    "!echo \"02 - Declaración de parámetros\""
   ]
  },
  {
   "cell_type": "code",
   "execution_count": 2,
   "metadata": {},
   "outputs": [
    {
     "name": "stdout",
     "output_type": "stream",
     "text": [
      "\u001b[H\u001b[2J--2020-01-25 19:56:53--  https://media.xiph.org/video/derf/y4m/galleon_422_qcif.y4m\n",
      "Resolving media.xiph.org (media.xiph.org)... 54.39.18.101, 2607:5300:203:2965::\n",
      "Connecting to media.xiph.org (media.xiph.org)|54.39.18.101|:443... connected.\n",
      "HTTP request sent, awaiting response... 200 OK\n",
      "Length: 18249883 (17M)\n",
      "Saving to: ‘galleon_422_qcif.y4m’\n",
      "\n",
      "galleon_422_qcif.y4 100%[===================>]  17.40M  1.20MB/s    in 15s     \n",
      "\n",
      "2020-01-25 19:57:08 (1.18 MB/s) - ‘galleon_422_qcif.y4m’ saved [18249883/18249883]\n",
      "\n",
      "ffmpeg version 3.4.6-0ubuntu0.18.04.1 Copyright (c) 2000-2019 the FFmpeg developers\n",
      "  built with gcc 7 (Ubuntu 7.3.0-16ubuntu3)\n",
      "  configuration: --prefix=/usr --extra-version=0ubuntu0.18.04.1 --toolchain=hardened --libdir=/usr/lib/x86_64-linux-gnu --incdir=/usr/include/x86_64-linux-gnu --enable-gpl --disable-stripping --enable-avresample --enable-avisynth --enable-gnutls --enable-ladspa --enable-libass --enable-libbluray --enable-libbs2b --enable-libcaca --enable-libcdio --enable-libflite --enable-libfontconfig --enable-libfreetype --enable-libfribidi --enable-libgme --enable-libgsm --enable-libmp3lame --enable-libmysofa --enable-libopenjpeg --enable-libopenmpt --enable-libopus --enable-libpulse --enable-librubberband --enable-librsvg --enable-libshine --enable-libsnappy --enable-libsoxr --enable-libspeex --enable-libssh --enable-libtheora --enable-libtwolame --enable-libvorbis --enable-libvpx --enable-libwavpack --enable-libwebp --enable-libx265 --enable-libxml2 --enable-libxvid --enable-libzmq --enable-libzvbi --enable-omx --enable-openal --enable-opengl --enable-sdl2 --enable-libdc1394 --enable-libdrm --enable-libiec61883 --enable-chromaprint --enable-frei0r --enable-libopencv --enable-libx264 --enable-shared\n",
      "  libavutil      55. 78.100 / 55. 78.100\n",
      "  libavcodec     57.107.100 / 57.107.100\n",
      "  libavformat    57. 83.100 / 57. 83.100\n",
      "  libavdevice    57. 10.100 / 57. 10.100\n",
      "  libavfilter     6.107.100 /  6.107.100\n",
      "  libavresample   3.  7.  0 /  3.  7.  0\n",
      "  libswscale      4.  8.100 /  4.  8.100\n",
      "  libswresample   2.  9.100 /  2.  9.100\n",
      "  libpostproc    54.  7.100 / 54.  7.100\n",
      "Input #0, yuv4mpegpipe, from 'galleon_422_qcif.y4m':\n",
      "  Duration: 00:00:12.00, start: 0.000000, bitrate: 12166 kb/s\n",
      "    Stream #0:0: Video: rawvideo (Y42B / 0x42323459), yuv422p(progressive), 176x144, SAR 128:117 DAR 1408:1053, 30 fps, 30 tbr, 30 tbn, 30 tbc\n",
      "Stream mapping:\n",
      "  Stream #0:0 -> #0:0 (rawvideo (native) -> png (native))\n",
      "Press [q] to stop, [?] for help\n",
      "Output #0, image2, to '/tmp/entrada/%03d.png':\n",
      "  Metadata:\n",
      "    encoder         : Lavf57.83.100\n",
      "    Stream #0:0: Video: png, rgb24, 176x144 [SAR 128:117 DAR 1408:1053], q=2-31, 200 kb/s, 30 fps, 30 tbn, 30 tbc\n",
      "    Metadata:\n",
      "      encoder         : Lavc57.107.100 png\n",
      "frame=    5 fps=0.0 q=-0.0 Lsize=N/A time=00:00:00.16 bitrate=N/A speed= 6.5x    \n",
      "video:283kB audio:0kB subtitle:0kB other streams:0kB global headers:0kB muxing overhead: unknown\n",
      "usage: MCDWT.py [-h] [-b] [-p PREFIX] [-N DECOMPOSITIONS] [-T ITERATIONS]\n",
      "                [-P PREDICTOR]\n",
      "MCDWT.py: error: argument -T/--iterations: expected one argument\n",
      "El tamaño de las imagenes finales es 484 bytes\n",
      "El tamaño de las imagenes iniciales es 304 bytes\n",
      "El ratio de compresion es .62\n"
     ]
    }
   ],
   "source": [
    "url_video = \"https://media.xiph.org/video/derf/y4m/galleon_422_qcif.y4m\"\n",
    "name_video = \"galleon_422_qcif.y4m\"\n",
    "entrada = \"entrada\"\n",
    "salida = \"salida\"\n",
    "limite = 5\n",
    "T = 2\n",
    "!sh issue00final-v3.sh {entrada} {salida} {url_video} {name_video} {limite} {T} "
   ]
  },
  {
   "cell_type": "code",
   "execution_count": 3,
   "metadata": {},
   "outputs": [
    {
     "name": "stdout",
     "output_type": "stream",
     "text": [
      "03 - Declaración de parámetros\r\n"
     ]
    }
   ],
   "source": [
    "!echo \"03 - Declaración de parámetros\""
   ]
  },
  {
   "cell_type": "code",
   "execution_count": 4,
   "metadata": {},
   "outputs": [
    {
     "name": "stdout",
     "output_type": "stream",
     "text": [
      "\u001b[H\u001b[2J--2020-01-25 20:11:48--  https://media.xiph.org/video/derf/y4m/football_422_qcif.y4m\n",
      "Resolving media.xiph.org (media.xiph.org)... 54.39.18.101, 2607:5300:203:2965::\n",
      "Connecting to media.xiph.org (media.xiph.org)|54.39.18.101|:443... connected.\n",
      "HTTP request sent, awaiting response... 200 OK\n",
      "Length: 18249883 (17M)\n",
      "Saving to: ‘football_422_qcif.y4m’\n",
      "\n",
      "football_422_qcif.y 100%[===================>]  17.40M  1.21MB/s    in 15s     \n",
      "\n",
      "2020-01-25 20:12:04 (1.17 MB/s) - ‘football_422_qcif.y4m’ saved [18249883/18249883]\n",
      "\n",
      "ffmpeg version 3.4.6-0ubuntu0.18.04.1 Copyright (c) 2000-2019 the FFmpeg developers\n",
      "  built with gcc 7 (Ubuntu 7.3.0-16ubuntu3)\n",
      "  configuration: --prefix=/usr --extra-version=0ubuntu0.18.04.1 --toolchain=hardened --libdir=/usr/lib/x86_64-linux-gnu --incdir=/usr/include/x86_64-linux-gnu --enable-gpl --disable-stripping --enable-avresample --enable-avisynth --enable-gnutls --enable-ladspa --enable-libass --enable-libbluray --enable-libbs2b --enable-libcaca --enable-libcdio --enable-libflite --enable-libfontconfig --enable-libfreetype --enable-libfribidi --enable-libgme --enable-libgsm --enable-libmp3lame --enable-libmysofa --enable-libopenjpeg --enable-libopenmpt --enable-libopus --enable-libpulse --enable-librubberband --enable-librsvg --enable-libshine --enable-libsnappy --enable-libsoxr --enable-libspeex --enable-libssh --enable-libtheora --enable-libtwolame --enable-libvorbis --enable-libvpx --enable-libwavpack --enable-libwebp --enable-libx265 --enable-libxml2 --enable-libxvid --enable-libzmq --enable-libzvbi --enable-omx --enable-openal --enable-opengl --enable-sdl2 --enable-libdc1394 --enable-libdrm --enable-libiec61883 --enable-chromaprint --enable-frei0r --enable-libopencv --enable-libx264 --enable-shared\n",
      "  libavutil      55. 78.100 / 55. 78.100\n",
      "  libavcodec     57.107.100 / 57.107.100\n",
      "  libavformat    57. 83.100 / 57. 83.100\n",
      "  libavdevice    57. 10.100 / 57. 10.100\n",
      "  libavfilter     6.107.100 /  6.107.100\n",
      "  libavresample   3.  7.  0 /  3.  7.  0\n",
      "  libswscale      4.  8.100 /  4.  8.100\n",
      "  libswresample   2.  9.100 /  2.  9.100\n",
      "  libpostproc    54.  7.100 / 54.  7.100\n",
      "Input #0, yuv4mpegpipe, from 'football_422_qcif.y4m':\n",
      "  Duration: 00:00:12.00, start: 0.000000, bitrate: 12166 kb/s\n",
      "    Stream #0:0: Video: rawvideo (Y42B / 0x42323459), yuv422p(progressive), 176x144, SAR 128:117 DAR 1408:1053, 30 fps, 30 tbr, 30 tbn, 30 tbc\n",
      "Stream mapping:\n",
      "  Stream #0:0 -> #0:0 (rawvideo (native) -> png (native))\n",
      "Press [q] to stop, [?] for help\n",
      "Output #0, image2, to '/tmp/entrada/%03d.png':\n",
      "  Metadata:\n",
      "    encoder         : Lavf57.83.100\n",
      "    Stream #0:0: Video: png, rgb24, 176x144 [SAR 128:117 DAR 1408:1053], q=2-31, 200 kb/s, 30 fps, 30 tbn, 30 tbc\n",
      "    Metadata:\n",
      "      encoder         : Lavc57.107.100 png\n",
      "frame=   17 fps=0.0 q=-0.0 Lsize=N/A time=00:00:00.56 bitrate=N/A speed=8.07x    \n",
      "video:1030kB audio:0kB subtitle:0kB other streams:0kB global headers:0kB muxing overhead: unknown\n",
      "usage: MCDWT.py [-h] [-b] [-p PREFIX] [-N DECOMPOSITIONS] [-T ITERATIONS]\n",
      "                [-P PREDICTOR]\n",
      "MCDWT.py: error: argument -T/--iterations: expected one argument\n",
      "El tamaño de las imagenes finales es 472 bytes\n",
      "El tamaño de las imagenes iniciales es 1068 bytes\n",
      "El ratio de compresion es 2.26\n"
     ]
    }
   ],
   "source": [
    "url_video = \"https://media.xiph.org/video/derf/y4m/football_422_qcif.y4m\"\n",
    "name_video = \"football_422_qcif.y4m\"\n",
    "entrada = \"entrada\"\n",
    "salida = \"salida\"\n",
    "limite = 17\n",
    "T = 4\n",
    "!sh issue00final-v3.sh {entrada} {salida} {url_video} {name_video} {limite} {T} "
   ]
  },
  {
   "cell_type": "code",
   "execution_count": 5,
   "metadata": {},
   "outputs": [
    {
     "name": "stdout",
     "output_type": "stream",
     "text": [
      "04 - Declaración de parámetros\r\n"
     ]
    }
   ],
   "source": [
    "!echo \"04 - Declaración de parámetros\""
   ]
  },
  {
   "cell_type": "code",
   "execution_count": 6,
   "metadata": {},
   "outputs": [
    {
     "name": "stdout",
     "output_type": "stream",
     "text": [
      "\u001b[H\u001b[2J--2020-01-25 20:16:23--  https://media.xiph.org/video/derf/y4m/football_422_qcif.y4m\n",
      "Resolving media.xiph.org (media.xiph.org)... 54.39.18.101, 2607:5300:203:2965::\n",
      "Connecting to media.xiph.org (media.xiph.org)|54.39.18.101|:443... connected.\n",
      "HTTP request sent, awaiting response... 200 OK\n",
      "Length: 18249883 (17M)\n",
      "Saving to: ‘football_422_qcif.y4m’\n",
      "\n",
      "football_422_qcif.y 100%[===================>]  17.40M  1.20MB/s    in 15s     \n",
      "\n",
      "2020-01-25 20:16:38 (1.17 MB/s) - ‘football_422_qcif.y4m’ saved [18249883/18249883]\n",
      "\n",
      "ffmpeg version 3.4.6-0ubuntu0.18.04.1 Copyright (c) 2000-2019 the FFmpeg developers\n",
      "  built with gcc 7 (Ubuntu 7.3.0-16ubuntu3)\n",
      "  configuration: --prefix=/usr --extra-version=0ubuntu0.18.04.1 --toolchain=hardened --libdir=/usr/lib/x86_64-linux-gnu --incdir=/usr/include/x86_64-linux-gnu --enable-gpl --disable-stripping --enable-avresample --enable-avisynth --enable-gnutls --enable-ladspa --enable-libass --enable-libbluray --enable-libbs2b --enable-libcaca --enable-libcdio --enable-libflite --enable-libfontconfig --enable-libfreetype --enable-libfribidi --enable-libgme --enable-libgsm --enable-libmp3lame --enable-libmysofa --enable-libopenjpeg --enable-libopenmpt --enable-libopus --enable-libpulse --enable-librubberband --enable-librsvg --enable-libshine --enable-libsnappy --enable-libsoxr --enable-libspeex --enable-libssh --enable-libtheora --enable-libtwolame --enable-libvorbis --enable-libvpx --enable-libwavpack --enable-libwebp --enable-libx265 --enable-libxml2 --enable-libxvid --enable-libzmq --enable-libzvbi --enable-omx --enable-openal --enable-opengl --enable-sdl2 --enable-libdc1394 --enable-libdrm --enable-libiec61883 --enable-chromaprint --enable-frei0r --enable-libopencv --enable-libx264 --enable-shared\n",
      "  libavutil      55. 78.100 / 55. 78.100\n",
      "  libavcodec     57.107.100 / 57.107.100\n",
      "  libavformat    57. 83.100 / 57. 83.100\n",
      "  libavdevice    57. 10.100 / 57. 10.100\n",
      "  libavfilter     6.107.100 /  6.107.100\n",
      "  libavresample   3.  7.  0 /  3.  7.  0\n",
      "  libswscale      4.  8.100 /  4.  8.100\n",
      "  libswresample   2.  9.100 /  2.  9.100\n",
      "  libpostproc    54.  7.100 / 54.  7.100\n",
      "Input #0, yuv4mpegpipe, from 'football_422_qcif.y4m':\n",
      "  Duration: 00:00:12.00, start: 0.000000, bitrate: 12166 kb/s\n",
      "    Stream #0:0: Video: rawvideo (Y42B / 0x42323459), yuv422p(progressive), 176x144, SAR 128:117 DAR 1408:1053, 30 fps, 30 tbr, 30 tbn, 30 tbc\n",
      "Stream mapping:\n",
      "  Stream #0:0 -> #0:0 (rawvideo (native) -> png (native))\n",
      "Press [q] to stop, [?] for help\n",
      "Output #0, image2, to '/tmp/entrada/%03d.png':\n",
      "  Metadata:\n",
      "    encoder         : Lavf57.83.100\n",
      "    Stream #0:0: Video: png, rgb24, 176x144 [SAR 128:117 DAR 1408:1053], q=2-31, 200 kb/s, 30 fps, 30 tbn, 30 tbc\n",
      "    Metadata:\n",
      "      encoder         : Lavc57.107.100 png\n",
      "frame=    9 fps=0.0 q=-0.0 Lsize=N/A time=00:00:00.30 bitrate=N/A speed=5.25x    \n",
      "video:536kB audio:0kB subtitle:0kB other streams:0kB global headers:0kB muxing overhead: unknown\n",
      "usage: MCDWT.py [-h] [-b] [-p PREFIX] [-N DECOMPOSITIONS] [-T ITERATIONS]\n",
      "                [-P PREDICTOR]\n",
      "MCDWT.py: error: argument -T/--iterations: expected one argument\n",
      "El tamaño de las imagenes finales es 472 bytes\n",
      "El tamaño de las imagenes iniciales es 556 bytes\n",
      "El ratio de compresion es 1.17\n"
     ]
    }
   ],
   "source": [
    "url_video = \"https://media.xiph.org/video/derf/y4m/football_422_qcif.y4m\"\n",
    "name_video = \"football_422_qcif.y4m\"\n",
    "entrada = \"entrada\"\n",
    "salida = \"salida\"\n",
    "limite = 9\n",
    "T = 3\n",
    "!sh issue00final-v3.sh {entrada} {salida} {url_video} {name_video} {limite} {T} "
   ]
  },
  {
   "cell_type": "code",
   "execution_count": 7,
   "metadata": {},
   "outputs": [
    {
     "name": "stdout",
     "output_type": "stream",
     "text": [
      "05 - Declaración de parámetros\r\n"
     ]
    }
   ],
   "source": [
    "!echo \"05 - Declaración de parámetros\""
   ]
  },
  {
   "cell_type": "code",
   "execution_count": 8,
   "metadata": {},
   "outputs": [
    {
     "name": "stdout",
     "output_type": "stream",
     "text": [
      "\u001b[H\u001b[2J--2020-01-25 20:22:04--  https://media.xiph.org/video/derf/y4m/highway_qcif.y4m\n",
      "Resolving media.xiph.org (media.xiph.org)... 54.39.18.101, 2607:5300:203:2965::\n",
      "Connecting to media.xiph.org (media.xiph.org)|54.39.18.101|:443... connected.\n",
      "HTTP request sent, awaiting response... 200 OK\n",
      "Length: 76044044 (73M)\n",
      "Saving to: ‘highway_qcif.y4m’\n",
      "\n",
      "highway_qcif.y4m    100%[===================>]  72.52M  1.22MB/s    in 61s     \n",
      "\n",
      "2020-01-25 20:23:05 (1.19 MB/s) - ‘highway_qcif.y4m’ saved [76044044/76044044]\n",
      "\n",
      "ffmpeg version 3.4.6-0ubuntu0.18.04.1 Copyright (c) 2000-2019 the FFmpeg developers\n",
      "  built with gcc 7 (Ubuntu 7.3.0-16ubuntu3)\n",
      "  configuration: --prefix=/usr --extra-version=0ubuntu0.18.04.1 --toolchain=hardened --libdir=/usr/lib/x86_64-linux-gnu --incdir=/usr/include/x86_64-linux-gnu --enable-gpl --disable-stripping --enable-avresample --enable-avisynth --enable-gnutls --enable-ladspa --enable-libass --enable-libbluray --enable-libbs2b --enable-libcaca --enable-libcdio --enable-libflite --enable-libfontconfig --enable-libfreetype --enable-libfribidi --enable-libgme --enable-libgsm --enable-libmp3lame --enable-libmysofa --enable-libopenjpeg --enable-libopenmpt --enable-libopus --enable-libpulse --enable-librubberband --enable-librsvg --enable-libshine --enable-libsnappy --enable-libsoxr --enable-libspeex --enable-libssh --enable-libtheora --enable-libtwolame --enable-libvorbis --enable-libvpx --enable-libwavpack --enable-libwebp --enable-libx265 --enable-libxml2 --enable-libxvid --enable-libzmq --enable-libzvbi --enable-omx --enable-openal --enable-opengl --enable-sdl2 --enable-libdc1394 --enable-libdrm --enable-libiec61883 --enable-chromaprint --enable-frei0r --enable-libopencv --enable-libx264 --enable-shared\n",
      "  libavutil      55. 78.100 / 55. 78.100\n",
      "  libavcodec     57.107.100 / 57.107.100\n",
      "  libavformat    57. 83.100 / 57. 83.100\n",
      "  libavdevice    57. 10.100 / 57. 10.100\n",
      "  libavfilter     6.107.100 /  6.107.100\n",
      "  libavresample   3.  7.  0 /  3.  7.  0\n",
      "  libswscale      4.  8.100 /  4.  8.100\n",
      "  libswresample   2.  9.100 /  2.  9.100\n",
      "  libpostproc    54.  7.100 / 54.  7.100\n",
      "Input #0, yuv4mpegpipe, from 'highway_qcif.y4m':\n",
      "  Duration: 00:01:06.73, start: 0.000000, bitrate: 9116 kb/s\n",
      "    Stream #0:0: Video: rawvideo (I420 / 0x30323449), yuv420p(progressive), 176x144, SAR 128:117 DAR 1408:1053, 29.97 fps, 29.97 tbr, 29.97 tbn, 29.97 tbc\n",
      "Stream mapping:\n",
      "  Stream #0:0 -> #0:0 (rawvideo (native) -> png (native))\n",
      "Press [q] to stop, [?] for help\n",
      "Output #0, image2, to '/tmp/entrada/%03d.png':\n",
      "  Metadata:\n",
      "    encoder         : Lavf57.83.100\n",
      "    Stream #0:0: Video: png, rgb24, 176x144 [SAR 128:117 DAR 1408:1053], q=2-31, 200 kb/s, 29.97 fps, 29.97 tbn, 29.97 tbc\n",
      "    Metadata:\n",
      "      encoder         : Lavc57.107.100 png\n",
      "frame=    9 fps=0.0 q=-0.0 Lsize=N/A time=00:00:00.30 bitrate=N/A speed=7.15x    \n",
      "video:396kB audio:0kB subtitle:0kB other streams:0kB global headers:0kB muxing overhead: unknown\n",
      "usage: MCDWT.py [-h] [-b] [-p PREFIX] [-N DECOMPOSITIONS] [-T ITERATIONS]\n",
      "                [-P PREDICTOR]\n",
      "MCDWT.py: error: argument -T/--iterations: expected one argument\n",
      "El tamaño de las imagenes finales es 376 bytes\n",
      "El tamaño de las imagenes iniciales es 416 bytes\n",
      "El ratio de compresion es 1.10\n"
     ]
    }
   ],
   "source": [
    "url_video = \"https://media.xiph.org/video/derf/y4m/highway_qcif.y4m\"\n",
    "name_video = \"highway_qcif.y4m\"\n",
    "entrada = \"entrada\"\n",
    "salida = \"salida\"\n",
    "limite = 9\n",
    "T = 5\n",
    "!sh issue00final-v3.sh {entrada} {salida} {url_video} {name_video} {limite} {T} "
   ]
  },
  {
   "cell_type": "code",
   "execution_count": 9,
   "metadata": {},
   "outputs": [
    {
     "name": "stdout",
     "output_type": "stream",
     "text": [
      "06 - Declaración de parámetros\r\n"
     ]
    }
   ],
   "source": [
    "!echo \"06 - Declaración de parámetros\""
   ]
  },
  {
   "cell_type": "code",
   "execution_count": 10,
   "metadata": {},
   "outputs": [
    {
     "name": "stdout",
     "output_type": "stream",
     "text": [
      "\u001b[H\u001b[2J--2020-01-25 20:25:35--  https://media.xiph.org/video/derf/y4m/highway_qcif.y4m\n",
      "Resolving media.xiph.org (media.xiph.org)... 54.39.18.101, 2607:5300:203:2965::\n",
      "Connecting to media.xiph.org (media.xiph.org)|54.39.18.101|:443... connected.\n",
      "HTTP request sent, awaiting response... 200 OK\n",
      "Length: 76044044 (73M)\n",
      "Saving to: ‘highway_qcif.y4m’\n",
      "\n",
      "highway_qcif.y4m    100%[===================>]  72.52M  1.22MB/s    in 61s     \n",
      "\n",
      "2020-01-25 20:26:36 (1.19 MB/s) - ‘highway_qcif.y4m’ saved [76044044/76044044]\n",
      "\n",
      "ffmpeg version 3.4.6-0ubuntu0.18.04.1 Copyright (c) 2000-2019 the FFmpeg developers\n",
      "  built with gcc 7 (Ubuntu 7.3.0-16ubuntu3)\n",
      "  configuration: --prefix=/usr --extra-version=0ubuntu0.18.04.1 --toolchain=hardened --libdir=/usr/lib/x86_64-linux-gnu --incdir=/usr/include/x86_64-linux-gnu --enable-gpl --disable-stripping --enable-avresample --enable-avisynth --enable-gnutls --enable-ladspa --enable-libass --enable-libbluray --enable-libbs2b --enable-libcaca --enable-libcdio --enable-libflite --enable-libfontconfig --enable-libfreetype --enable-libfribidi --enable-libgme --enable-libgsm --enable-libmp3lame --enable-libmysofa --enable-libopenjpeg --enable-libopenmpt --enable-libopus --enable-libpulse --enable-librubberband --enable-librsvg --enable-libshine --enable-libsnappy --enable-libsoxr --enable-libspeex --enable-libssh --enable-libtheora --enable-libtwolame --enable-libvorbis --enable-libvpx --enable-libwavpack --enable-libwebp --enable-libx265 --enable-libxml2 --enable-libxvid --enable-libzmq --enable-libzvbi --enable-omx --enable-openal --enable-opengl --enable-sdl2 --enable-libdc1394 --enable-libdrm --enable-libiec61883 --enable-chromaprint --enable-frei0r --enable-libopencv --enable-libx264 --enable-shared\n",
      "  libavutil      55. 78.100 / 55. 78.100\n",
      "  libavcodec     57.107.100 / 57.107.100\n",
      "  libavformat    57. 83.100 / 57. 83.100\n",
      "  libavdevice    57. 10.100 / 57. 10.100\n",
      "  libavfilter     6.107.100 /  6.107.100\n",
      "  libavresample   3.  7.  0 /  3.  7.  0\n",
      "  libswscale      4.  8.100 /  4.  8.100\n",
      "  libswresample   2.  9.100 /  2.  9.100\n",
      "  libpostproc    54.  7.100 / 54.  7.100\n",
      "Input #0, yuv4mpegpipe, from 'highway_qcif.y4m':\n",
      "  Duration: 00:01:06.73, start: 0.000000, bitrate: 9116 kb/s\n",
      "    Stream #0:0: Video: rawvideo (I420 / 0x30323449), yuv420p(progressive), 176x144, SAR 128:117 DAR 1408:1053, 29.97 fps, 29.97 tbr, 29.97 tbn, 29.97 tbc\n",
      "Stream mapping:\n",
      "  Stream #0:0 -> #0:0 (rawvideo (native) -> png (native))\n",
      "Press [q] to stop, [?] for help\n",
      "Output #0, image2, to '/tmp/entrada/%03d.png':\n",
      "  Metadata:\n",
      "    encoder         : Lavf57.83.100\n",
      "    Stream #0:0: Video: png, rgb24, 176x144 [SAR 128:117 DAR 1408:1053], q=2-31, 200 kb/s, 29.97 fps, 29.97 tbn, 29.97 tbc\n",
      "    Metadata:\n",
      "      encoder         : Lavc57.107.100 png\n",
      "frame=   17 fps=0.0 q=-0.0 Lsize=N/A time=00:00:00.56 bitrate=N/A speed= 8.9x    \n",
      "video:748kB audio:0kB subtitle:0kB other streams:0kB global headers:0kB muxing overhead: unknown\n",
      "usage: MCDWT.py [-h] [-b] [-p PREFIX] [-N DECOMPOSITIONS] [-T ITERATIONS]\n",
      "                [-P PREDICTOR]\n",
      "MCDWT.py: error: argument -T/--iterations: expected one argument\n",
      "El tamaño de las imagenes finales es 376 bytes\n",
      "El tamaño de las imagenes iniciales es 788 bytes\n",
      "El ratio de compresion es 2.09\n"
     ]
    }
   ],
   "source": [
    "url_video = \"https://media.xiph.org/video/derf/y4m/highway_qcif.y4m\"\n",
    "name_video = \"highway_qcif.y4m\"\n",
    "entrada = \"entrada\"\n",
    "salida = \"salida\"\n",
    "limite = 17\n",
    "T = 4\n",
    "!sh issue00final-v3.sh {entrada} {salida} {url_video} {name_video} {limite} {T} "
   ]
  },
  {
   "cell_type": "code",
   "execution_count": null,
   "metadata": {},
   "outputs": [],
   "source": []
  }
 ],
 "metadata": {
  "kernelspec": {
   "display_name": "Python 3",
   "language": "python",
   "name": "python3"
  },
  "language_info": {
   "codemirror_mode": {
    "name": "ipython",
    "version": 3
   },
   "file_extension": ".py",
   "mimetype": "text/x-python",
   "name": "python",
   "nbconvert_exporter": "python",
   "pygments_lexer": "ipython3",
   "version": "3.6.9"
  }
 },
 "nbformat": 4,
 "nbformat_minor": 2
}
