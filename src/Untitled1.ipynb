{
 "cells": [
  {
   "cell_type": "code",
   "execution_count": 3,
   "metadata": {},
   "outputs": [
    {
     "name": "stderr",
     "output_type": "stream",
     "text": [
      "usage: ipykernel_launcher.py [-h] [-i INPUT] [-o OUTPUT] [-q Q_STEP]\n",
      "ipykernel_launcher.py: error: unrecognized arguments: -f /home/devin/.local/share/jupyter/runtime/kernel-53321766-6bfd-4e9e-93e0-b79a73452a8e.json\n"
     ]
    },
    {
     "ename": "SystemExit",
     "evalue": "2",
     "output_type": "error",
     "traceback": [
      "An exception has occurred, use %tb to see the full traceback.\n",
      "\u001b[0;31mSystemExit\u001b[0m\u001b[0;31m:\u001b[0m 2\n"
     ]
    },
    {
     "name": "stderr",
     "output_type": "stream",
     "text": [
      "/home/devin/.local/lib/python2.7/site-packages/IPython/core/interactiveshell.py:2886: UserWarning: To exit: use 'exit', 'quit', or Ctrl-D.\n",
      "  warn(\"To exit: use 'exit', 'quit', or Ctrl-D.\", stacklevel=1)\n"
     ]
    }
   ],
   "source": [
    "#!/usr/bin/env python\n",
    "\n",
    "import os\n",
    "import argparse\n",
    "try:\n",
    "    import cv2\n",
    "except:\n",
    "    os.system(\"pip3 install opencv-python --user\")\n",
    "try:\n",
    "    import numpy as np\n",
    "except:\n",
    "    os.system(\"pip3 install numpy -user\")\n",
    "\n",
    "class CustomFormatter(argparse.ArgumentDefaultsHelpFormatter, argparse.RawDescriptionHelpFormatter):\n",
    "    pass\n",
    "\n",
    "parser = argparse.ArgumentParser(description = \"Quantize an image\\n\\n\"\n",
    "                                 \"Example:\\n\\n\"\n",
    "                                 \"  python -O quantize.py -i ../sequences/stockholm/000.png -o /tmp/000.png -q 64\\n\",\n",
    "                                 formatter_class=CustomFormatter)\n",
    "\n",
    "parser.add_argument(\"-i\", \"--input\", help=\"Input image\", default=\"../sequences/stockholm/000.png\")\n",
    "parser.add_argument(\"-o\", \"--output\", help=\"Output image\", default=\"/tmp/000.png\")\n",
    "parser.add_argument(\"-q\", \"--q_step\", type=int, help=\"Quantization step\", default=32)\n",
    "parser.add_argument(\"-s\", \"--select\", type=int, help=\"Select the Quantizer\", default=1)\n",
    "\n",
    "args = parser.parse_args()\n",
    "\n",
    "image = cv2.imread(args.input, -1)\n",
    "\n",
    "if __debug__:\n",
    "    print(\"Quantizing with step {}\".format(args.q_step))\n",
    "if(select==1)\n",
    "    #deadzone\n",
    "    tmp = image.astype(np.float32)\n",
    "    tmp -= 32768\n",
    "    image = (tmp/args.q_step).astype(np.int16)*args.q_step\n",
    "#\n",
    "#    if __debug__:\n",
    "#    print(\"Max value at output: {}\".format(np.amax(image)))\n",
    "#    print(\"Min value at output: {}\".format(np.amin(image)))\n",
    "\n",
    "    tmp = image.astype(np.float32)\n",
    "    tmp += 32768\n",
    "    image = tmp.astype(np.uint16)\n",
    "else if(select==2)\n",
    "    #midtread \n",
    "    tmp = np.round(image)\n",
    "    #y = np.round(x)\n",
    "    tmp -= 32768\n",
    "    image = np.round(tmp/args.q_step)*args.q_step\n",
    "    tmp= np.round(image)\n",
    "    tmp += 32768\n",
    "    image = np.round(tmp)\n",
    "else \n",
    "    #midrise\n",
    "    tmp = np.floor(image)+ 0.5\n",
    "    tmp -= 32768\n",
    "    image = (np.floor(tmp/args.q_step)+0.5)*args.q_step\n",
    "    tmp= np.round(image)+0.5\n",
    "    tmp += 32768\n",
    "    image = np.round(tmp)+0.5\n",
    "\n",
    "\n",
    "\n",
    "#if __debug__:\n",
    "#    print(\"Max value at output: {}\".format(np.amax(image)))\n",
    "#    print(\"Min value at output: {}\".format(np.amin(image)))\n",
    "\n",
    "cv2.imwrite(args.output, image)\n"
   ]
  },
  {
   "cell_type": "code",
   "execution_count": 7,
   "metadata": {},
   "outputs": [
    {
     "name": "stdout",
     "output_type": "stream",
     "text": [
      "wc: '/tmp/mcdw/*.png': No such file or directory\r\n",
      "Missing expression\r\n",
      "\r\n",
      "Error in commands\r\n"
     ]
    }
   ],
   "source": [
    "\n",
    "!calc `wc -c /tmp/org$i/*.png | cut -f 1 -d \" \"` / `wc -c /tmp/mcdw$i/*.png | cut -f 1 -d \" \"`"
   ]
  },
  {
   "cell_type": "code",
   "execution_count": 19,
   "metadata": {},
   "outputs": [
    {
     "ename": "SyntaxError",
     "evalue": "invalid syntax (<ipython-input-19-6aa05e74ce2b>, line 1)",
     "output_type": "error",
     "traceback": [
      "\u001b[0;36m  File \u001b[0;32m\"<ipython-input-19-6aa05e74ce2b>\"\u001b[0;36m, line \u001b[0;32m1\u001b[0m\n\u001b[0;31m    first_compressed_ratio= calc `wc -c /tmp/org32/*.png | cut -f 1 -d \" \"` / `wc -c /tmp/mcdw32/*.png | cut -f 1 -d \" \"`\u001b[0m\n\u001b[0m                                 ^\u001b[0m\n\u001b[0;31mSyntaxError\u001b[0m\u001b[0;31m:\u001b[0m invalid syntax\n"
     ]
    }
   ],
   "source": [
    "first_compressed_ratio= calc `wc -c /tmp/org32/*.png | cut -f 1 -d \" \"` / `wc -c /tmp/mcdw32/*.png | cut -f 1 -d \" \"`\n"
   ]
  },
  {
   "cell_type": "code",
   "execution_count": null,
   "metadata": {},
   "outputs": [],
   "source": []
  },
  {
   "cell_type": "code",
   "execution_count": null,
   "metadata": {},
   "outputs": [],
   "source": []
  }
 ],
 "metadata": {
  "kernelspec": {
   "display_name": "Python 3",
   "language": "python",
   "name": "python3"
  },
  "language_info": {
   "codemirror_mode": {
    "name": "ipython",
    "version": 2
   },
   "file_extension": ".py",
   "mimetype": "text/x-python",
   "name": "python",
   "nbconvert_exporter": "python",
   "pygments_lexer": "ipython2",
   "version": "2.7.17"
  }
 },
 "nbformat": 4,
 "nbformat_minor": 2
}
