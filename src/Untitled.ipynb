{
 "cells": [
  {
   "cell_type": "code",
   "execution_count": 4,
   "metadata": {},
   "outputs": [
    {
     "ename": "SyntaxError",
     "evalue": "invalid syntax (<ipython-input-4-3e56342d9140>, line 11)",
     "output_type": "error",
     "traceback": [
      "\u001b[0;36m  File \u001b[0;32m\"<ipython-input-4-3e56342d9140>\"\u001b[0;36m, line \u001b[0;32m11\u001b[0m\n\u001b[0;31m    q_step=$i\u001b[0m\n\u001b[0m           ^\u001b[0m\n\u001b[0;31mSyntaxError\u001b[0m\u001b[0;31m:\u001b[0m invalid syntax\n"
     ]
    }
   ],
   "source": [
    "%%bash\n",
    "#%matplotlib inline\n",
    "\n",
    "#import matplotlib\n",
    "#import matplotlib.pyplot as plt\n",
    "\n",
    "#q_step_list= [32,64,128]\n",
    "#compression_ratio_list=[]\n",
    "\n",
    "for i in $(seq 32 32 64)\n",
    "do \n",
    "q_step=$i\n",
    "predictor=2  \n",
    "select=1\n",
    "# You must be in the ’src’ directory.  \n",
    "rm /tmp/*.png  \n",
    "cp ../sequences/stockholm/* /tmp  \n",
    "rm -rf /tmp/org$i\n",
    "mkdir /tmp/org$i\n",
    "cp /tmp/*.png /tmp/org$i\n",
    "\n",
    "python3 -O MDWT.py -p /tmp/  \n",
    "python3 -O MCDWT.py -P $predictor -p /tmp/  \n",
    "\n",
    "    \n",
    "#python3 ../tools/show_statistics.py -i /tmp/LH001.png  \n",
    "python3 ../tools/quantize1.py -i /tmp/LH001.png -o /tmp/LH001.png -q $q_step -s $select\n",
    "#python3 ../tools/show_statistics.py -i /tmp/LH001.png  \n",
    "python3 ../tools/quantize1.py -i /tmp/HL001.png -o /tmp/HL001.png -q $q_step -s $select\n",
    "python3 ../tools/quantize1.py -i /tmp/HH001.png -o /tmp/HH001.png -q $q_step -s $select\n",
    " \n",
    "python3 ../tools/quantize1.py -i /tmp/LH002.png -o /tmp/LH002.png -q $q_step -s $select\n",
    "python3 ../tools/quantize1.py -i /tmp/HL002.png -o /tmp/HL002.png -q $q_step -s $select\n",
    "python3 ../tools/quantize1.py -i /tmp/HH002.png -o /tmp/HH002.png -q $q_step -s $select\n",
    " \n",
    "python3 ../tools/quantize1.py -i /tmp/LH003.png -o /tmp/LH003.png -q $q_step -s $select\n",
    "python3 ../tools/quantize1.py -i /tmp/HL003.png -o /tmp/HL003.png -q $q_step -s $select\n",
    "python3 ../tools/quantize1.py -i /tmp/HH003.png -o /tmp/HH003.png -q $q_step -s $select\n",
    "\n",
    "\n",
    "\n",
    "rm -rf /tmp/mcdw$i\n",
    "mkdir /tmp/mcdw$i\n",
    "cp /tmp/LL*.png /tmp/mcdw$i  \n",
    "cp /tmp/LH*.png /tmp/mcdw$i  \n",
    "cp /tmp/HL*.png /tmp/mcdw$i  \n",
    "cp /tmp/HH*.png /tmp/mcdw$i \n",
    "\n",
    "done\n",
    "\n",
    "\n"
   ]
  },
  {
   "cell_type": "code",
   "execution_count": 122,
   "metadata": {},
   "outputs": [
    {
     "name": "stdout",
     "output_type": "stream",
     "text": [
      "12M\t/tmp/org32\n",
      "7,7M\t/tmp/mcdw32\n"
     ]
    }
   ],
   "source": [
    "!x= du -sh /tmp/org32\n",
    "!y= du -sh /tmp/mcdw32\n"
   ]
  },
  {
   "cell_type": "code",
   "execution_count": 119,
   "metadata": {},
   "outputs": [
    {
     "name": "stderr",
     "output_type": "stream",
     "text": [
      "bash: line 3: 7828\n",
      "7828: syntax error in expression (error token is \"7828\")\n"
     ]
    }
   ],
   "source": [
    "%%bash\n",
    "x=$(du -c \"/tmp/org32\" | awk '{$1}')\n",
    "y=$(du -c \"/tmp/mcdw32\" | awk '{print $1}')\n",
    "echo $((x/y))"
   ]
  },
  {
   "cell_type": "code",
   "execution_count": 126,
   "metadata": {},
   "outputs": [],
   "source": [
    "%%bash\n",
    "du -c \"/tmp/org32\" | awk '{$1}'\n"
   ]
  },
  {
   "cell_type": "code",
   "execution_count": 128,
   "metadata": {},
   "outputs": [
    {
     "name": "stdout",
     "output_type": "stream",
     "text": [
      "/bin/sh: 1: Syntax error: end of file unexpected (expecting \")\")\n",
      "\n"
     ]
    }
   ],
   "source": [
    "\n",
    "!x=$(du --apparent-size --block-size=1  \"/tmp/org32\"| awk '{ print $1}'\n",
    "!echo $x"
   ]
  },
  {
   "cell_type": "code",
   "execution_count": 125,
   "metadata": {},
   "outputs": [
    {
     "name": "stdout",
     "output_type": "stream",
     "text": [
      "4096\n"
     ]
    }
   ],
   "source": [
    "%%bash\n",
    "x1=$(stat --format=%s \"/tmp/org32\")\n",
    "y1=$(stat --format=%s \"/tmp/mcdw64\")\n",
    "\n",
    "z1=$((y1/x1))\n",
    "echo $x1\n",
    "\n"
   ]
  },
  {
   "cell_type": "code",
   "execution_count": 264,
   "metadata": {},
   "outputs": [
    {
     "name": "stdout",
     "output_type": "stream",
     "text": [
      "comp_rat=1.51030137942761579426\n"
     ]
    },
    {
     "name": "stderr",
     "output_type": "stream",
     "text": [
      "printf: usage: printf [-v var] format [arguments]\n"
     ]
    }
   ],
   "source": [
    "%%bash\n",
    "x=$(du --apparent-size --block-size=1  \"/tmp/org32\"| awk '{ printf $1}')\n",
    "y=$(du --apparent-size --block-size=1  \"/tmp/mcdw32\"| awk '{ printf $1}') \n",
    "printf \"comp_rat=%s\\n\" `echo \"$x/$y\"| bc -l` \n",
    "printf $comp_rat"
   ]
  },
  {
   "cell_type": "code",
   "execution_count": 259,
   "metadata": {},
   "outputs": [
    {
     "name": "stdout",
     "output_type": "stream",
     "text": [
      "7980339\n"
     ]
    }
   ],
   "source": [
    "%%bash \n",
    "test_array=($(du --apparent-size --block-size=1  \"/tmp/org32\"| awk '{ printf $1}') $(du --apparent-size --block-size=1  \"/tmp/mcdw32\"| awk '{ printf $1}'))\n",
    "echo ${test_array[1]}"
   ]
  },
  {
   "cell_type": "code",
   "execution_count": 213,
   "metadata": {},
   "outputs": [
    {
     "name": "stderr",
     "output_type": "stream",
     "text": [
      "bash: line 1: genius: command not found\n"
     ]
    }
   ],
   "source": [
    "%%bash \n",
    "echo 1/3.0 | genius"
   ]
  },
  {
   "cell_type": "code",
   "execution_count": 218,
   "metadata": {},
   "outputs": [
    {
     "name": "stdout",
     "output_type": "stream",
     "text": [
      "0.3333333333333333\n"
     ]
    }
   ],
   "source": [
    "%%bash\n",
    "echo 'print(1/3)' | python3"
   ]
  },
  {
   "cell_type": "code",
   "execution_count": 231,
   "metadata": {},
   "outputs": [
    {
     "name": "stdout",
     "output_type": "stream",
     "text": [
      "package bc is not installed\n"
     ]
    }
   ],
   "source": [
    "%%bash\n",
    "rpm -q bc"
   ]
  },
  {
   "cell_type": "code",
   "execution_count": 8,
   "metadata": {},
   "outputs": [
    {
     "name": "stdout",
     "output_type": "stream",
     "text": [
      "<os._wrap_close object at 0x7fce00290850>\n"
     ]
    }
   ],
   "source": [
    "import os\n",
    "z = os.popen(\"$(du --apparent-size --block-size=1  \\\"/tmp/org32\\\"| awk '{ printf $1}')\").read()\n",
    "z = os.popen(\"wc -c MCDWT.py\")\n",
    "print(z)"
   ]
  },
  {
   "cell_type": "code",
   "execution_count": 13,
   "metadata": {},
   "outputs": [],
   "source": [
    "%%bash\n",
    "function myfun {\n",
    "cat << EOF | gnuplot -p\n",
    "plot \"$x1\" using $x2:$x3\n",
    "EOF\n",
    "}"
   ]
  },
  {
   "cell_type": "code",
   "execution_count": null,
   "metadata": {},
   "outputs": [],
   "source": []
  }
 ],
 "metadata": {
  "kernelspec": {
   "display_name": "Python 3",
   "language": "python",
   "name": "python3"
  },
  "language_info": {
   "codemirror_mode": {
    "name": "ipython",
    "version": 3
   },
   "file_extension": ".py",
   "mimetype": "text/x-python",
   "name": "python",
   "nbconvert_exporter": "python",
   "pygments_lexer": "ipython3",
   "version": "3.8.1"
  }
 },
 "nbformat": 4,
 "nbformat_minor": 2
}
