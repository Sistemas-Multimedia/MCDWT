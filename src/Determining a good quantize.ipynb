{
 "cells": [
  {
   "cell_type": "markdown",
   "metadata": {},
   "source": [
    "# Determining a good quantize"
   ]
  },
  {
   "cell_type": "markdown",
   "metadata": {},
   "source": [
    "# Deadzone"
   ]
  },
  {
   "cell_type": "code",
   "execution_count": 14,
   "metadata": {
    "scrolled": false
   },
   "outputs": [
    {
     "name": "stdout",
     "output_type": "stream",
     "text": [
      "this is deadzone\n",
      "this is deadzone\n",
      "this is deadzone\n",
      "this is deadzone\n",
      "this is deadzone\n",
      "this is deadzone\n",
      "this is deadzone\n",
      "this is deadzone\n",
      "this is deadzone\n",
      "this is deadzone\n",
      "this is deadzone\n",
      "this is deadzone\n",
      "this is deadzone\n",
      "this is deadzone\n",
      "this is deadzone\n"
     ]
    }
   ],
   "source": [
    "%%bash\n",
    "for i in $(seq 5 5 25)\n",
    "do \n",
    "q_step=$i\n",
    "predictor=2  \n",
    "select=1\n",
    "# You must be in the ’src’ directory.  \n",
    "rm /tmp/*.png  \n",
    "cp ../sequences/stockholm/*.png /tmp  \n",
    "\n",
    "python3 -O MDWT.py -p /tmp/  \n",
    "python3 -O MCDWT.py -P $predictor -p /tmp/  \n",
    "\n",
    "    \n",
    "#python3 ../tools/show_statistics.py -i /tmp/LH001.png  \n",
    "python3 ../tools/quantize1.py -i /tmp/LH001.png -o /tmp/LH001.png -q $q_step -s $select\n",
    "#python3 ../tools/show_statistics.py -i /tmp/LH001.png  \n",
    "python3 ../tools/quantize1.py -i /tmp/HL001.png -o /tmp/HL001.png -q $q_step -s $select\n",
    "python3 ../tools/quantize1.py -i /tmp/HH001.png -o /tmp/HH001.png -q $q_step -s $select\n",
    " \n",
    "#python3 ../tools/quantize1.py -i /tmp/LH002.png -o /tmp/LH002.png -q $q_step -s $select\n",
    "#python3 ../tools/quantize1.py -i /tmp/HL002.png -o /tmp/HL002.png -q $q_step -s $select\n",
    "#python3 ../tools/quantize1.py -i /tmp/HH002.png -o /tmp/HH002.png -q $q_step -s $select\n",
    " \n",
    "#python3 ../tools/quantize1.py -i /tmp/LH003.png -o /tmp/LH003.png -q $q_step -s $select\n",
    "#python3 ../tools/quantize1.py -i /tmp/HL003.png -o /tmp/HL003.png -q $q_step -s $select\n",
    "#python3 ../tools/quantize1.py -i /tmp/HH003.png -o /tmp/HH003.png -q $q_step -s $select\n",
    "\n",
    "\n",
    "\n",
    "rm -rf /tmp/mcdw$i\n",
    "mkdir /tmp/mcdw$i\n",
    "cp /tmp/LL001.png /tmp/mcdw$i  \n",
    "cp /tmp/LH001.png /tmp/mcdw$i  \n",
    "cp /tmp/HL001.png /tmp/mcdw$i  \n",
    "cp /tmp/HH001.png /tmp/mcdw$i \n",
    "\n",
    "\n",
    "\n",
    "\n",
    "#first_compressed_ratio= calc `wc -c /tmp/org32/*.png | cut -f 1 -d \" \"` / `wc -c /tmp/mcdw32/*.png | cut -f 1 -d \" \"`\n",
    "#compressed_ratio = float(first_compressed_ratio[0][2:])\n",
    "#print \"compressed_ratio=\" compressed_ratio\n",
    "\n",
    "python3 -O MCDWT.py -P $predictor -p /tmp/ -b  \n",
    "python3 -O MDWT.py -p /tmp/ -b  \n",
    " \n",
    "rm -rf /tmp/001new_step$i\n",
    "mkdir /tmp/001new_step$i\n",
    "cp /tmp/*001.png /tmp/001new_step$i\n",
    "\n",
    "done\n"
   ]
  },
  {
   "cell_type": "code",
   "execution_count": 16,
   "metadata": {
    "scrolled": true
   },
   "outputs": [
    {
     "name": "stdout",
     "output_type": "stream",
     "text": [
      "mcdw1: 1635033\n",
      "mcdw2: 1037870\n",
      "mcdw3: 876085\n",
      "mcdw4: 831154\n",
      "7.655080837673611\n",
      "14.236341349283855\n",
      "18.04153849283854\n",
      "20.17728000217014\n"
     ]
    },
    {
     "data": {
      "image/png": "[encoded data removed]",
      "text/plain": [
       "<Figure size 432x288 with 1 Axes>"
      ]
     },
     "metadata": {
      "needs_background": "light"
     },
     "output_type": "display_data"
    }
   ],
   "source": [
    "import subprocess\n",
    "import os.path \n",
    "import matplotlib\n",
    "import numpy as np\n",
    "import matplotlib.pyplot as plt\n",
    "import matplotlib.axes as ax\n",
    "import array as arr\n",
    "\n",
    "%matplotlib inline\n",
    "#rate bit\n",
    "path = '/tmp/mcdw5/'\n",
    "mcdw1 = subprocess.check_output(['du','-sb', path]).split()[0].decode('utf-8')\n",
    "print(\"mcdw1: \" + mcdw1)\n",
    "path = '/tmp/mcdw10/'\n",
    "mcdw2 = subprocess.check_output(['du','-sb', path]).split()[0].decode('utf-8')\n",
    "print(\"mcdw2: \" + mcdw2)\n",
    "path = '/tmp/mcdw15/'\n",
    "mcdw3 = subprocess.check_output(['du','-sb', path]).split()[0].decode('utf-8')\n",
    "print(\"mcdw3: \" + mcdw3)\n",
    "path = '/tmp/mcdw25/'\n",
    "mcdw4 = subprocess.check_output(['du','-sb', path]).split()[0].decode('utf-8')\n",
    "print(\"mcdw4: \" + mcdw4)\n",
    "#mse\n",
    "mse1=get_ipython().getoutput('python3 -O ../tools/MSE.py -x ../sequences/stockholm/001.png -y /tmp/001new_step5/001.png' )\n",
    "mse1=float(mse1[0])\n",
    "print (mse1)\n",
    "\n",
    "mse2=get_ipython().getoutput('python3 -O ../tools/MSE.py -x ../sequences/stockholm/001.png -y /tmp/001new_step10/001.png' )\n",
    "mse2=float(mse2[0])\n",
    "print (mse2)\n",
    "\n",
    "mse3=get_ipython().getoutput('python3 -O ../tools/MSE.py -x ../sequences/stockholm/001.png -y /tmp/001new_step15/001.png' )\n",
    "mse3=float(mse3[0])\n",
    "print (mse3)\n",
    "\n",
    "mse4=get_ipython().getoutput('python3 -O ../tools/MSE.py -x ../sequences/stockholm/001.png -y /tmp/001new_step25/001.png' )\n",
    "mse4=float(mse4[0])\n",
    "print (mse4)\n",
    "\n",
    "\n",
    "fig = plt.figure()\n",
    "ax = fig.add_subplot(111)\n",
    "ax.plot((mcdw4,mcdw3,mcdw2,mcdw1),(mse4,mse3,mse2,mse1))\n",
    "ax.scatter((mcdw4, mcdw3, mcdw2, mcdw1),(mse4, mse3, mse2, mse1))\n",
    "ax.set_title('deadzone')\n",
    "ax.xaxis.set_label_text('ratebit')\n",
    "ax.yaxis.set_label_text('MSE')\n",
    "ax.grid()\n",
    "plt.show()"
   ]
  },
  {
   "cell_type": "markdown",
   "metadata": {},
   "source": [
    "# Mitread"
   ]
  },
  {
   "cell_type": "code",
   "execution_count": 12,
   "metadata": {},
   "outputs": [
    {
     "name": "stdout",
     "output_type": "stream",
     "text": [
      "this is midtread\n",
      "this is midtread\n",
      "this is midtread\n",
      "this is midtread\n",
      "this is midtread\n",
      "this is midtread\n",
      "this is midtread\n",
      "this is midtread\n",
      "this is midtread\n",
      "this is midtread\n",
      "this is midtread\n",
      "this is midtread\n",
      "this is midtread\n",
      "this is midtread\n",
      "this is midtread\n"
     ]
    }
   ],
   "source": [
    "%%bash\n",
    "for i in $(seq 5 5 25)\n",
    "do \n",
    "q_step=$i\n",
    "predictor=2  \n",
    "select=2\n",
    "# You must be in the ’src’ directory.  \n",
    "rm /tmp/*.png  \n",
    "cp ../sequences/stockholm/*.png /tmp  \n",
    "\n",
    "python3 -O MDWT.py -p /tmp/  \n",
    "python3 -O MCDWT.py -P $predictor -p /tmp/  \n",
    "\n",
    "    \n",
    "#python3 ../tools/show_statistics.py -i /tmp/LH001.png  \n",
    "python3 ../tools/quantize1.py -i /tmp/LH001.png -o /tmp/LH001.png -q $q_step -s $select\n",
    "#python3 ../tools/show_statistics.py -i /tmp/LH001.png  \n",
    "python3 ../tools/quantize1.py -i /tmp/HL001.png -o /tmp/HL001.png -q $q_step -s $select\n",
    "python3 ../tools/quantize1.py -i /tmp/HH001.png -o /tmp/HH001.png -q $q_step -s $select\n",
    " \n",
    "#python3 ../tools/quantize1.py -i /tmp/LH002.png -o /tmp/LH002.png -q $q_step -s $select\n",
    "#python3 ../tools/quantize1.py -i /tmp/HL002.png -o /tmp/HL002.png -q $q_step -s $select\n",
    "#python3 ../tools/quantize1.py -i /tmp/HH002.png -o /tmp/HH002.png -q $q_step -s $select\n",
    " \n",
    "#python3 ../tools/quantize1.py -i /tmp/LH003.png -o /tmp/LH003.png -q $q_step -s $select\n",
    "#python3 ../tools/quantize1.py -i /tmp/HL003.png -o /tmp/HL003.png -q $q_step -s $select\n",
    "#python3 ../tools/quantize1.py -i /tmp/HH003.png -o /tmp/HH003.png -q $q_step -s $select\n",
    "\n",
    "\n",
    "\n",
    "rm -rf /tmp/mcdw$i\n",
    "mkdir /tmp/mcdw$i\n",
    "cp /tmp/LL001.png /tmp/mcdw$i  \n",
    "cp /tmp/LH001.png /tmp/mcdw$i  \n",
    "cp /tmp/HL001.png /tmp/mcdw$i  \n",
    "cp /tmp/HH001.png /tmp/mcdw$i \n",
    "\n",
    "\n",
    "\n",
    "\n",
    "#first_compressed_ratio= calc `wc -c /tmp/org32/*.png | cut -f 1 -d \" \"` / `wc -c /tmp/mcdw32/*.png | cut -f 1 -d \" \"`\n",
    "#compressed_ratio = float(first_compressed_ratio[0][2:])\n",
    "#print \"compressed_ratio=\" compressed_ratio\n",
    "\n",
    "python3 -O MCDWT.py -P $predictor -p /tmp/ -b  \n",
    "python3 -O MDWT.py -p /tmp/ -b  \n",
    " \n",
    "rm -rf /tmp/001new_step$i\n",
    "mkdir /tmp/001new_step$i\n",
    "cp /tmp/*001.png /tmp/001new_step$i\n",
    "\n",
    "done\n"
   ]
  },
  {
   "cell_type": "code",
   "execution_count": 13,
   "metadata": {},
   "outputs": [
    {
     "name": "stdout",
     "output_type": "stream",
     "text": [
      "mcdw1: 2080719\n",
      "mcdw2: 1434933\n",
      "mcdw3: 1189658\n",
      "mcdw4: 913660\n",
      "6.019200981987847\n",
      "10.423470730251736\n",
      "14.525109524197049\n",
      "18.785157606336806\n"
     ]
    },
    {
     "data": {
      "image/png": "[encoded data removed]",
      "text/plain": [
       "<Figure size 432x288 with 1 Axes>"
      ]
     },
     "metadata": {
      "needs_background": "light"
     },
     "output_type": "display_data"
    }
   ],
   "source": [
    "import subprocess\n",
    "import os.path \n",
    "import matplotlib\n",
    "import numpy as np\n",
    "import matplotlib.pyplot as plt\n",
    "import matplotlib.axes as ax\n",
    "import array as arr\n",
    "\n",
    "%matplotlib inline\n",
    "#rate bit\n",
    "path = '/tmp/mcdw5/'\n",
    "mcdw1 = subprocess.check_output(['du','-sb', path]).split()[0].decode('utf-8')\n",
    "print(\"mcdw1: \" + mcdw1)\n",
    "path = '/tmp/mcdw10/'\n",
    "mcdw2 = subprocess.check_output(['du','-sb', path]).split()[0].decode('utf-8')\n",
    "print(\"mcdw2: \" + mcdw2)\n",
    "path = '/tmp/mcdw15/'\n",
    "mcdw3 = subprocess.check_output(['du','-sb', path]).split()[0].decode('utf-8')\n",
    "print(\"mcdw3: \" + mcdw3)\n",
    "path = '/tmp/mcdw25/'\n",
    "mcdw4 = subprocess.check_output(['du','-sb', path]).split()[0].decode('utf-8')\n",
    "print(\"mcdw4: \" + mcdw4)\n",
    "#mse\n",
    "mse1=get_ipython().getoutput('python3 -O ../tools/MSE.py -x ../sequences/stockholm/001.png -y /tmp/001new_step5/001.png' )\n",
    "mse1=float(mse1[0])\n",
    "print (mse1)\n",
    "\n",
    "mse2=get_ipython().getoutput('python3 -O ../tools/MSE.py -x ../sequences/stockholm/001.png -y /tmp/001new_step10/001.png' )\n",
    "mse2=float(mse2[0])\n",
    "print (mse2)\n",
    "\n",
    "mse3=get_ipython().getoutput('python3 -O ../tools/MSE.py -x ../sequences/stockholm/001.png -y /tmp/001new_step15/001.png' )\n",
    "mse3=float(mse3[0])\n",
    "print (mse3)\n",
    "\n",
    "mse4=get_ipython().getoutput('python3 -O ../tools/MSE.py -x ../sequences/stockholm/001.png -y /tmp/001new_step25/001.png' )\n",
    "mse4=float(mse4[0])\n",
    "print (mse4)\n",
    "\n",
    "\n",
    "fig = plt.figure()\n",
    "ax = fig.add_subplot(111)\n",
    "ax.plot((mcdw4,mcdw3,mcdw2,mcdw1),(mse4,mse3,mse2,mse1))\n",
    "ax.scatter((mcdw4, mcdw3, mcdw2, mcdw1),(mse4, mse3, mse2, mse1))\n",
    "ax.set_title('Mitread')\n",
    "ax.xaxis.set_label_text('ratebit')\n",
    "ax.yaxis.set_label_text('MSE')\n",
    "ax.grid()\n",
    "plt.show()"
   ]
  },
  {
   "cell_type": "markdown",
   "metadata": {},
   "source": [
    "# midrise"
   ]
  },
  {
   "cell_type": "code",
   "execution_count": 5,
   "metadata": {},
   "outputs": [
    {
     "name": "stdout",
     "output_type": "stream",
     "text": [
      "this is midrise\n",
      "this is midrise\n",
      "this is midrise\n",
      "this is midrise\n",
      "this is midrise\n",
      "this is midrise\n",
      "this is midrise\n",
      "this is midrise\n",
      "this is midrise\n",
      "this is midrise\n",
      "this is midrise\n",
      "this is midrise\n",
      "this is midrise\n",
      "this is midrise\n",
      "this is midrise\n"
     ]
    }
   ],
   "source": [
    "%%bash\n",
    "for i in $(seq 5 5 25)\n",
    "do \n",
    "q_step=$i\n",
    "predictor=2  \n",
    "select=3\n",
    "# You must be in the ’src’ directory.  \n",
    "rm /tmp/*.png  \n",
    "cp ../sequences/stockholm/*.png /tmp  \n",
    "\n",
    "python3 -O MDWT.py -p /tmp/  \n",
    "python3 -O MCDWT.py -P $predictor -p /tmp/  \n",
    "\n",
    "    \n",
    "#python3 ../tools/show_statistics.py -i /tmp/LH001.png  \n",
    "python3 ../tools/quantize1.py -i /tmp/LH001.png -o /tmp/LH001.png -q $q_step -s $select\n",
    "#python3 ../tools/show_statistics.py -i /tmp/LH001.png  \n",
    "python3 ../tools/quantize1.py -i /tmp/HL001.png -o /tmp/HL001.png -q $q_step -s $select\n",
    "python3 ../tools/quantize1.py -i /tmp/HH001.png -o /tmp/HH001.png -q $q_step -s $select\n",
    " \n",
    "#python3 ../tools/quantize1.py -i /tmp/LH002.png -o /tmp/LH002.png -q $q_step -s $select\n",
    "#python3 ../tools/quantize1.py -i /tmp/HL002.png -o /tmp/HL002.png -q $q_step -s $select\n",
    "#python3 ../tools/quantize1.py -i /tmp/HH002.png -o /tmp/HH002.png -q $q_step -s $select\n",
    " \n",
    "#python3 ../tools/quantize1.py -i /tmp/LH003.png -o /tmp/LH003.png -q $q_step -s $select\n",
    "#python3 ../tools/quantize1.py -i /tmp/HL003.png -o /tmp/HL003.png -q $q_step -s $select\n",
    "#python3 ../tools/quantize1.py -i /tmp/HH003.png -o /tmp/HH003.png -q $q_step -s $select\n",
    "\n",
    "\n",
    "\n",
    "rm -rf /tmp/mcdw$i\n",
    "mkdir /tmp/mcdw$i\n",
    "cp /tmp/LL001.png /tmp/mcdw$i  \n",
    "cp /tmp/LH001.png /tmp/mcdw$i  \n",
    "cp /tmp/HL001.png /tmp/mcdw$i  \n",
    "cp /tmp/HH001.png /tmp/mcdw$i \n",
    "\n",
    "\n",
    "\n",
    "\n",
    "#first_compressed_ratio= calc `wc -c /tmp/org32/*.png | cut -f 1 -d \" \"` / `wc -c /tmp/mcdw32/*.png | cut -f 1 -d \" \"`\n",
    "#compressed_ratio = float(first_compressed_ratio[0][2:])\n",
    "#print \"compressed_ratio=\" compressed_ratio\n",
    "\n",
    "python3 -O MCDWT.py -P $predictor -p /tmp/ -b  \n",
    "python3 -O MDWT.py -p /tmp/ -b  \n",
    " \n",
    "rm -rf /tmp/001new_step$i\n",
    "mkdir /tmp/001new_step$i\n",
    "cp /tmp/*001.png /tmp/001new_step$i\n",
    "\n",
    "done\n"
   ]
  },
  {
   "cell_type": "code",
   "execution_count": 9,
   "metadata": {},
   "outputs": [
    {
     "name": "stdout",
     "output_type": "stream",
     "text": [
      "mcdw1: 2215643\n",
      "mcdw2: 1992944\n",
      "mcdw3: 1929110\n",
      "mcdw4: 1907656\n",
      "9.950406901041667\n",
      "40.42883504231771\n",
      "96.83693339029948\n",
      "293.502842203776\n"
     ]
    },
    {
     "data": {
      "image/png": "[encoded data removed]",
      "text/plain": [
       "<Figure size 432x288 with 1 Axes>"
      ]
     },
     "metadata": {
      "needs_background": "light"
     },
     "output_type": "display_data"
    }
   ],
   "source": [
    "import subprocess\n",
    "import os.path \n",
    "import matplotlib\n",
    "import numpy as np\n",
    "import matplotlib.pyplot as plt\n",
    "import matplotlib.axes as ax\n",
    "import array as arr\n",
    "\n",
    "%matplotlib inline\n",
    "#rate bit\n",
    "path = '/tmp/mcdw5/'\n",
    "mcdw1 = subprocess.check_output(['du','-sb', path]).split()[0].decode('utf-8')\n",
    "print(\"mcdw1: \" + mcdw1)\n",
    "path = '/tmp/mcdw10/'\n",
    "mcdw2 = subprocess.check_output(['du','-sb', path]).split()[0].decode('utf-8')\n",
    "print(\"mcdw2: \" + mcdw2)\n",
    "path = '/tmp/mcdw15/'\n",
    "mcdw3 = subprocess.check_output(['du','-sb', path]).split()[0].decode('utf-8')\n",
    "print(\"mcdw3: \" + mcdw3)\n",
    "path = '/tmp/mcdw25/'\n",
    "mcdw4 = subprocess.check_output(['du','-sb', path]).split()[0].decode('utf-8')\n",
    "print(\"mcdw4: \" + mcdw4)\n",
    "#mse\n",
    "mse1=get_ipython().getoutput('python3 -O ../tools/MSE.py -x ../sequences/stockholm/001.png -y /tmp/001new_step5/001.png' )\n",
    "mse1=float(mse1[0])\n",
    "print (mse1)\n",
    "\n",
    "mse2=get_ipython().getoutput('python3 -O ../tools/MSE.py -x ../sequences/stockholm/001.png -y /tmp/001new_step10/001.png' )\n",
    "mse2=float(mse2[0])\n",
    "print (mse2)\n",
    "\n",
    "mse3=get_ipython().getoutput('python3 -O ../tools/MSE.py -x ../sequences/stockholm/001.png -y /tmp/001new_step15/001.png' )\n",
    "mse3=float(mse3[0])\n",
    "print (mse3)\n",
    "\n",
    "mse4=get_ipython().getoutput('python3 -O ../tools/MSE.py -x ../sequences/stockholm/001.png -y /tmp/001new_step25/001.png' )\n",
    "mse4=float(mse4[0])\n",
    "print (mse4)\n",
    "\n",
    "\n",
    "fig = plt.figure()\n",
    "ax = fig.add_subplot(111)\n",
    "ax.plot((mcdw4,mcdw3,mcdw2,mcdw1),(mse4,mse3,mse2,mse1))\n",
    "ax.scatter((mcdw4, mcdw3, mcdw2, mcdw1),(mse4, mse3, mse2, mse1))\n",
    "ax.set_title('Mitread')\n",
    "ax.xaxis.set_label_text('ratebit')\n",
    "ax.yaxis.set_label_text('MSE')\n",
    "ax.grid()\n",
    "plt.show()"
   ]
  },
  {
   "cell_type": "code",
   "execution_count": null,
   "metadata": {},
   "outputs": [],
   "source": []
  }
 ],
 "metadata": {
  "kernelspec": {
   "display_name": "Python 3",
   "language": "python",
   "name": "python3"
  },
  "language_info": {
   "codemirror_mode": {
    "name": "ipython",
    "version": 3
   },
   "file_extension": ".py",
   "mimetype": "text/x-python",
   "name": "python",
   "nbconvert_exporter": "python",
   "pygments_lexer": "ipython3",
   "version": "3.8.1"
  }
 },
 "nbformat": 4,
 "nbformat_minor": 2
}
