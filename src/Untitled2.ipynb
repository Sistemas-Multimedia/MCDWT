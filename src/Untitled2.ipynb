{
 "cells": [
  {
   "cell_type": "code",
   "execution_count": 10,
   "metadata": {
    "scrolled": false
   },
   "outputs": [
    {
     "ename": "IndentationError",
     "evalue": "expected an indented block (<ipython-input-10-c02c8d28db50>, line 10)",
     "output_type": "error",
     "traceback": [
      "\u001b[0;36m  File \u001b[0;32m\"<ipython-input-10-c02c8d28db50>\"\u001b[0;36m, line \u001b[0;32m10\u001b[0m\n\u001b[0;31m    print(\"Max value at input: {}\".format(np.amax(image)))\u001b[0m\n\u001b[0m        ^\u001b[0m\n\u001b[0;31mIndentationError\u001b[0m\u001b[0;31m:\u001b[0m expected an indented block\n"
     ]
    }
   ],
   "source": [
    " \n",
    "image = tmp.astype(np.int16)\n",
    "\n",
    "if __debug__:\n",
    "print(\"Max value at input: {}\".format(np.amax(image)))\n",
    "print(\"Min value at input: {}\".format(np.amin(image)))\n",
    "\n",
    "image //= args.q_step\n",
    "if __debug__:\n",
    "print(\"Max value at input: {}\".format(np.amax(image)))\n",
    "print(\"Min value at input: {}\".format(np.amin(image)))\n",
    "\n",
    "image *= args.q_step\n",
    "image += ((args.q_step//2)-1)\n",
    "image = args.q_step +  ((args.q_step//2)-1)\n",
    "\n",
    "# Midrise\n",
    "from IPython.display import display, Math, Latex\n",
    "display(Math(r's(nT_s)~~\\lceil s(nT_s)/\\Delta\\rceil ~~s[n]=\\Delta\\times\\lceil s(nT_s)/\\Delta\\rceil~~e(nT_s)=s(nT_s)-s[n]'))\n",
    "for i in range(-16,16):\n",
    "    sample = i\n",
    "    quantized_sample = (i//2)*2+0.5= i/4 +0.5\n",
    "    quantization_error = sample - quantized_sample= i-0i/4 -0.5\n",
    "    sample =i/2\n",
    "    print(\"{:+4d}     {:+3d}           {:>+5}                    {:>+4}\".\\\n",
    "          format(sample, i//2, quantized_sample, quantization_error))\n",
    "display(Math(r'\\text{In this example}, \\Delta=2.0.~\\text{Therefore, for the defined input range}~[-16.0,15.0],\\\n",
    "        \\text{this is a}~q=4\\text{-bits quantizer}~(Q=16).'))"
   ]
  },
  {
   "cell_type": "code",
   "execution_count": null,
   "metadata": {},
   "outputs": [],
   "source": []
  },
  {
   "cell_type": "code",
   "execution_count": null,
   "metadata": {},
   "outputs": [],
   "source": []
  }
 ],
 "metadata": {
  "celltoolbar": "Edit Metadata",
  "kernelspec": {
   "display_name": "Python 3",
   "language": "python",
   "name": "python3"
  },
  "language_info": {
   "codemirror_mode": {
    "name": "ipython",
    "version": 2
   },
   "file_extension": ".py",
   "mimetype": "text/x-python",
   "name": "python",
   "nbconvert_exporter": "python",
   "pygments_lexer": "ipython2",
   "version": "2.7.17"
  }
 },
 "nbformat": 4,
 "nbformat_minor": 2
}
