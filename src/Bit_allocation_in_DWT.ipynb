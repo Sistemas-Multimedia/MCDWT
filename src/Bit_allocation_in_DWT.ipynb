{
 "cells": [
  {
   "cell_type": "markdown",
   "metadata": {},
   "source": [
    "# Bit allocation in 2D decompositions"
   ]
  },
  {
   "cell_type": "markdown",
   "metadata": {},
   "source": [
    "# LL subbund "
   ]
  },
  {
   "cell_type": "code",
   "execution_count": 79,
   "metadata": {},
   "outputs": [
    {
     "name": "stdout",
     "output_type": "stream",
     "text": [
      "this is deadzone\n",
      "this is deadzone\n",
      "this is deadzone\n",
      "this is deadzone\n",
      "this is deadzone\n",
      "this is deadzone\n"
     ]
    }
   ],
   "source": [
    "%%bash\n",
    "for i in $(seq 5 5 30)\n",
    "do \n",
    "q_step=$i\n",
    "select=1\n",
    "# You must be in the ’src’ directory.  \n",
    "rm /tmp/*.png  \n",
    "cp ../sequences/stockholm/*.png /tmp  \n",
    "\n",
    "python3 -O MDWT.py -p /tmp/  \n",
    "\n",
    "\n",
    "python3 ../tools/quantize1.py -i /tmp/LL001.png -o /tmp/LL001.png -q $q_step -s $select    \n",
    " \n",
    "#python3 ../tools/quantize1.py -i /tmp/LH001.png -o /tmp/LH001.png -q $q_step -s $select\n",
    " \n",
    "#python3 ../tools/quantize1.py -i /tmp/HL001.png -o /tmp/HL001.png -q $q_step -s $select\n",
    "#python3 ../tools/quantize1.py -i /tmp/HH001.png -o /tmp/HH001.png -q $q_step -s $select\n",
    " \n",
    "\n",
    "\n",
    "\n",
    "\n",
    "rm -rf /tmp/ll$i\n",
    "mkdir /tmp/ll$i\n",
    "cp /tmp/LL001.png /tmp/ll$i  \n",
    "#rm -rf /tmp/lh$i\n",
    "#mkdir /tmp/lh$i\n",
    "#cp /tmp/LH001.png /tmp/lh$i \n",
    "#rm -rf /tmp/hl$i\n",
    "#mkdir /tmp/hl$i\n",
    "#cp /tmp/HL001.png /tmp/hl$i  \n",
    "#rm -rf /tmp/hh$i\n",
    "#mkdir /tmp/hh$i\n",
    "#cp /tmp/HH001.png /tmp/hh$i \n",
    "\n",
    " \n",
    "python3 -O MDWT.py -p /tmp/ -b  \n",
    " \n",
    "rm -rf /tmp/llstep$i\n",
    "mkdir /tmp/llstep$i\n",
    "cp /tmp/*001.png /tmp/llstep$i\n",
    "\n",
    "done\n"
   ]
  },
  {
   "cell_type": "markdown",
   "metadata": {},
   "source": [
    "# LL Subbund size"
   ]
  },
  {
   "cell_type": "code",
   "execution_count": 80,
   "metadata": {},
   "outputs": [
    {
     "name": "stdout",
     "output_type": "stream",
     "text": [
      "ll1: 616793\n",
      "ll2: 510970\n",
      "ll13: 616793\n",
      "ll4: 403534\n",
      "ll5: 368415\n",
      "ll6: 340943\n"
     ]
    }
   ],
   "source": [
    "import subprocess\n",
    "#rate bit\n",
    "path = '/tmp/ll5/'\n",
    "ll1 = subprocess.check_output(['du','-sb', path]).split()[0].decode('utf-8')\n",
    "print(\"ll1: \" + ll1)\n",
    "path = '/tmp/ll10/'\n",
    "ll2 = subprocess.check_output(['du','-sb', path]).split()[0].decode('utf-8')\n",
    "print(\"ll2: \" + ll2)\n",
    "path = '/tmp/ll15/'\n",
    "ll13 = subprocess.check_output(['du','-sb', path]).split()[0].decode('utf-8')\n",
    "print(\"ll13: \" + ll3)\n",
    "path = '/tmp/ll20/'\n",
    "ll4 = subprocess.check_output(['du','-sb', path]).split()[0].decode('utf-8')\n",
    "print(\"ll4: \" + ll4)\n",
    "\n",
    "path = '/tmp/ll25/'\n",
    "ll5 = subprocess.check_output(['du','-sb', path]).split()[0].decode('utf-8')\n",
    "print(\"ll5: \" + ll5)\n",
    "\n",
    "path = '/tmp/ll30/'\n",
    "ll6 = subprocess.check_output(['du','-sb', path]).split()[0].decode('utf-8')\n",
    "print(\"ll6: \" + ll6)\n",
    "\n",
    "#path = '/tmp/ll9/'\n",
    "#ll9 = subprocess.check_output(['du','-sb', path]).split()[0].decode('utf-8')\n",
    "#print(\"ll9: \" + ll9)\n",
    "#path = '/tmp/ll10/'\n",
    "#ll10 = subprocess.check_output(['du','-sb', path]).split()[0].decode('utf-8')\n",
    "#print(\"ll10: \" + ll10)\n",
    "\n"
   ]
  },
  {
   "cell_type": "markdown",
   "metadata": {},
   "source": [
    "# MSE when LL subbund quantized"
   ]
  },
  {
   "cell_type": "code",
   "execution_count": 81,
   "metadata": {},
   "outputs": [
    {
     "name": "stdout",
     "output_type": "stream",
     "text": [
      "3.3529615614149306\n",
      "9.258255683051216\n",
      "18.347664048936632\n",
      "30.581135728624133\n",
      "46.11414591471354\n",
      "64.75148586697048\n"
     ]
    }
   ],
   "source": [
    "#mse\n",
    "mse1=get_ipython().getoutput('python3 -O ../tools/MSE.py -x ../sequences/stockholm/001.png -y /tmp/llstep5/001.png' )\n",
    "llmse1=float(mse1[0])\n",
    "print (llmse1)\n",
    "\n",
    "mse2=get_ipython().getoutput('python3 -O ../tools/MSE.py -x ../sequences/stockholm/001.png -y /tmp/llstep10/001.png' )\n",
    "llmse2=float(mse2[0])\n",
    "print (llmse2)\n",
    "\n",
    "mse3=get_ipython().getoutput('python3 -O ../tools/MSE.py -x ../sequences/stockholm/001.png -y /tmp/llstep15/001.png' )\n",
    "llmse3=float(mse3[0])\n",
    "print (llmse3)\n",
    "\n",
    "mse4=get_ipython().getoutput('python3 -O ../tools/MSE.py -x ../sequences/stockholm/001.png -y /tmp/llstep20/001.png' )\n",
    "llmse4=float(mse4[0])\n",
    "print (llmse4)\n",
    "\n",
    "mse5=get_ipython().getoutput('python3 -O ../tools/MSE.py -x ../sequences/stockholm/001.png -y /tmp/llstep25/001.png' )\n",
    "llmse5=float(mse5[0])\n",
    "print (llmse5)\n",
    "\n",
    "mse6=get_ipython().getoutput('python3 -O ../tools/MSE.py -x ../sequences/stockholm/001.png -y /tmp/llstep30/001.png' )\n",
    "llmse6=float(mse6[0])\n",
    "print (llmse6)\n",
    "\n",
    "#mse7=get_ipython().getoutput('python3 -O ../tools/MSE.py -x ../sequences/stockholm/001.png -y /tmp/llstep9/001.png' )\n",
    "#llmse7=float(mse7[0])\n",
    "#print (llmse7)\n",
    "\n",
    "#mse8=get_ipython().getoutput('python3 -O ../tools/MSE.py -x ../sequences/stockholm/001.png -y /tmp/llstep10/001.png' )\n",
    "#llmse8=float(mse8[0])\n",
    "#print (llmse8)"
   ]
  },
  {
   "cell_type": "markdown",
   "metadata": {},
   "source": [
    "# LH subund"
   ]
  },
  {
   "cell_type": "code",
   "execution_count": 18,
   "metadata": {},
   "outputs": [
    {
     "name": "stdout",
     "output_type": "stream",
     "text": [
      "this is deadzone\n",
      "this is deadzone\n",
      "this is deadzone\n",
      "this is deadzone\n",
      "this is deadzone\n",
      "this is deadzone\n"
     ]
    }
   ],
   "source": [
    "%%bash\n",
    "for i in $(seq 5 5 30)\n",
    "do \n",
    "q_step=$i\n",
    "select=1\n",
    "# You must be in the ’src’ directory.  \n",
    "rm /tmp/*.png  \n",
    "cp ../sequences/stockholm/*.png /tmp  \n",
    "\n",
    "python3 -O MDWT.py -p /tmp/  \n",
    "\n",
    "\n",
    "#python3 ../tools/quantize1.py -i /tmp/LL001.png -o /tmp/LL001.png -q $q_step -s $select    \n",
    " \n",
    "python3 ../tools/quantize1.py -i /tmp/LH001.png -o /tmp/LH001.png -q $q_step -s $select\n",
    " \n",
    "#python3 ../tools/quantize1.py -i /tmp/HL001.png -o /tmp/HL001.png -q $q_step -s $select\n",
    "#python3 ../tools/quantize1.py -i /tmp/HH001.png -o /tmp/HH001.png -q $q_step -s $select\n",
    " \n",
    "\n",
    "\n",
    "\n",
    "\n",
    "#rm -rf /tmp/ll$i\n",
    "#mkdir /tmp/ll$i\n",
    "#cp /tmp/LL001.png /tmp/ll$i  \n",
    "rm -rf /tmp/lh$i\n",
    "mkdir /tmp/lh$i\n",
    "cp /tmp/LH001.png /tmp/lh$i \n",
    "#rm -rf /tmp/hl$i\n",
    "#mkdir /tmp/hl$i\n",
    "#cp /tmp/HL001.png /tmp/hl$i  \n",
    "#rm -rf /tmp/hh$i\n",
    "#mkdir /tmp/hh$i\n",
    "#cp /tmp/HH001.png /tmp/hh$i \n",
    "\n",
    " \n",
    "python3 -O MDWT.py -p /tmp/ -b  \n",
    " \n",
    "rm -rf /tmp/lhstep$i\n",
    "mkdir /tmp/lhstep$i\n",
    "cp /tmp/*001.png /tmp/lhstep$i\n",
    "\n",
    "done\n"
   ]
  },
  {
   "cell_type": "code",
   "execution_count": 24,
   "metadata": {},
   "outputs": [
    {
     "name": "stdout",
     "output_type": "stream",
     "text": [
      "lh1: 405426\n",
      "lh2: 179840\n",
      "lh3: 86534\n",
      "lh4: 48703\n",
      "lh5: 31444\n",
      "lh6: 22138\n"
     ]
    }
   ],
   "source": [
    "import subprocess\n",
    "#rate bit\n",
    "path = '/tmp/lh5/'\n",
    "lh1 = subprocess.check_output(['du','-sb', path]).split()[0].decode('utf-8')\n",
    "print(\"lh1: \" + lh1)\n",
    "\n",
    "path = '/tmp/lh10/'\n",
    "lh2 = subprocess.check_output(['du','-sb', path]).split()[0].decode('utf-8')\n",
    "print(\"lh2: \" + lh2)\n",
    "\n",
    "path = '/tmp/lh15/'\n",
    "lh3 = subprocess.check_output(['du','-sb', path]).split()[0].decode('utf-8')\n",
    "print(\"lh3: \" + lh3)\n",
    "\n",
    "path = '/tmp/lh20/'\n",
    "lh4 = subprocess.check_output(['du','-sb', path]).split()[0].decode('utf-8')\n",
    "print(\"lh4: \" + lh4)\n",
    "\n",
    "path = '/tmp/lh25/'\n",
    "lh5 = subprocess.check_output(['du','-sb', path]).split()[0].decode('utf-8')\n",
    "print(\"lh5: \" + lh5)\n",
    "\n",
    "path = '/tmp/lh30/'\n",
    "lh6 = subprocess.check_output(['du','-sb', path]).split()[0].decode('utf-8')\n",
    "print(\"lh6: \" + lh6)\n",
    "#path = '/tmp/lh9/'\n",
    "#lh90 = subprocess.check_output(['du','-sb', path]).split()[0].decode('utf-8')\n",
    "#print(\"lh9: \" + lh9)\n",
    "#path = '/tmp/lh10/'\n",
    "#lh100 = subprocess.check_output(['du','-sb', path]).split()[0].decode('utf-8')\n",
    "#print(\"lh10: \" + lh10)"
   ]
  },
  {
   "cell_type": "markdown",
   "metadata": {},
   "source": [
    "\n",
    "# MSE of LH subbund quantized"
   ]
  },
  {
   "cell_type": "code",
   "execution_count": 25,
   "metadata": {},
   "outputs": [
    {
     "name": "stdout",
     "output_type": "stream",
     "text": [
      "2.379703097873264\n",
      "6.164427693684896\n",
      "10.271664428710938\n",
      "14.0368408203125\n",
      "16.9120361328125\n",
      "19.732042778862848\n"
     ]
    }
   ],
   "source": [
    "#mse\n",
    "mse1=get_ipython().getoutput('python3 -O ../tools/MSE.py -x ../sequences/stockholm/001.png -y /tmp/lhstep5/001.png' )\n",
    "lhmse1=float(mse1[0])\n",
    "print (lhmse1)\n",
    "\n",
    "mse2=get_ipython().getoutput('python3 -O ../tools/MSE.py -x ../sequences/stockholm/001.png -y /tmp/lhstep10/001.png' )\n",
    "lhmse2=float(mse2[0])\n",
    "print (lhmse2)\n",
    "\n",
    "mse3=get_ipython().getoutput('python3 -O ../tools/MSE.py -x ../sequences/stockholm/001.png -y /tmp/lhstep15/001.png' )\n",
    "lhmse3=float(mse3[0])\n",
    "print (lhmse3)\n",
    "\n",
    "mse4=get_ipython().getoutput('python3 -O ../tools/MSE.py -x ../sequences/stockholm/001.png -y /tmp/lhstep20/001.png' )\n",
    "lhmse4=float(mse4[0])\n",
    "print (lhmse4)\n",
    "\n",
    "mse5=get_ipython().getoutput('python3 -O ../tools/MSE.py -x ../sequences/stockholm/001.png -y /tmp/lhstep25/001.png' )\n",
    "lhmse5=float(mse5[0])\n",
    "print (lhmse5)\n",
    "\n",
    "mse6=get_ipython().getoutput('python3 -O ../tools/MSE.py -x ../sequences/stockholm/001.png -y /tmp/lhstep30/001.png' )\n",
    "lhmse6=float(mse6[0])\n",
    "print (lhmse6)\n",
    "\n",
    "#mse7=get_ipython().getoutput('python3 -O ../tools/MSE.py -x ../sequences/stockholm/001.png -y /tmp/lhstep90/001.png' )\n",
    "#lhmse7=float(mse7[0])\n",
    "#print (lhmse7)\n",
    "\n",
    "#mse8=get_ipython().getoutput('python3 -O ../tools/MSE.py -x ../sequences/stockholm/001.png -y /tmp/lhstep100/001.png' )\n",
    "#lhmse8=float(mse8[0])\n",
    "#print (lhmse8)"
   ]
  },
  {
   "cell_type": "markdown",
   "metadata": {},
   "source": [
    "# HL subbund"
   ]
  },
  {
   "cell_type": "code",
   "execution_count": 26,
   "metadata": {},
   "outputs": [
    {
     "name": "stdout",
     "output_type": "stream",
     "text": [
      "this is deadzone\n",
      "this is deadzone\n",
      "this is deadzone\n",
      "this is deadzone\n",
      "this is deadzone\n",
      "this is deadzone\n"
     ]
    }
   ],
   "source": [
    "%%bash\n",
    "for i in $(seq 5 5 30)\n",
    "do \n",
    "q_step=$i\n",
    "select=1\n",
    "# You must be in the ’src’ directory.  \n",
    "rm /tmp/*.png  \n",
    "cp ../sequences/stockholm/*.png /tmp  \n",
    "\n",
    "python3 -O MDWT.py -p /tmp/  \n",
    "\n",
    "\n",
    "#python3 ../tools/quantize1.py -i /tmp/LL001.png -o /tmp/LL001.png -q $q_step -s $select    \n",
    " \n",
    "#python3 ../tools/quantize1.py -i /tmp/LH001.png -o /tmp/LH001.png -q $q_step -s $select\n",
    " \n",
    "python3 ../tools/quantize1.py -i /tmp/HL001.png -o /tmp/HL001.png -q $q_step -s $select\n",
    "#python3 ../tools/quantize1.py -i /tmp/HH001.png -o /tmp/HH001.png -q $q_step -s $select\n",
    " \n",
    "\n",
    "\n",
    "\n",
    "\n",
    "#rm -rf /tmp/ll$i\n",
    "#mkdir /tmp/ll$i\n",
    "#cp /tmp/LL001.png /tmp/ll$i  \n",
    "\n",
    "#rm -rf /tmp/lh$i\n",
    "#mkdir /tmp/lh$i\n",
    "#cp /tmp/LH001.png /tmp/lh$i \n",
    "\n",
    "rm -rf /tmp/hl$i\n",
    "mkdir /tmp/hl$i\n",
    "cp /tmp/HL001.png /tmp/hl$i  \n",
    "\n",
    "#rm -rf /tmp/hh$i\n",
    "#mkdir /tmp/hh$i\n",
    "#cp /tmp/HH001.png /tmp/hh$i \n",
    "\n",
    " \n",
    "python3 -O MDWT.py -p /tmp/ -b  \n",
    " \n",
    "rm -rf /tmp/hlstep$i\n",
    "mkdir /tmp/hlstep$i\n",
    "cp /tmp/*001.png /tmp/hlstep$i\n",
    "\n",
    "done\n"
   ]
  },
  {
   "cell_type": "code",
   "execution_count": 28,
   "metadata": {},
   "outputs": [
    {
     "name": "stdout",
     "output_type": "stream",
     "text": [
      "hl1: 348942\n",
      "hl2: 96152\n",
      "hl3: 36783\n",
      "hl4: 19841\n",
      "hl5: 12959\n",
      "hl6: 22138\n"
     ]
    }
   ],
   "source": [
    "#rate bit\n",
    "path = '/tmp/hl5/'\n",
    "hl1 = subprocess.check_output(['du','-sb', path]).split()[0].decode('utf-8')\n",
    "print(\"hl1: \" + hl1)\n",
    "path = '/tmp/hl10/'\n",
    "hl2 = subprocess.check_output(['du','-sb', path]).split()[0].decode('utf-8')\n",
    "print(\"hl2: \" + hl2)\n",
    "path = '/tmp/hl15/'\n",
    "hl3 = subprocess.check_output(['du','-sb', path]).split()[0].decode('utf-8')\n",
    "print(\"hl3: \" + hl3)\n",
    "path = '/tmp/hl20/'\n",
    "hl4 = subprocess.check_output(['du','-sb', path]).split()[0].decode('utf-8')\n",
    "print(\"hl4: \" + hl4)\n",
    "\n",
    "path = '/tmp/hl25/'\n",
    "hl5 = subprocess.check_output(['du','-sb', path]).split()[0].decode('utf-8')\n",
    "print(\"hl5: \" + hl5)\n",
    "\n",
    "path = '/tmp/lh30/'\n",
    "hl6 = subprocess.check_output(['du','-sb', path]).split()[0].decode('utf-8')\n",
    "print(\"hl6: \" + hl6)\n",
    "\n",
    "#path = '/tmp/lh90/'\n",
    "#hl90 = subprocess.check_output(['du','-sb', path]).split()[0].decode('utf-8')\n",
    "#print(\"hl90: \" + hl90)\n",
    "#path = '/tmp/lh100/'\n",
    "#hl100 = subprocess.check_output(['du','-sb', path]).split()[0].decode('utf-8')\n",
    "#print(\"hl100: \" + hl100)"
   ]
  },
  {
   "cell_type": "markdown",
   "metadata": {},
   "source": [
    "# MSE of HL subbund quantized"
   ]
  },
  {
   "cell_type": "code",
   "execution_count": 29,
   "metadata": {},
   "outputs": [
    {
     "name": "stdout",
     "output_type": "stream",
     "text": [
      "2.5259063720703123\n",
      "6.157445610894097\n",
      "8.776461113823785\n",
      "10.588402981228299\n",
      "11.791659545898437\n",
      "12.530775282118055\n"
     ]
    }
   ],
   "source": [
    "#mse\n",
    "mse1=get_ipython().getoutput('python3 -O ../tools/MSE.py -x ../sequences/stockholm/001.png -y /tmp/hlstep5/001.png' )\n",
    "hlmse1=float(mse1[0])\n",
    "print (hlmse1)\n",
    "\n",
    "mse2=get_ipython().getoutput('python3 -O ../tools/MSE.py -x ../sequences/stockholm/001.png -y /tmp/hlstep10/001.png' )\n",
    "hlmse2=float(mse2[0])\n",
    "print (hlmse2)\n",
    "\n",
    "mse3=get_ipython().getoutput('python3 -O ../tools/MSE.py -x ../sequences/stockholm/001.png -y /tmp/hlstep15/001.png' )\n",
    "hlmse3=float(mse3[0])\n",
    "print (hlmse3)\n",
    "\n",
    "mse4=get_ipython().getoutput('python3 -O ../tools/MSE.py -x ../sequences/stockholm/001.png -y /tmp/hlstep20/001.png' )\n",
    "hlmse4=float(mse4[0])\n",
    "print (hlmse4)\n",
    "\n",
    "mse5=get_ipython().getoutput('python3 -O ../tools/MSE.py -x ../sequences/stockholm/001.png -y /tmp/hlstep25/001.png' )\n",
    "hlmse5=float(mse5[0])\n",
    "print (hlmse5)\n",
    "\n",
    "mse6=get_ipython().getoutput('python3 -O ../tools/MSE.py -x ../sequences/stockholm/001.png -y /tmp/hlstep30/001.png' )\n",
    "hlmse6=float(mse6[0])\n",
    "print (hlmse6)\n",
    "\n",
    "#mse7=get_ipython().getoutput('python3 -O ../tools/MSE.py -x ../sequences/stockholm/001.png -y /tmp/hlstep90/001.png' )\n",
    "#hlmse7=float(mse7[0])\n",
    "#print (hlmse7)\n",
    "\n",
    "#mse8=get_ipython().getoutput('python3 -O ../tools/MSE.py -x ../sequences/stockholm/001.png -y /tmp/hlstep100/001.png' )\n",
    "#hlmse8=float(mse8[0])\n",
    "#print (hlmse8)"
   ]
  },
  {
   "cell_type": "markdown",
   "metadata": {},
   "source": [
    "# HH subbund"
   ]
  },
  {
   "cell_type": "code",
   "execution_count": 30,
   "metadata": {},
   "outputs": [
    {
     "name": "stdout",
     "output_type": "stream",
     "text": [
      "this is deadzone\n",
      "this is deadzone\n",
      "this is deadzone\n",
      "this is deadzone\n",
      "this is deadzone\n",
      "this is deadzone\n"
     ]
    }
   ],
   "source": [
    "%%bash\n",
    "for i in $(seq 5 5 30)\n",
    "do \n",
    "q_step=$i\n",
    "select=1\n",
    "# You must be in the ’src’ directory.  \n",
    "rm /tmp/*.png  \n",
    "cp ../sequences/stockholm/*.png /tmp  \n",
    "\n",
    "python3 -O MDWT.py -p /tmp/  \n",
    "\n",
    "\n",
    "#python3 ../tools/quantize1.py -i /tmp/LL001.png -o /tmp/LL001.png -q $q_step -s $select    \n",
    " \n",
    "#python3 ../tools/quantize1.py -i /tmp/LH001.png -o /tmp/LH001.png -q $q_step -s $select\n",
    " \n",
    "#python3 ../tools/quantize1.py -i /tmp/HL001.png -o /tmp/HL001.png -q $q_step -s $select\n",
    "python3 ../tools/quantize1.py -i /tmp/HH001.png -o /tmp/HH001.png -q $q_step -s $select\n",
    " \n",
    "\n",
    "\n",
    "\n",
    "\n",
    "#rm -rf /tmp/ll$i\n",
    "#mkdir /tmp/ll$i\n",
    "#cp /tmp/LL001.png /tmp/ll$i  \n",
    "\n",
    "#rm -rf /tmp/lh$i\n",
    "#mkdir /tmp/lh$i\n",
    "#cp /tmp/LH001.png /tmp/lh$i \n",
    "\n",
    "#rm -rf /tmp/hl$i\n",
    "#mkdir /tmp/hl$i\n",
    "#cp /tmp/HL001.png /tmp/hl$i  \n",
    "\n",
    "rm -rf /tmp/hh$i\n",
    "mkdir /tmp/hh$i\n",
    "cp /tmp/HH001.png /tmp/hh$i \n",
    "\n",
    " \n",
    "python3 -O MDWT.py -p /tmp/ -b  \n",
    " \n",
    "rm -rf /tmp/hhstep$i\n",
    "mkdir /tmp/hhstep$i\n",
    "cp /tmp/*001.png /tmp/hhstep$i\n",
    "\n",
    "done\n"
   ]
  },
  {
   "cell_type": "code",
   "execution_count": 31,
   "metadata": {},
   "outputs": [
    {
     "name": "stdout",
     "output_type": "stream",
     "text": [
      "hh1: 33385\n",
      "hh2: 7958\n",
      "hh3: 7194\n",
      "hh4: 7012\n",
      "hh5: 6960\n",
      "hh6: 6960\n"
     ]
    }
   ],
   "source": [
    "import subprocess\n",
    "#rate bit\n",
    "path = '/tmp/hh5/'\n",
    "hh1 = subprocess.check_output(['du','-sb', path]).split()[0].decode('utf-8')\n",
    "print(\"hh1: \" + hh1)\n",
    "\n",
    "path = '/tmp/hh10/'\n",
    "hh2 = subprocess.check_output(['du','-sb', path]).split()[0].decode('utf-8')\n",
    "print(\"hh2: \" + hh2)\n",
    "\n",
    "path = '/tmp/hh15/'\n",
    "hh3 = subprocess.check_output(['du','-sb', path]).split()[0].decode('utf-8')\n",
    "print(\"hh3: \" + hh3)\n",
    "\n",
    "path = '/tmp/hh20/'\n",
    "hh4 = subprocess.check_output(['du','-sb', path]).split()[0].decode('utf-8')\n",
    "print(\"hh4: \" + hh4)\n",
    "\n",
    "path = '/tmp/hh25/'\n",
    "hh5 = subprocess.check_output(['du','-sb', path]).split()[0].decode('utf-8')\n",
    "print(\"hh5: \" + hh5)\n",
    "\n",
    "path = '/tmp/hh30/'\n",
    "hh6 = subprocess.check_output(['du','-sb', path]).split()[0].decode('utf-8')\n",
    "print(\"hh6: \" + hh6)\n",
    "\n",
    "#path = '/tmp/hh90/'\n",
    "#hh90 = subprocess.check_output(['du','-sb', path]).split()[0].decode('utf-8')\n",
    "#print(\"hh90: \" + hh90)\n",
    "#path = '/tmp/hh100/'\n",
    "#hh100 = subprocess.check_output(['du','-sb', path]).split()[0].decode('utf-8')\n",
    "#print(\"hh100: \" + hh100)"
   ]
  },
  {
   "cell_type": "markdown",
   "metadata": {},
   "source": [
    "# MSE of HH quantized"
   ]
  },
  {
   "cell_type": "code",
   "execution_count": 33,
   "metadata": {},
   "outputs": [
    {
     "name": "stdout",
     "output_type": "stream",
     "text": [
      "3.258341810438368\n",
      "3.703915066189236\n",
      "3.7531619601779513\n",
      "3.769461737738715\n",
      "3.777254570855035\n",
      "3.777254570855035\n"
     ]
    }
   ],
   "source": [
    "#mse\n",
    "mse1=get_ipython().getoutput('python3 -O ../tools/MSE.py -x ../sequences/stockholm/001.png -y /tmp/hhstep5/001.png' )\n",
    "hhmse1=float(mse1[0])\n",
    "print (hhmse1)\n",
    "\n",
    "mse2=get_ipython().getoutput('python3 -O ../tools/MSE.py -x ../sequences/stockholm/001.png -y /tmp/hhstep10/001.png' )\n",
    "hhmse2=float(mse2[0])\n",
    "print (hhmse2)\n",
    "\n",
    "mse3=get_ipython().getoutput('python3 -O ../tools/MSE.py -x ../sequences/stockholm/001.png -y /tmp/hhstep15/001.png' )\n",
    "hhmse3=float(mse3[0])\n",
    "print (hhmse3)\n",
    "\n",
    "mse4=get_ipython().getoutput('python3 -O ../tools/MSE.py -x ../sequences/stockholm/001.png -y /tmp/hhstep20/001.png' )\n",
    "hhmse4=float(mse4[0])\n",
    "print (hhmse4)\n",
    "\n",
    "mse5=get_ipython().getoutput('python3 -O ../tools/MSE.py -x ../sequences/stockholm/001.png -y /tmp/hhstep25/001.png' )\n",
    "hhmse5=float(mse5[0])\n",
    "print (hhmse5)\n",
    "\n",
    "mse6=get_ipython().getoutput('python3 -O ../tools/MSE.py -x ../sequences/stockholm/001.png -y /tmp/hhstep30/001.png' )\n",
    "hhmse6=float(mse6[0])\n",
    "print (hhmse6)\n",
    "\n",
    "#mse7=get_ipython().getoutput('python3 -O ../tools/MSE.py -x ../sequences/stockholm/001.png -y /tmp/hhstep90/001.png' )\n",
    "#hhmse7=float(mse7[0])\n",
    "#print (hhmse7)\n",
    "\n",
    "#mse8=get_ipython().getoutput('python3 -O ../tools/MSE.py -x ../sequences/stockholm/001.png -y /tmp/hhstep100/001.png' )\n",
    "#hhmse8=float(mse8[0])\n",
    "#print (hhmse8)\n"
   ]
  },
  {
   "cell_type": "code",
   "execution_count": 66,
   "metadata": {},
   "outputs": [
    {
     "data": {
      "image/png": "[encoded data removed]",
      "text/plain": [
       "<Figure size 432x288 with 1 Axes>"
      ]
     },
     "metadata": {
      "needs_background": "light"
     },
     "output_type": "display_data"
    }
   ],
   "source": [
    "import numpy as np\n",
    "import matplotlib.pyplot as plt\n",
    "C = 4 # Number of curves\n",
    "# Lists of operational RD (Rate/Distortion) points\n",
    "curve = [None]*C\n",
    "curve[0] = [(float(ll1),llmse1), (float(ll2),llmse2),  (float(ll4),llmse4), \n",
    "           (float(ll5),llmse5), (float(ll6),llmse6)]#,(float(ll90),llmse7),(float(ll100),llmse8)] \n",
    "\n",
    "curve[1] = [(float(lh1),lhmse1), (float(lh2),lhmse2), (float(lh3),lhmse3), (float(lh4),lhmse4),\n",
    "           (float(lh5),lhmse5)]#, (float(lh6),lhmse6)]#,(float(lh7),lhmse7),(float(lh100),lhmse8)]\n",
    "\n",
    "curve[2] = [(float(hl1),hlmse1), (float(hl2),hlmse2), (float(hl3),hlmse3), (float(hl4),hlmse4),\n",
    "            (float(hl5),hlmse5)]#, (float(hl6),hlmse6)]#,(float(hl90),hlmse7),(float(hl100),hlmse8)]\n",
    "\n",
    "curve[3] = [(float(hh1),hhmse1), (float(hh2),hhmse2), (float(hh3),hhmse3), (float(hh4),hhmse4),\n",
    "            (float(hh5),hhmse5)]#, (float(hh6),hhmse6)]#,(float(hh90),hhmse7),(float(hh100),hhmse8)]\n",
    "\n",
    "for c in range(4):\n",
    "    plt.scatter(*zip(*curve[c]))\n",
    "plt.show()"
   ]
  },
  {
   "cell_type": "code",
   "execution_count": 71,
   "metadata": {},
   "outputs": [
    {
     "name": "stdout",
     "output_type": "stream",
     "text": [
      "[(5.580350322364972e-05, 105823.0, 0), (0.00019847053171723552, 107436.0, 0), (0.0004422964829889634, 35119.0, 0), (0.0006784121997763884, 27472.0, 0)]\n",
      "[(1.677730265092529e-05, 225586.0, 1), (4.401899915360258e-05, 93306.0, 1), (9.952621901619207e-05, 37831.0, 1), (0.00016659107204936547, 17259.0, 1)]\n",
      "[(1.4365834245119604e-05, 252790.0, 2), (4.411419264144062e-05, 59369.0, 2), (0.00010694970295151184, 16942.0, 2), (0.00017484111663326618, 6882.0, 2)]\n",
      "[(1.7523626686233846e-05, 25427.0, 3), (6.445928532554343e-05, 764.0, 3), (8.955921736683428e-05, 182.0, 3), (0.00014986217531384098, 52.0, 3)]\n"
     ]
    }
   ],
   "source": [
    "slopes = [None]*C\n",
    "for c in range(C):\n",
    "    # Slopes of each pair of points\n",
    "    slopes[c] = [] \n",
    "    for i in range(len(curve[c])-1):\n",
    "        distortion_decrease = curve[c][i+1][1] - curve[c][i][1]\n",
    "        rate_increase = curve[c][i][0] - curve[c][i+1][0]\n",
    "        slope = distortion_decrease/rate_increase\n",
    "        slopes[c].append((slope, rate_increase, c))\n",
    "    print(slopes[c])"
   ]
  },
  {
   "cell_type": "code",
   "execution_count": 72,
   "metadata": {},
   "outputs": [
    {
     "name": "stdout",
     "output_type": "stream",
     "text": [
      "[(5.580350322364972e-05, 105823.0, 0), (0.00019847053171723552, 107436.0, 0), (0.0004422964829889634, 35119.0, 0), (0.0006784121997763884, 27472.0, 0), (1.677730265092529e-05, 225586.0, 1), (4.401899915360258e-05, 93306.0, 1), (9.952621901619207e-05, 37831.0, 1), (0.00016659107204936547, 17259.0, 1), (1.4365834245119604e-05, 252790.0, 2), (4.411419264144062e-05, 59369.0, 2), (0.00010694970295151184, 16942.0, 2), (0.00017484111663326618, 6882.0, 2), (1.7523626686233846e-05, 25427.0, 3), (6.445928532554343e-05, 764.0, 3), (8.955921736683428e-05, 182.0, 3), (0.00014986217531384098, 52.0, 3)]\n"
     ]
    }
   ],
   "source": [
    "\n",
    "total_slopes = []\n",
    "for c in range(C):\n",
    "    total_slopes += slopes[c]\n",
    "print(total_slopes)"
   ]
  },
  {
   "cell_type": "code",
   "execution_count": 73,
   "metadata": {},
   "outputs": [
    {
     "name": "stdout",
     "output_type": "stream",
     "text": [
      "[(0.0006784121997763884, 27472.0, 0), (0.0004422964829889634, 35119.0, 0), (0.00019847053171723552, 107436.0, 0), (0.00017484111663326618, 6882.0, 2), (0.00016659107204936547, 17259.0, 1), (0.00014986217531384098, 52.0, 3), (0.00010694970295151184, 16942.0, 2), (9.952621901619207e-05, 37831.0, 1), (8.955921736683428e-05, 182.0, 3), (6.445928532554343e-05, 764.0, 3), (5.580350322364972e-05, 105823.0, 0), (4.411419264144062e-05, 59369.0, 2), (4.401899915360258e-05, 93306.0, 1), (1.7523626686233846e-05, 25427.0, 3), (1.677730265092529e-05, 225586.0, 1), (1.4365834245119604e-05, 252790.0, 2)]\n"
     ]
    }
   ],
   "source": [
    "sorted_slopes = sorted(total_slopes, key=lambda tup: tup[0])[::-1]\n",
    "print(sorted_slopes)"
   ]
  },
  {
   "cell_type": "code",
   "execution_count": 78,
   "metadata": {},
   "outputs": [
    {
     "name": "stdout",
     "output_type": "stream",
     "text": [
      "Optimal progression of RD points = [(0.0006784121997763884, 27472.0, 0), (0.0004422964829889634, 35119.0, 0), (0.00019847053171723552, 107436.0, 0), (0.00017484111663326618, 6882.0, 2), (0.00016659107204936547, 17259.0, 1), (0.00014986217531384098, 52.0, 3), (0.00010694970295151184, 16942.0, 2), (9.952621901619207e-05, 37831.0, 1), (8.955921736683428e-05, 182.0, 3), (6.445928532554343e-05, 764.0, 3), (5.580350322364972e-05, 105823.0, 0), (4.411419264144062e-05, 59369.0, 2), (4.401899915360258e-05, 93306.0, 1), (1.7523626686233846e-05, 25427.0, 3), (1.677730265092529e-05, 225586.0, 1)]\n",
      "Achieved rate = 759450.0\n",
      "Rate for curve 0 = 275850.0\n",
      "Rate for curve 1 = 373982.0\n",
      "Rate for curve 2 = 83193.0\n",
      "Rate for curve 3 = 26425.0\n"
     ]
    }
   ],
   "source": [
    "R = 1000000 # Bit budget\n",
    "spent_br = 0 # Spent bit rate\n",
    "i = 0\n",
    "optimal_progression = []\n",
    "while True:\n",
    "    spent_br += sorted_slopes[i][1]\n",
    "    if spent_br < R:\n",
    "        optimal_progression.append(sorted_slopes[i])\n",
    "    else:\n",
    "        break\n",
    "    i += 1\n",
    "print(\"Optimal progression of RD points =\", optimal_progression)\n",
    "br = sum([i[1] for i in optimal_progression])\n",
    "print(\"Achieved rate =\", br)\n",
    "for c in range(C): # 2 = two curves\n",
    "    br = sum([i[1] for i in optimal_progression if i[2] == c])\n",
    "    print(\"Rate for curve {} = {}\".format(c,br))"
   ]
  },
  {
   "cell_type": "code",
   "execution_count": null,
   "metadata": {},
   "outputs": [],
   "source": []
  }
 ],
 "metadata": {
  "kernelspec": {
   "display_name": "Python 3",
   "language": "python",
   "name": "python3"
  },
  "language_info": {
   "codemirror_mode": {
    "name": "ipython",
    "version": 3
   },
   "file_extension": ".py",
   "mimetype": "text/x-python",
   "name": "python",
   "nbconvert_exporter": "python",
   "pygments_lexer": "ipython3",
   "version": "3.8.1"
  }
 },
 "nbformat": 4,
 "nbformat_minor": 4
}
