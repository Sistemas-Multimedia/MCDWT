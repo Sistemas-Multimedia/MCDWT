{
 "cells": [
  {
   "cell_type": "code",
   "execution_count": 1,
   "metadata": {},
   "outputs": [
    {
     "name": "stdout",
     "output_type": "stream",
     "text": [
      "this is deadzone\n",
      "this is deadzone\n",
      "this is deadzone\n",
      "IO::decomposition::readL: warning: subband /tmp/mcdw32LL000.png does not exist\n",
      "IO::decomposition::readL: warning: subband /tmp/mcdw32LL000.png does not exist\n",
      "IO::decomposition::readH: warning: subband /tmp/mcdw32LH000.png does not exist\n",
      "IO::decomposition::readH: warning: subband /tmp/mcdw32HL000.png does not exist\n",
      "IO::decomposition::readH: warning: subband /tmp/mcdw32HH000.png does not exist\n",
      "this is deadzone\n",
      "this is deadzone\n",
      "this is deadzone\n",
      "IO::decomposition::readL: warning: subband /tmp/mcdw64LL000.png does not exist\n",
      "IO::decomposition::readL: warning: subband /tmp/mcdw64LL000.png does not exist\n",
      "IO::decomposition::readH: warning: subband /tmp/mcdw64LH000.png does not exist\n",
      "IO::decomposition::readH: warning: subband /tmp/mcdw64HL000.png does not exist\n",
      "IO::decomposition::readH: warning: subband /tmp/mcdw64HH000.png does not exist\n",
      "MSE(001)=0.0\n",
      "comp_rat=2413006\n"
     ]
    },
    {
     "name": "stderr",
     "output_type": "stream",
     "text": [
      "Traceback (most recent call last):\n",
      "  File \"MCDWT.py\", line 234, in <module>\n",
      "    d = MCDWT(p.shape)\n",
      "AttributeError: 'NoneType' object has no attribute 'shape'\n",
      "Traceback (most recent call last):\n",
      "  File \"MDWT.py\", line 93, in <module>\n",
      "    d.backward(args.prefix, args.N)\n",
      "  File \"MDWT.py\", line 64, in backward\n",
      "    pyr = decomposition.read(prefix, \"{:03d}\".format(i))\n",
      "  File \"../src/IO/decomposition.py\", line 159, in read\n",
      "    LL = np.zeros(LH.shape, np.float64)\n",
      "AttributeError: 'NoneType' object has no attribute 'shape'\n",
      "Traceback (most recent call last):\n",
      "  File \"MCDWT.py\", line 234, in <module>\n",
      "    d = MCDWT(p.shape)\n",
      "AttributeError: 'NoneType' object has no attribute 'shape'\n",
      "Traceback (most recent call last):\n",
      "  File \"MDWT.py\", line 93, in <module>\n",
      "    d.backward(args.prefix, args.N)\n",
      "  File \"MDWT.py\", line 64, in backward\n",
      "    pyr = decomposition.read(prefix, \"{:03d}\".format(i))\n",
      "  File \"../src/IO/decomposition.py\", line 159, in read\n",
      "    LL = np.zeros(LH.shape, np.float64)\n",
      "AttributeError: 'NoneType' object has no attribute 'shape'\n"
     ]
    }
   ],
   "source": [
    "%%bash\n",
    "for i in $(seq 32 32 64)\n",
    "do \n",
    "q_step=$i\n",
    "predictor=2  \n",
    "select=1\n",
    "# You must be in the ’src’ directory.  \n",
    "rm /tmp/*.png  \n",
    "cp ../sequences/stockholm/*.png /tmp  \n",
    "rm -rf /tmp/org$i\n",
    "mkdir /tmp/org$i\n",
    "cp /tmp/001.png /tmp/org$i\n",
    "\n",
    "python3 -O MDWT.py -p /tmp/  \n",
    "python3 -O MCDWT.py -P $predictor -p /tmp/  \n",
    "\n",
    "    \n",
    "#python3 ../tools/show_statistics.py -i /tmp/LH001.png  \n",
    "python3 ../tools/quantize1.py -i /tmp/LH001.png -o /tmp/LH001.png -q $q_step -s $select\n",
    "#python3 ../tools/show_statistics.py -i /tmp/LH001.png  \n",
    "python3 ../tools/quantize1.py -i /tmp/HL001.png -o /tmp/HL001.png -q $q_step -s $select\n",
    "python3 ../tools/quantize1.py -i /tmp/HH001.png -o /tmp/HH001.png -q $q_step -s $select\n",
    " \n",
    "\n",
    "rm -rf /tmp/mcdw$i\n",
    "mkdir /tmp/mcdw$i\n",
    "cp /tmp/LL001.png /tmp/mcdw$i  \n",
    "cp /tmp/LH001.png /tmp/mcdw$i  \n",
    "cp /tmp/HL001.png /tmp/mcdw$i  \n",
    "cp /tmp/HH001.png /tmp/mcdw$i \n",
    "\n",
    "python3 -O MCDWT.py -P $predictor -p /tmp/mcdw$i -b  \n",
    "python3 -O MDWT.py -p /tmp/mcdw$i -b  \n",
    " \n",
    "rm -rf /tmp/mcdw001\n",
    "mkdir /tmp/mcdw001\n",
    "cp /tmp/*001.png /tmp/mcdw001\n",
    "rm /tmp/*.png\n",
    "cp /tmp/mcdw001/*.png /tmp \n",
    "\n",
    "done\n",
    "\n",
    "for i in {1..1}; do ii=$(printf \"%03d\" $i); MSE=`python3 -O ../tools/MSE.py -x ../sequences/stockholm/$ii.png -y /tmp/$ii.png`; printf \"MSE(%s)=%s\\n\" $ii $MSE; done\n",
    "\n",
    "\n",
    "export x=$(du --apparent-size --block-size=1  \"/tmp/org32\"| awk '{ printf $1}')\n",
    "y=$(du --apparent-size --block-size=1  \"/tmp/mcdw32\"| awk '{ printf $1}') \n",
    "printf \"comp_rat=%s\\n\" `echo \"$x\"| bc -l` \n"
   ]
  },
  {
   "cell_type": "code",
   "execution_count": 5,
   "metadata": {},
   "outputs": [
    {
     "name": "stdout",
     "output_type": "stream",
     "text": [
      "First element: [1, 2, 3]\n",
      "Second element: 2\n",
      "Last element: 3\n"
     ]
    }
   ],
   "source": [
    "import array as arr\n",
    "a = [1,2,3]\n",
    "print(\"First element:\", a)\n",
    "print(\"Second element:\", a[1])\n",
    "print(\"Last element:\", a[-1])"
   ]
  },
  {
   "cell_type": "code",
   "execution_count": 25,
   "metadata": {},
   "outputs": [
    {
     "ename": "NameError",
     "evalue": "name 'hanging_line' is not defined",
     "output_type": "error",
     "traceback": [
      "\u001b[0;31m---------------------------------------------------------------------------\u001b[0m",
      "\u001b[0;31mNameError\u001b[0m                                 Traceback (most recent call last)",
      "\u001b[0;32m<ipython-input-25-52cd80ac6948>\u001b[0m in \u001b[0;36m<module>\u001b[0;34m\u001b[0m\n\u001b[1;32m      3\u001b[0m \u001b[0mpoint1\u001b[0m \u001b[0;34m=\u001b[0m \u001b[0;34m[\u001b[0m\u001b[0;36m0\u001b[0m\u001b[0;34m,\u001b[0m\u001b[0;36m1\u001b[0m\u001b[0;34m]\u001b[0m\u001b[0;34m\u001b[0m\u001b[0;34m\u001b[0m\u001b[0m\n\u001b[1;32m      4\u001b[0m \u001b[0mpoint2\u001b[0m \u001b[0;34m=\u001b[0m \u001b[0;34m[\u001b[0m\u001b[0;36m1\u001b[0m\u001b[0;34m,\u001b[0m\u001b[0;36m2\u001b[0m\u001b[0;34m]\u001b[0m\u001b[0;34m\u001b[0m\u001b[0;34m\u001b[0m\u001b[0m\n\u001b[0;32m----> 5\u001b[0;31m \u001b[0mx\u001b[0m\u001b[0;34m,\u001b[0m\u001b[0my\u001b[0m \u001b[0;34m=\u001b[0m \u001b[0mhanging_line\u001b[0m\u001b[0;34m(\u001b[0m\u001b[0mpoint1\u001b[0m\u001b[0;34m,\u001b[0m \u001b[0mpoint2\u001b[0m\u001b[0;34m)\u001b[0m\u001b[0;34m\u001b[0m\u001b[0;34m\u001b[0m\u001b[0m\n\u001b[0m\u001b[1;32m      6\u001b[0m \u001b[0;34m\u001b[0m\u001b[0m\n\u001b[1;32m      7\u001b[0m \u001b[0mplt\u001b[0m\u001b[0;34m.\u001b[0m\u001b[0mplot\u001b[0m\u001b[0;34m(\u001b[0m\u001b[0mpoint1\u001b[0m\u001b[0;34m[\u001b[0m\u001b[0;36m0\u001b[0m\u001b[0;34m]\u001b[0m\u001b[0;34m,\u001b[0m \u001b[0mpoint1\u001b[0m\u001b[0;34m[\u001b[0m\u001b[0;36m1\u001b[0m\u001b[0;34m]\u001b[0m\u001b[0;34m,\u001b[0m \u001b[0;34m'o'\u001b[0m\u001b[0;34m)\u001b[0m\u001b[0;34m\u001b[0m\u001b[0;34m\u001b[0m\u001b[0m\n",
      "\u001b[0;31mNameError\u001b[0m: name 'hanging_line' is not defined"
     ]
    }
   ],
   "source": [
    "import matplotlib.pyplot as plt\n",
    "\n",
    "point1 = [0,1]\n",
    "point2 = [1,2]\n",
    "x,y = hanging_line(point1, point2)\n",
    "\n",
    "plt.plot(point1[0], point1[1], 'o')\n",
    "plt.plot(point2[0], point2[1], 'o')\n",
    "plt.plot(x,y)"
   ]
  },
  {
   "cell_type": "code",
   "execution_count": null,
   "metadata": {},
   "outputs": [],
   "source": []
  }
 ],
 "metadata": {
  "kernelspec": {
   "display_name": "Python 3",
   "language": "python",
   "name": "python3"
  },
  "language_info": {
   "codemirror_mode": {
    "name": "ipython",
    "version": 3
   },
   "file_extension": ".py",
   "mimetype": "text/x-python",
   "name": "python",
   "nbconvert_exporter": "python",
   "pygments_lexer": "ipython3",
   "version": "3.8.1"
  }
 },
 "nbformat": 4,
 "nbformat_minor": 4
}
