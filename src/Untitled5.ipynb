{
 "cells": [
  {
   "cell_type": "code",
   "execution_count": 8,
   "metadata": {},
   "outputs": [
    {
     "name": "stdout",
     "output_type": "stream",
     "text": [
      "this is deadzone\n",
      "this is deadzone\n",
      "this is deadzone\n",
      "this is deadzone\n"
     ]
    },
    {
     "name": "stderr",
     "output_type": "stream",
     "text": [
      "rm: cannot remove '/tmp/*.png': No such file or directory\n"
     ]
    }
   ],
   "source": [
    "%%bash\n",
    "for i in $(seq 2 4 16)\n",
    "do \n",
    "q_step=800\n",
    "predictor=2  \n",
    "select=1\n",
    "# You must be in the ’src’ directory.  \n",
    "rm /tmp/*.png  \n",
    "cp ../sequences/stockholm/*.png /tmp  \n",
    "\n",
    "python3 -O MDWT.py -p /tmp/  \n",
    "python3 -O MCDWT.py -P $predictor -p /tmp/  \n",
    "\n",
    "\n",
    "python3 ../tools/quantize1.py -i /tmp/LH001.png -o /tmp/LH001.png -q $q_step -s $select\n",
    "\n",
    "#python3 ../tools/quantize1.py -i /tmp/HL001.png -o /tmp/HL001.png -q $q_step -s $select\n",
    "#python3 ../tools/quantize1.py -i /tmp/HH001.png -o /tmp/HH001.png -q $q_step -s $select\n",
    " \n",
    "\n",
    "\n",
    "\n",
    "\n",
    "#rm -rf /tmp/mcdw$i\n",
    "#mkdir /tmp/mcdw$i\n",
    "#cp /tmp/LL001.png /tmp/mcdw$i  \n",
    "#cp /tmp/LH001.png /tmp/mcdw$i  \n",
    "#cp /tmp/HL001.png /tmp/mcdw$i  \n",
    "#cp /tmp/HH001.png /tmp/mcdw$i \n",
    "\n",
    "\n",
    "\n",
    "\n",
    "#first_compressed_ratio= calc `wc -c /tmp/org32/*.png | cut -f 1 -d \" \"` / `wc -c /tmp/mcdw32/*.png | cut -f 1 -d \" \"`\n",
    "#compressed_ratio = float(first_compressed_ratio[0][2:])\n",
    "#print \"compressed_ratio=\" compressed_ratio\n",
    "\n",
    "python3 -O MCDWT.py -P $predictor -p /tmp/ -b  \n",
    "python3 -O MDWT.py -p /tmp/ -b  \n",
    " \n",
    "rm -rf /tmp/001new_step$i\n",
    "mkdir /tmp/001new_step$i\n",
    "cp /tmp/*001.png /tmp/001new_step$i\n",
    "\n",
    "done\n"
   ]
  },
  {
   "cell_type": "code",
   "execution_count": null,
   "metadata": {},
   "outputs": [],
   "source": [
    "import subprocess\n",
    "import os.path \n",
    "import matplotlib\n",
    "import numpy as np\n",
    "import matplotlib.pyplot as plt\n",
    "import matplotlib.axes as ax\n",
    "import array as arr\n",
    "\n",
    "%matplotlib inline\n",
    "#rate bit\n",
    "path = '/tmp/mcdw32/'\n",
    "mcdw32 = subprocess.check_output(['du','-sb', path]).split()[0].decode('utf-8')\n",
    "print(\"mcdw32: \" + mcdw32)\n",
    "path = '/tmp/mcdw64/'\n",
    "mcdw64 = subprocess.check_output(['du','-sb', path]).split()[0].decode('utf-8')\n",
    "print(\"mcdw64: \" + mcdw64)\n",
    "path = '/tmp/mcdw96/'\n",
    "mcdw96 = subprocess.check_output(['du','-sb', path]).split()[0].decode('utf-8')\n",
    "print(\"mcdw96: \" + mcdw96)\n",
    "path = '/tmp/mcdw128/'\n",
    "mcdw128 = subprocess.check_output(['du','-sb', path]).split()[0].decode('utf-8')\n",
    "print(\"mcdw128: \" + mcdw128)\n",
    "#mse\n",
    "mse1=get_ipython().getoutput('python3 -O ../tools/MSE.py -x ../sequences/stockholm/001.png -y /tmp/001new_step32/001.png' )\n",
    "mse1=float(mse1[0])\n",
    "print (mse1)\n",
    "\n",
    "mse2=get_ipython().getoutput('python3 -O ../tools/MSE.py -x ../sequences/stockholm/001.png -y /tmp/001new_step64/001.png' )\n",
    "mse2=float(mse2[0])\n",
    "print (mse2)\n",
    "\n",
    "mse3=get_ipython().getoutput('python3 -O ../tools/MSE.py -x ../sequences/stockholm/001.png -y /tmp/001new_step96/001.png' )\n",
    "mse3=float(mse3[0])\n",
    "print (mse3)\n",
    "\n",
    "mse4=get_ipython().getoutput('python3 -O ../tools/MSE.py -x ../sequences/stockholm/001.png -y /tmp/001new_step128/001.png' )\n",
    "mse4=float(mse4[0])\n",
    "print (mse4)\n",
    "\n",
    "\n",
    "fig = plt.figure()\n",
    "ax = fig.add_subplot(111)\n",
    "ax.plot((mcdw32,mcdw64,mcdw96,mcdw128),(mse1,mse2,mse3,mse4))\n",
    "ax.scatter((mcdw32, mcdw64, mcdw96, mcdw128),(mse1, mse2, mse3, mse4))\n",
    "ax.set_title('Mitread')\n",
    "ax.xaxis.set_label_text('ratebit')\n",
    "ax.yaxis.set_label_text('MSE')\n",
    "ax.grid()\n",
    "plt.show()"
   ]
  }
 ],
 "metadata": {
  "kernelspec": {
   "display_name": "Python 3",
   "language": "python",
   "name": "python3"
  },
  "language_info": {
   "codemirror_mode": {
    "name": "ipython",
    "version": 3
   },
   "file_extension": ".py",
   "mimetype": "text/x-python",
   "name": "python",
   "nbconvert_exporter": "python",
   "pygments_lexer": "ipython3",
   "version": "3.8.1"
  }
 },
 "nbformat": 4,
 "nbformat_minor": 2
}
