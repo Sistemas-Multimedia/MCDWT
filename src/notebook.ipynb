{
 "cells": [
  {
   "cell_type": "code",
   "execution_count": 126,
   "metadata": {},
   "outputs": [
    {
     "name": "stdout",
     "output_type": "stream",
     "text": [
      "mkdir: cannot create directory ‘act1’: File exists\r\n"
     ]
    }
   ],
   "source": [
    "!mkdir act1"
   ]
  },
  {
   "cell_type": "code",
   "execution_count": 127,
   "metadata": {},
   "outputs": [],
   "source": [
    "videoUrl = 'https://media.xiph.org/video/derf/y4m/garden_sif.y4m'"
   ]
  },
  {
   "cell_type": "code",
   "execution_count": 128,
   "metadata": {},
   "outputs": [
    {
     "name": "stdout",
     "output_type": "stream",
     "text": [
      "--2020-01-22 16:19:57--  https://media.xiph.org/video/derf/y4m/garden_sif.y4m\n",
      "Resolving media.xiph.org (media.xiph.org)... 54.39.18.101, 2607:5300:203:2965::\n",
      "Connecting to media.xiph.org (media.xiph.org)|54.39.18.101|:443... connected.\n",
      "HTTP request sent, awaiting response... 200 OK\n",
      "Length: 14573536 (14M)\n",
      "Saving to: ‘video’\n",
      "\n",
      "�u                 100%[===================>]  13,90M  1,20MB/s    in 12s     \n",
      "\n",
      "2020-01-22 16:20:10 (1,17 MB/s) - ‘video’ saved [14573536/14573536]\n",
      "\n"
     ]
    }
   ],
   "source": [
    "!wget -P /home/act1 -O video {videoUrl}"
   ]
  },
  {
   "cell_type": "code",
   "execution_count": 129,
   "metadata": {},
   "outputs": [
    {
     "name": "stdout",
     "output_type": "stream",
     "text": [
      "ffmpeg version 3.4.6-0ubuntu0.18.04.1 Copyright (c) 2000-2019 the FFmpeg developers\n",
      "  built with gcc 7 (Ubuntu 7.3.0-16ubuntu3)\n",
      "  configuration: --prefix=/usr --extra-version=0ubuntu0.18.04.1 --toolchain=hardened --libdir=/usr/lib/x86_64-linux-gnu --incdir=/usr/include/x86_64-linux-gnu --enable-gpl --disable-stripping --enable-avresample --enable-avisynth --enable-gnutls --enable-ladspa --enable-libass --enable-libbluray --enable-libbs2b --enable-libcaca --enable-libcdio --enable-libflite --enable-libfontconfig --enable-libfreetype --enable-libfribidi --enable-libgme --enable-libgsm --enable-libmp3lame --enable-libmysofa --enable-libopenjpeg --enable-libopenmpt --enable-libopus --enable-libpulse --enable-librubberband --enable-librsvg --enable-libshine --enable-libsnappy --enable-libsoxr --enable-libspeex --enable-libssh --enable-libtheora --enable-libtwolame --enable-libvorbis --enable-libvpx --enable-libwavpack --enable-libwebp --enable-libx265 --enable-libxml2 --enable-libxvid --enable-libzmq --enable-libzvbi --enable-omx --enable-openal --enable-opengl --enable-sdl2 --enable-libdc1394 --enable-libdrm --enable-libiec61883 --enable-chromaprint --enable-frei0r --enable-libopencv --enable-libx264 --enable-shared\n",
      "  libavutil      55. 78.100 / 55. 78.100\n",
      "  libavcodec     57.107.100 / 57.107.100\n",
      "  libavformat    57. 83.100 / 57. 83.100\n",
      "  libavdevice    57. 10.100 / 57. 10.100\n",
      "  libavfilter     6.107.100 /  6.107.100\n",
      "  libavresample   3.  7.  0 /  3.  7.  0\n",
      "  libswscale      4.  8.100 /  4.  8.100\n",
      "  libswresample   2.  9.100 /  2.  9.100\n",
      "  libpostproc    54.  7.100 / 54.  7.100\n",
      "Input #0, yuv4mpegpipe, from 'video':\n",
      "  Duration: 00:00:03.84, start: 0.000000, bitrate: 30383 kb/s\n",
      "    Stream #0:0: Video: rawvideo (I420 / 0x30323449), yuv420p(progressive), 352x240, SAR 4320:4739 DAR 6336:4739, 29.97 fps, 29.97 tbr, 29.97 tbn, 29.97 tbc\n",
      "Stream mapping:\n",
      "  Stream #0:0 -> #0:0 (rawvideo (native) -> png (native))\n",
      "Press [q] to stop, [?] for help\n",
      "Output #0, image2, to '%03d.png':\n",
      "  Metadata:\n",
      "    encoder         : Lavf57.83.100\n",
      "    Stream #0:0: Video: png, rgb24, 352x240 [SAR 4320:4739 DAR 6336:4739], q=2-31, 200 kb/s, 29.97 fps, 29.97 tbn, 29.97 tbc\n",
      "    Metadata:\n",
      "      encoder         : Lavc57.107.100 png\n",
      "frame=   10 fps=0.0 q=-0.0 Lsize=N/A time=00:00:00.33 bitrate=N/A speed=4.35x    \n",
      "video:2062kB audio:0kB subtitle:0kB other streams:0kB global headers:0kB muxing overhead: unknown\n"
     ]
    }
   ],
   "source": [
    "!ffmpeg -i video -vframes 10 %03d.png"
   ]
  },
  {
   "cell_type": "code",
   "execution_count": 130,
   "metadata": {},
   "outputs": [],
   "source": [
    "!cp *.png /tmp"
   ]
  },
  {
   "cell_type": "code",
   "execution_count": 131,
   "metadata": {},
   "outputs": [],
   "source": [
    "!python3 -O MDWT.py -p /tmp/ -N 10"
   ]
  },
  {
   "cell_type": "code",
   "execution_count": 132,
   "metadata": {},
   "outputs": [
    {
     "name": "stdout",
     "output_type": "stream",
     "text": [
      "-rw-r--r-- 1 nabel nabel 208790 ene 22 15:27 000.png\r\n",
      "-rw-r--r-- 1 nabel nabel 208790 ene 22 16:20 001.png\r\n",
      "-rw-r--r-- 1 nabel nabel 208971 ene 22 16:20 002.png\r\n",
      "-rw-r--r-- 1 nabel nabel 209971 ene 22 16:20 003.png\r\n",
      "-rw-r--r-- 1 nabel nabel 210148 ene 22 16:20 004.png\r\n",
      "-rw-r--r-- 1 nabel nabel 210581 ene 22 16:20 005.png\r\n",
      "-rw-r--r-- 1 nabel nabel 211424 ene 22 16:20 006.png\r\n",
      "-rw-r--r-- 1 nabel nabel 212024 ene 22 16:20 007.png\r\n",
      "-rw-r--r-- 1 nabel nabel 212692 ene 22 16:20 008.png\r\n",
      "-rw-r--r-- 1 nabel nabel 213109 ene 22 16:20 009.png\r\n",
      "-rw-r--r-- 1 nabel nabel 213639 ene 22 16:20 010.png\r\n",
      "-rw-r--r-- 1 nabel nabel 832102 ene 20 14:57 tmp.png\r\n"
     ]
    }
   ],
   "source": [
    "!for i in ???.png; do ls -l $i; done "
   ]
  },
  {
   "cell_type": "code",
   "execution_count": 133,
   "metadata": {},
   "outputs": [
    {
     "name": "stdout",
     "output_type": "stream",
     "text": [
      "-rw-r--r-- 1 nabel nabel 83807 ene 22 16:20 /tmp/LL000.png\r\n",
      "-rw-r--r-- 1 nabel nabel 83807 ene 22 16:20 /tmp/LL001.png\r\n",
      "-rw-r--r-- 1 nabel nabel 84044 ene 22 16:20 /tmp/LL002.png\r\n",
      "-rw-r--r-- 1 nabel nabel 84128 ene 22 16:20 /tmp/LL003.png\r\n",
      "-rw-r--r-- 1 nabel nabel 84105 ene 22 16:20 /tmp/LL004.png\r\n",
      "-rw-r--r-- 1 nabel nabel 84188 ene 22 16:20 /tmp/LL005.png\r\n",
      "-rw-r--r-- 1 nabel nabel 84472 ene 22 16:20 /tmp/LL006.png\r\n",
      "-rw-r--r-- 1 nabel nabel 84445 ene 22 16:20 /tmp/LL007.png\r\n",
      "-rw-r--r-- 1 nabel nabel 84756 ene 22 16:20 /tmp/LL008.png\r\n",
      "-rw-r--r-- 1 nabel nabel 84909 ene 22 16:20 /tmp/LL009.png\r\n"
     ]
    }
   ],
   "source": [
    "!for i in /tmp/LL???.png; do ls -l $i; done "
   ]
  },
  {
   "cell_type": "code",
   "execution_count": 167,
   "metadata": {},
   "outputs": [],
   "source": [
    "tamOriginal = !stat -c %s 000.png\n",
    "tamModificado = !stat -c %s  /tmp/LL000.png"
   ]
  },
  {
   "cell_type": "code",
   "execution_count": 168,
   "metadata": {},
   "outputs": [],
   "source": [
    "intTamOriginal = int(tamOriginal[0])\n",
    "intTamModificado = int(tamModificado[0])\n"
   ]
  },
  {
   "cell_type": "code",
   "execution_count": 137,
   "metadata": {
    "scrolled": true
   },
   "outputs": [
    {
     "name": "stdout",
     "output_type": "stream",
     "text": [
      "0.40139374491115476\n"
     ]
    }
   ],
   "source": [
    "compRatio = intTamModificado/intTamOriginal\n",
    "print (compRatio)"
   ]
  },
  {
   "cell_type": "code",
   "execution_count": 176,
   "metadata": {},
   "outputs": [
    {
     "data": {
      "text/plain": [
       "['83807',\n",
       " '83807',\n",
       " '84044',\n",
       " '84128',\n",
       " '84105',\n",
       " '84188',\n",
       " '84472',\n",
       " '84445',\n",
       " '84756',\n",
       " '84909']"
      ]
     },
     "execution_count": 176,
     "metadata": {},
     "output_type": "execute_result"
    }
   ],
   "source": [
    "Pepe = !for i in /tmp/LL???.png; do stat -c %s $i ; done\n",
    "Pepe"
   ]
  },
  {
   "cell_type": "code",
   "execution_count": 177,
   "metadata": {},
   "outputs": [
    {
     "name": "stdout",
     "output_type": "stream",
     "text": [
      "/bin/sh: 1: Syntax error: \"(\" unexpected (expecting \"done\")\r\n"
     ]
    }
   ],
   "source": [
    "!for i in ?; do int = int(Pepe[i])"
   ]
  },
  {
   "cell_type": "code",
   "execution_count": 179,
   "metadata": {},
   "outputs": [],
   "source": [
    "modificado = !for i in /tmp/LL???.png; do stat -c %s $i ; done\n",
    "original = !for i in ???.png; do stat -c %s $i ; done"
   ]
  },
  {
   "cell_type": "code",
   "execution_count": 180,
   "metadata": {},
   "outputs": [
    {
     "data": {
      "text/plain": [
       "['83807',\n",
       " '83807',\n",
       " '84044',\n",
       " '84128',\n",
       " '84105',\n",
       " '84188',\n",
       " '84472',\n",
       " '84445',\n",
       " '84756',\n",
       " '84909']"
      ]
     },
     "execution_count": 180,
     "metadata": {},
     "output_type": "execute_result"
    }
   ],
   "source": [
    "modificado"
   ]
  },
  {
   "cell_type": "code",
   "execution_count": 196,
   "metadata": {},
   "outputs": [
    {
     "data": {
      "text/plain": [
       "['208790',\n",
       " '208790',\n",
       " '208971',\n",
       " '209971',\n",
       " '210148',\n",
       " '210581',\n",
       " '211424',\n",
       " '212024',\n",
       " '212692',\n",
       " '213109',\n",
       " '213639',\n",
       " '832102']"
      ]
     },
     "execution_count": 196,
     "metadata": {},
     "output_type": "execute_result"
    }
   ],
   "source": [
    "original"
   ]
  },
  {
   "cell_type": "code",
   "execution_count": 210,
   "metadata": {},
   "outputs": [
    {
     "name": "stdout",
     "output_type": "stream",
     "text": [
      "/bin/sh: 1: Syntax error: \"(\" unexpected (expecting \"done\")\r\n"
     ]
    }
   ],
   "source": [
    "!for i in 1 2 3 4 5; do -l %s int(original[$i])/int(modificado[$i]); done"
   ]
  },
  {
   "cell_type": "code",
   "execution_count": 187,
   "metadata": {},
   "outputs": [
    {
     "data": {
      "text/plain": [
       "'209971'"
      ]
     },
     "execution_count": 187,
     "metadata": {},
     "output_type": "execute_result"
    }
   ],
   "source": [
    "original[3]"
   ]
  },
  {
   "cell_type": "code",
   "execution_count": 208,
   "metadata": {},
   "outputs": [
    {
     "data": {
      "text/plain": [
       "2.491319340866515"
      ]
     },
     "execution_count": 208,
     "metadata": {},
     "output_type": "execute_result"
    }
   ],
   "source": [
    " int(original[0])/int(modificado[0])"
   ]
  },
  {
   "cell_type": "code",
   "execution_count": null,
   "metadata": {},
   "outputs": [],
   "source": []
  }
 ],
 "metadata": {
  "kernelspec": {
   "display_name": "Python 3",
   "language": "python",
   "name": "python3"
  },
  "language_info": {
   "codemirror_mode": {
    "name": "ipython",
    "version": 3
   },
   "file_extension": ".py",
   "mimetype": "text/x-python",
   "name": "python",
   "nbconvert_exporter": "python",
   "pygments_lexer": "ipython3",
   "version": "3.6.9"
  }
 },
 "nbformat": 4,
 "nbformat_minor": 2
}
