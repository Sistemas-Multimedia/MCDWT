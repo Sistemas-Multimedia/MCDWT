{
 "cells": [
  {
   "cell_type": "markdown",
   "metadata": {},
   "source": [
    "# MCDWT Compression Rate Evaluation\n",
    "\n",
    "Evalutation of the compression rate of MCDWT algorythm executing it for 1,2,3,5,10,20 iterations for 9 images."
   ]
  },
  {
   "cell_type": "markdown",
   "metadata": {},
   "source": [
    "## Clear /tmp directory\n",
    "### set clear=true to clear directory"
   ]
  },
  {
   "cell_type": "code",
   "execution_count": 1,
   "metadata": {},
   "outputs": [
    {
     "name": "stdout",
     "output_type": "stream",
     "text": [
      "Clear the folder\n",
      "if you don't put linebreaks ipython will show error\n"
     ]
    }
   ],
   "source": [
    "%%script bash\n",
    "clear=true\n",
    "if [ $clear == true ]\n",
    "then\n",
    "    echo \"Clear the folder\"\n",
    "    \n",
    "\trm -r /tmp/it* 2> /dev/null\n",
    "    \n",
    "\trm -r /tmp/*.png 2> /dev/null\n",
    "    \n",
    "\trm -r /tmp/images 2> /dev/null\n",
    "    \n",
    "\trm -r /tmp/test_video 2> /dev/null\n",
    "\n",
    "    echo \"if you don't put linebreaks ipython will show error\"\n",
    "    \n",
    "else\n",
    "\techo \"Do not clear the folder\"\n",
    "    echo $some_variable\n",
    "fi"
   ]
  },
  {
   "cell_type": "markdown",
   "metadata": {},
   "source": [
    "# Download the file"
   ]
  },
  {
   "cell_type": "code",
   "execution_count": 2,
   "metadata": {},
   "outputs": [
    {
     "name": "stdout",
     "output_type": "stream",
     "text": [
      "Downloading: /tmp/test_video\n",
      "please wait until the file is downloaded\n"
     ]
    },
    {
     "name": "stderr",
     "output_type": "stream",
     "text": [
      "\n",
      "     0K .......... .......... .......... .......... ..........  0%  202K 61s\n",
      "    50K .......... .......... .......... .......... ..........  0%  404K 45s\n",
      "   100K .......... .......... .......... .......... ..........  1% 15,6M 30s\n",
      "   150K .......... .......... .......... .......... ..........  1%  411K 30s\n",
      "   200K .......... .......... .......... .......... ..........  2% 17,0M 24s\n",
      "   250K .......... .......... .......... .......... ..........  2% 14,4M 20s\n",
      "   300K .......... .......... .......... .......... ..........  2% 15,6M 17s\n",
      "   350K .......... .......... .......... .......... ..........  3%  436K 18s\n",
      "   400K .......... .......... .......... .......... ..........  3% 12,7M 16s\n",
      "   450K .......... .......... .......... .......... ..........  4% 13,9M 15s\n",
      "   500K .......... .......... .......... .......... ..........  4% 13,6M 13s\n",
      "   550K .......... .......... .......... .......... ..........  4% 17,8M 12s\n",
      "   600K .......... .......... .......... .......... ..........  5% 14,5M 11s\n",
      "   650K .......... .......... .......... .......... ..........  5% 13,9M 11s\n",
      "   700K .......... .......... .......... .......... ..........  6%  488K 11s\n",
      "   750K .......... .......... .......... .......... ..........  6% 19,3M 11s\n",
      "   800K .......... .......... .......... .......... ..........  6% 11,0M 10s\n",
      "   850K .......... .......... .......... .......... ..........  7% 15,1M 10s\n",
      "   900K .......... .......... .......... .......... ..........  7% 13,9M 9s\n",
      "   950K .......... .......... .......... .......... ..........  8% 15,0M 9s\n",
      "  1000K .......... .......... .......... .......... ..........  8% 14,3M 8s\n",
      "  1050K .......... .......... .......... .......... ..........  8% 17,8M 8s\n",
      "  1100K .......... .......... .......... .......... ..........  9% 14,4M 7s\n",
      "  1150K .......... .......... .......... .......... ..........  9% 14,3M 7s\n",
      "  1200K .......... .......... .......... .......... .......... 10% 10,7M 7s\n",
      "  1250K .......... .......... .......... .......... .......... 10% 17,9M 7s\n",
      "  1300K .......... .......... .......... .......... .......... 11% 14,5M 6s\n",
      "  1350K .......... .......... .......... .......... .......... 11% 14,4M 6s\n",
      "  1400K .......... .......... .......... .......... .......... 11% 14,1M 6s\n",
      "  1450K .......... .......... .......... .......... .......... 12%  653K 6s\n",
      "  1500K .......... .......... .......... .......... .......... 12% 16,1M 6s\n",
      "  1550K .......... .......... .......... .......... .......... 13% 18,1M 6s\n",
      "  1600K .......... .......... .......... .......... .......... 13% 10,8M 6s\n",
      "  1650K .......... .......... .......... .......... .......... 13% 14,4M 5s\n",
      "  1700K .......... .......... .......... .......... .......... 14% 16,1M 5s\n",
      "  1750K .......... .......... .......... .......... .......... 14% 14,4M 5s\n",
      "  1800K .......... .......... .......... .......... .......... 15% 14,2M 5s\n",
      "  1850K .......... .......... .......... .......... .......... 15% 14,5M 5s\n",
      "  1900K .......... .......... .......... .......... .......... 15% 14,4M 5s\n",
      "  1950K .......... .......... .......... .......... .......... 16% 18,6M 5s\n",
      "  2000K .......... .......... .......... .......... .......... 16% 10,9M 5s\n",
      "  2050K .......... .......... .......... .......... .......... 17% 14,5M 4s\n",
      "  2100K .......... .......... .......... .......... .......... 17% 14,5M 4s\n",
      "  2150K .......... .......... .......... .......... .......... 17% 14,6M 4s\n",
      "  2200K .......... .......... .......... .......... .......... 18% 14,1M 4s\n",
      "  2250K .......... .......... .......... .......... .......... 18% 14,5M 4s\n",
      "  2300K .......... .......... .......... .......... .......... 19% 18,1M 4s\n",
      "  2350K .......... .......... .......... .......... .......... 19% 14,2M 4s\n",
      "  2400K .......... .......... .......... .......... .......... 19% 10,4M 4s\n",
      "  2450K .......... .......... .......... .......... .......... 20% 17,6M 4s\n",
      "  2500K .......... .......... .......... .......... .......... 20% 14,9M 4s\n",
      "  2550K .......... .......... .......... .......... .......... 21% 14,3M 3s\n",
      "  2600K .......... .......... .......... .......... .......... 21% 14,4M 3s\n",
      "  2650K .......... .......... .......... .......... .......... 22% 14,5M 3s\n",
      "  2700K .......... .......... .......... .......... .......... 22% 14,5M 3s\n",
      "  2750K .......... .......... .......... .......... .......... 22% 14,3M 3s\n",
      "  2800K .......... .......... .......... .......... .......... 23% 12,1M 3s\n",
      "  2850K .......... .......... .......... .......... .......... 23% 14,8M 3s\n",
      "  2900K .......... .......... .......... .......... .......... 24% 14,4M 3s\n",
      "  2950K .......... .......... .......... .......... .......... 24% 1,98M 3s\n",
      "  3000K .......... .......... .......... .......... .......... 24% 17,4M 3s\n",
      "  3050K .......... .......... .......... .......... .......... 25% 14,5M 3s\n",
      "  3100K .......... .......... .......... .......... .......... 25% 14,7M 3s\n",
      "  3150K .......... .......... .......... .......... .......... 26% 16,6M 3s\n",
      "  3200K .......... .......... .......... .......... .......... 26% 10,5M 3s\n",
      "  3250K .......... .......... .......... .......... .......... 26% 14,7M 3s\n",
      "  3300K .......... .......... .......... .......... .......... 27% 17,6M 3s\n",
      "  3350K .......... .......... .......... .......... .......... 27% 14,3M 3s\n",
      "  3400K .......... .......... .......... .......... .......... 28% 14,3M 3s\n",
      "  3450K .......... .......... .......... .......... .......... 28% 14,5M 3s\n",
      "  3500K .......... .......... .......... .......... .......... 28% 14,7M 3s\n",
      "  3550K .......... .......... .......... .......... .......... 29% 15,8M 2s\n",
      "  3600K .......... .......... .......... .......... .......... 29% 10,5M 2s\n",
      "  3650K .......... .......... .......... .......... .......... 30% 14,7M 2s\n",
      "  3700K .......... .......... .......... .......... .......... 30% 18,0M 2s\n",
      "  3750K .......... .......... .......... .......... .......... 31% 14,2M 2s\n",
      "  3800K .......... .......... .......... .......... .......... 31% 14,4M 2s\n",
      "  3850K .......... .......... .......... .......... .......... 31% 14,4M 2s\n",
      "  3900K .......... .......... .......... .......... .......... 32% 14,8M 2s\n",
      "  3950K .......... .......... .......... .......... .......... 32% 14,0M 2s\n",
      "  4000K .......... .......... .......... .......... .......... 33% 11,4M 2s\n",
      "  4050K .......... .......... .......... .......... .......... 33% 14,3M 2s\n",
      "  4100K .......... .......... .......... .......... .......... 33% 18,2M 2s\n",
      "  4150K .......... .......... .......... .......... .......... 34% 14,5M 2s\n",
      "  4200K .......... .......... .......... .......... .......... 34% 14,5M 2s\n",
      "  4250K .......... .......... .......... .......... .......... 35% 14,0M 2s\n",
      "  4300K .......... .......... .......... .......... .......... 35% 14,7M 2s\n",
      "  4350K .......... .......... .......... .......... .......... 35% 14,4M 2s\n",
      "  4400K .......... .......... .......... .......... .......... 36% 12,1M 2s\n",
      "  4450K .......... .......... .......... .......... .......... 36% 14,4M 2s\n",
      "  4500K .......... .......... .......... .......... .......... 37% 14,8M 2s\n",
      "  4550K .......... .......... .......... .......... .......... 37% 14,3M 2s\n",
      "  4600K .......... .......... .......... .......... .......... 37% 14,6M 2s\n",
      "  4650K .......... .......... .......... .......... .......... 38% 17,7M 2s\n",
      "  4700K .......... .......... .......... .......... .......... 38% 14,5M 2s\n",
      "  4750K .......... .......... .......... .......... .......... 39% 14,5M 2s\n",
      "  4800K .......... .......... .......... .......... .......... 39% 10,5M 2s\n",
      "  4850K .......... .......... .......... .......... .......... 39% 14,4M 2s\n",
      "  4900K .......... .......... .......... .......... .......... 40% 18,1M 2s\n",
      "  4950K .......... .......... .......... .......... .......... 40% 14,4M 2s\n",
      "  5000K .......... .......... .......... .......... .......... 41% 14,1M 2s\n",
      "  5050K .......... .......... .......... .......... .......... 41%  273K 2s\n",
      "  5100K .......... .......... .......... .......... .......... 42% 50,8M 2s\n",
      "  5150K .......... .......... .......... .......... .......... 42% 20,6M 2s\n",
      "  5200K .......... .......... .......... .......... .......... 42% 38,4M 2s\n",
      "  5250K .......... .......... .......... .......... .......... 43% 23,7M 2s\n",
      "  5300K .......... .......... .......... .......... .......... 43% 38,4M 2s\n",
      "  5350K .......... .......... .......... .......... .......... 44% 33,2M 2s\n",
      "  5400K .......... .......... .......... .......... .......... 44% 17,8M 2s\n",
      "  5450K .......... .......... .......... .......... .......... 44% 75,3M 2s\n",
      "  5500K .......... .......... .......... .......... .......... 45% 14,4M 2s\n",
      "  5550K .......... .......... .......... .......... .......... 45% 32,4M 2s\n",
      "  5600K .......... .......... .......... .......... .......... 46% 25,7M 2s\n",
      "  5650K .......... .......... .......... .......... .......... 46%  111M 2s\n",
      "  5700K .......... .......... .......... .......... .......... 46% 32,6M 2s\n",
      "  5750K .......... .......... .......... .......... .......... 47% 17,9M 1s\n",
      "  5800K .......... .......... .......... .......... .......... 47% 90,5M 1s\n",
      "  5850K .......... .......... .......... .......... .......... 48% 31,5M 1s\n",
      "  5900K .......... .......... .......... .......... .......... 48% 31,8M 1s\n",
      "  5950K .......... .......... .......... .......... .......... 48%  115M 1s\n",
      "  6000K .......... .......... .......... .......... .......... 49% 95,3M 1s\n",
      "  6050K .......... .......... .......... .......... .......... 49% 81,8M 1s\n",
      "  6100K .......... .......... .......... .......... .......... 50% 84,5M 1s\n",
      "  6150K .......... .......... .......... .......... .......... 50% 84,2M 1s\n",
      "  6200K .......... .......... .......... .......... .......... 51% 90,5M 1s\n",
      "  6250K .......... .......... .......... .......... .......... 51%  151M 1s\n",
      "  6300K .......... .......... .......... .......... .......... 51%  149M 1s\n",
      "  6350K .......... .......... .......... .......... .......... 52%  152M 1s\n",
      "  6400K .......... .......... .......... .......... .......... 52%  125M 1s\n",
      "  6450K .......... .......... .......... .......... .......... 53%  151M 1s\n",
      "  6500K .......... .......... .......... .......... .......... 53%  153M 1s\n",
      "  6550K .......... .......... .......... .......... .......... 53%  154M 1s\n",
      "  6600K .......... .......... .......... .......... .......... 54%  140M 1s\n",
      "  6650K .......... .......... .......... .......... .......... 54%  153M 1s\n",
      "  6700K .......... .......... .......... .......... .......... 55%  153M 1s\n",
      "  6750K .......... .......... .......... .......... .......... 55%  151M 1s\n",
      "  6800K .......... .......... .......... .......... .......... 55%  121M 1s\n",
      "  6850K .......... .......... .......... .......... .......... 56%  153M 1s\n",
      "  6900K .......... .......... .......... .......... .......... 56%  155M 1s\n",
      "  6950K .......... .......... .......... .......... .......... 57%  153M 1s\n",
      "  7000K .......... .......... .......... .......... .......... 57%  141M 1s\n",
      "  7050K .......... .......... .......... .......... .......... 57%  152M 1s\n",
      "  7100K .......... .......... .......... .......... .......... 58%  150M 1s\n",
      "  7150K .......... .......... .......... .......... .......... 58%  152M 1s\n",
      "  7200K .......... .......... .......... .......... .......... 59%  124M 1s\n",
      "  7250K .......... .......... .......... .......... .......... 59%  155M 1s\n",
      "  7300K .......... .......... .......... .......... .......... 59%  154M 1s\n",
      "  7350K .......... .......... .......... .......... .......... 60%  154M 1s\n",
      "  7400K .......... .......... .......... .......... .......... 60%  133M 1s\n",
      "  7450K .......... .......... .......... .......... .......... 61%  152M 1s\n",
      "  7500K .......... .......... .......... .......... .......... 61%  153M 1s\n",
      "  7550K .......... .......... .......... .......... .......... 62%  153M 1s\n",
      "  7600K .......... .......... .......... .......... .......... 62%  125M 1s\n",
      "  7650K .......... .......... .......... .......... .......... 62%  151M 1s\n",
      "  7700K .......... .......... .......... .......... .......... 63%  152M 1s\n",
      "  7750K .......... .......... .......... .......... .......... 63%  154M 1s\n",
      "  7800K .......... .......... .......... .......... .......... 64%  139M 1s\n",
      "  7850K .......... .......... .......... .......... .......... 64%  153M 1s\n",
      "  7900K .......... .......... .......... .......... .......... 64%  142M 1s\n",
      "  7950K .......... .......... .......... .......... .......... 65%  135M 1s\n",
      "  8000K .......... .......... .......... .......... .......... 65%  138M 1s\n",
      "  8050K .......... .......... .......... .......... .......... 66%  191M 1s\n",
      "  8100K .......... .......... .......... .......... .......... 66%  462K 1s\n",
      "  8150K .......... .......... .......... .......... .......... 66% 21,1M 1s\n",
      "  8200K .......... .......... .......... .......... .......... 67% 13,6M 1s\n",
      "  8250K .......... .......... .......... .......... .......... 67% 15,2M 1s\n",
      "  8300K .......... .......... .......... .......... .......... 68% 18,2M 1s\n",
      "  8350K .......... .......... .......... .......... .......... 68% 14,7M 1s\n",
      "  8400K .......... .......... .......... .......... .......... 68% 10,5M 1s\n",
      "  8450K .......... .......... .......... .......... .......... 69% 14,4M 1s\n",
      "  8500K .......... .......... .......... .......... .......... 69% 18,1M 1s\n",
      "  8550K .......... .......... .......... .......... .......... 70% 14,5M 1s\n",
      "  8600K .......... .......... .......... .......... .......... 70% 14,3M 1s\n",
      "  8650K .......... .......... .......... .......... .......... 71% 14,1M 1s\n",
      "  8700K .......... .......... .......... .......... .......... 71% 13,1M 1s\n",
      "  8750K .......... .......... .......... .......... .......... 71% 16,7M 1s\n",
      "  8800K .......... .......... .......... .......... .......... 72% 12,1M 1s\n",
      "  8850K .......... .......... .......... .......... .......... 72% 14,8M 1s\n",
      "  8900K .......... .......... .......... .......... .......... 73% 14,3M 1s\n",
      "  8950K .......... .......... .......... .......... .......... 73% 14,5M 1s\n",
      "  9000K .......... .......... .......... .......... .......... 73% 14,6M 1s\n",
      "  9050K .......... .......... .......... .......... .......... 74% 14,4M 1s\n",
      "  9100K .......... .......... .......... .......... .......... 74% 17,9M 1s\n",
      "  9150K .......... .......... .......... .......... .......... 75% 14,2M 1s\n",
      "  9200K .......... .......... .......... .......... .......... 75% 10,8M 1s\n",
      "  9250K .......... .......... .......... .......... .......... 75% 14,4M 0s\n",
      "  9300K .......... .......... .......... .......... .......... 76% 14,7M 0s\n",
      "  9350K .......... .......... .......... .......... .......... 76% 17,5M 0s\n",
      "  9400K .......... .......... .......... .......... .......... 77%  297K 1s\n",
      "  9450K .......... .......... .......... .......... .......... 77% 25,0M 0s\n",
      "  9500K .......... .......... .......... .......... .......... 77% 15,8M 0s\n",
      "  9550K .......... .......... .......... .......... .......... 78% 14,6M 0s\n",
      "  9600K .......... .......... .......... .......... .......... 78% 14,9M 0s\n",
      "  9650K .......... .......... .......... .......... .......... 79% 18,5M 0s\n",
      "  9700K .......... .......... .......... .......... .......... 79% 33,1M 0s\n",
      "  9750K .......... .......... .......... .......... .......... 79%  136M 0s\n",
      "  9800K .......... .......... .......... .......... .......... 80%  128M 0s\n",
      "  9850K .......... .......... .......... .......... .......... 80%  139M 0s\n",
      "  9900K .......... .......... .......... .......... .......... 81%  140M 0s\n",
      "  9950K .......... .......... .......... .......... .......... 81%  138M 0s\n",
      " 10000K .......... .......... .......... .......... .......... 82%  114M 0s\n",
      " 10050K .......... .......... .......... .......... .......... 82%  139M 0s\n",
      " 10100K .......... .......... .......... .......... .......... 82%  141M 0s\n",
      " 10150K .......... .......... .......... .......... .......... 83%  118M 0s\n",
      " 10200K .......... .......... .......... .......... .......... 83%  117M 0s\n",
      " 10250K .......... .......... .......... .......... .......... 84%  127M 0s\n",
      " 10300K .......... .......... .......... .......... .......... 84%  127M 0s\n",
      " 10350K .......... .......... .......... .......... .......... 84%  126M 0s\n",
      " 10400K .......... .......... .......... .......... .......... 85%  104M 0s\n",
      " 10450K .......... .......... .......... .......... .......... 85%  129M 0s\n",
      " 10500K .......... .......... .......... .......... .......... 86%  126M 0s\n",
      " 10550K .......... .......... .......... .......... .......... 86%  127M 0s\n",
      " 10600K .......... .......... .......... .......... .......... 86%  117M 0s\n",
      " 10650K .......... .......... .......... .......... .......... 87%  123M 0s\n",
      " 10700K .......... .......... .......... .......... .......... 87%  126M 0s\n",
      " 10750K .......... .......... .......... .......... .......... 88%  130M 0s\n",
      " 10800K .......... .......... .......... .......... .......... 88%  104M 0s\n",
      " 10850K .......... .......... .......... .......... .......... 88%  129M 0s\n",
      " 10900K .......... .......... .......... .......... .......... 89%  128M 0s\n",
      " 10950K .......... .......... .......... .......... .......... 89%  129M 0s\n",
      " 11000K .......... .......... .......... .......... .......... 90% 1,63M 0s\n",
      " 11050K .......... .......... .......... .......... .......... 90% 9,86M 0s\n",
      " 11100K .......... .......... .......... .......... .......... 90% 26,7M 0s\n",
      " 11150K .......... .......... .......... .......... .......... 91% 16,0M 0s\n",
      " 11200K .......... .......... .......... .......... .......... 91% 47,2M 0s\n",
      " 11250K .......... .......... .......... .......... .......... 92%  115M 0s\n",
      " 11300K .......... .......... .......... .......... .......... 92%  105M 0s\n",
      " 11350K .......... .......... .......... .......... .......... 93%  115M 0s\n",
      " 11400K .......... .......... .......... .......... .......... 93%  105M 0s\n",
      " 11450K .......... .......... .......... .......... .......... 93%  114M 0s\n",
      " 11500K .......... .......... .......... .......... .......... 94%  113M 0s\n",
      " 11550K .......... .......... .......... .......... .......... 94%  114M 0s\n",
      " 11600K .......... .......... .......... .......... .......... 95% 93,1M 0s\n",
      " 11650K .......... .......... .......... .......... .......... 95%  115M 0s\n",
      " 11700K .......... .......... .......... .......... .......... 95%  116M 0s\n",
      " 11750K .......... .......... .......... .......... .......... 96%  110M 0s\n",
      " 11800K .......... .......... .......... .......... .......... 96%  105M 0s\n",
      " 11850K .......... .......... .......... .......... .......... 97%  114M 0s\n",
      " 11900K .......... .......... .......... .......... .......... 97%  113M 0s\n",
      " 11950K .......... .......... .......... .......... .......... 97%  114M 0s\n",
      " 12000K .......... .......... .......... .......... .......... 98% 93,8M 0s\n",
      " 12050K .......... .......... .......... .......... .......... 98%  117M 0s\n",
      " 12100K .......... .......... .......... .......... .......... 99%  888K 0s\n",
      " 12150K .......... .......... .......... .......... .......... 99% 17,7M 0s\n",
      " 12200K .......... .......... .......... .......... .......... 99% 14,4M 0s\n",
      " 12250K ...                                                   100% 6154G=1,9s"
     ]
    }
   ],
   "source": [
    "%%bash --no-raise-error\n",
    "#set variables\n",
    "file=\"/tmp/test_video\"\n",
    "from_url=\"https://media.xiph.org/video/derf/y4m/hall_objects_qcif.y4m\"\n",
    "\n",
    "#download file if not present in folder\n",
    "if [ -f \"$file\" ]\n",
    "then\n",
    "\techo \"File $file is already downloaded.\"\n",
    "else\n",
    "\techo \"Downloading: $file\"\n",
    "\techo \"please wait until the file is downloaded\"\n",
    "\twget -q -c --show-progress -O $file $from_url\n",
    "fi"
   ]
  },
  {
   "cell_type": "markdown",
   "metadata": {},
   "source": [
    "# Extract frames from the file"
   ]
  },
  {
   "cell_type": "code",
   "execution_count": 3,
   "metadata": {},
   "outputs": [
    {
     "name": "stderr",
     "output_type": "stream",
     "text": [
      "Input #0, yuv4mpegpipe, from '/tmp/test_video':\n",
      "  Duration: 00:00:11.01, start: 0.000000, bitrate: 9116 kb/s\n",
      "    Stream #0:0: Video: rawvideo (I420 / 0x30323449), yuv420p, 176x144, SAR 128:117 DAR 1408:1053, 29.97 fps, 29.97 tbr, 29.97 tbn, 29.97 tbc\n",
      "Output #0, image2, to '/tmp/images/%03d.png':\n",
      "  Metadata:\n",
      "    encoder         : Lavf56.40.101\n",
      "    Stream #0:0: Video: png, rgb24, 176x144 [SAR 128:117 DAR 1408:1053], q=2-31, 200 kb/s, 29.97 fps, 29.97 tbn, 29.97 tbc\n",
      "    Metadata:\n",
      "      encoder         : Lavc56.60.100 png\n",
      "Stream mapping:\n",
      "  Stream #0:0 -> #0:0 (rawvideo (native) -> png (native))\n",
      "Press [q] to stop, [?] for help\n",
      "frame=    9 fps=0.0 q=-0.0 Lsize=N/A time=00:00:00.30 bitrate=N/A    \n",
      "video:505kB audio:0kB subtitle:0kB other streams:0kB global headers:0kB muxing overhead: unknown\n"
     ]
    }
   ],
   "source": [
    "%%bash\n",
    "folder='/tmp/images/'\n",
    "file=\"/tmp/test_video\"\n",
    "rm -r $folder 2> /dev/null\n",
    "mkdir $folder\n",
    "ffmpeg -hide_banner -loglevel info -i $file -vframes 9 $folder%03d.png &"
   ]
  },
  {
   "cell_type": "markdown",
   "metadata": {},
   "source": [
    "# Show extracted frames"
   ]
  },
  {
   "cell_type": "code",
   "execution_count": 4,
   "metadata": {},
   "outputs": [
    {
     "name": "stdout",
     "output_type": "stream",
     "text": [
      "total 540\n",
      "drwxrwxr-x  2 usuario usuario  4096 ene 29 10:44 .\n",
      "drwxrwxrwt 20 root    root     4096 ene 29 10:44 ..\n",
      "-rw-rw-r--  1 usuario usuario 57328 ene 29 10:44 001.png\n",
      "-rw-rw-r--  1 usuario usuario 57546 ene 29 10:44 002.png\n",
      "-rw-rw-r--  1 usuario usuario 57470 ene 29 10:44 003.png\n",
      "-rw-rw-r--  1 usuario usuario 57643 ene 29 10:44 004.png\n",
      "-rw-rw-r--  1 usuario usuario 57501 ene 29 10:44 005.png\n",
      "-rw-rw-r--  1 usuario usuario 57318 ene 29 10:44 006.png\n",
      "-rw-rw-r--  1 usuario usuario 57410 ene 29 10:44 007.png\n",
      "-rw-rw-r--  1 usuario usuario 57398 ene 29 10:44 008.png\n",
      "-rw-rw-r--  1 usuario usuario 57538 ene 29 10:44 009.png\n"
     ]
    }
   ],
   "source": [
    "%%bash\n",
    "folder='/tmp/images/'\n",
    "ls -la $folder"
   ]
  },
  {
   "cell_type": "markdown",
   "metadata": {},
   "source": [
    "# Rename files 1..10 -> 0..9"
   ]
  },
  {
   "cell_type": "code",
   "execution_count": 5,
   "metadata": {},
   "outputs": [
    {
     "name": "stdout",
     "output_type": "stream",
     "text": [
      "total 540\n",
      "drwxrwxr-x  2 usuario usuario  4096 ene 29 10:44 .\n",
      "drwxrwxrwt 20 root    root     4096 ene 29 10:44 ..\n",
      "-rw-rw-r--  1 usuario usuario 57328 ene 29 10:44 000.png\n",
      "-rw-rw-r--  1 usuario usuario 57546 ene 29 10:44 001.png\n",
      "-rw-rw-r--  1 usuario usuario 57470 ene 29 10:44 002.png\n",
      "-rw-rw-r--  1 usuario usuario 57643 ene 29 10:44 003.png\n",
      "-rw-rw-r--  1 usuario usuario 57501 ene 29 10:44 004.png\n",
      "-rw-rw-r--  1 usuario usuario 57318 ene 29 10:44 005.png\n",
      "-rw-rw-r--  1 usuario usuario 57410 ene 29 10:44 006.png\n",
      "-rw-rw-r--  1 usuario usuario 57398 ene 29 10:44 007.png\n",
      "-rw-rw-r--  1 usuario usuario 57538 ene 29 10:44 008.png\n"
     ]
    }
   ],
   "source": [
    "%%bash\n",
    "folder='/tmp/images/'\n",
    "for i in $(seq 1 9);\n",
    "do\n",
    "\ta=$i\t\n",
    "\ta=`printf %03d $a`\n",
    "\ta=\"$folder$a.png\"\n",
    "    \n",
    "\tb=$((10#$i-1))\n",
    "\tb=`printf %03d $b`\n",
    "    b=\"$folder$b.png\"\n",
    "\tmv $a $b\n",
    "done\n",
    "ls -la $folder"
   ]
  },
  {
   "cell_type": "markdown",
   "metadata": {},
   "source": [
    "# 1 iteración"
   ]
  },
  {
   "cell_type": "markdown",
   "metadata": {},
   "source": [
    "## Prepare frames for processing"
   ]
  },
  {
   "cell_type": "code",
   "execution_count": 6,
   "metadata": {},
   "outputs": [
    {
     "name": "stdout",
     "output_type": "stream",
     "text": [
      "-rw-rw-r-- 1 usuario usuario 57328 ene 29 10:44 /tmp/000.png\n",
      "-rw-rw-r-- 1 usuario usuario 57546 ene 29 10:44 /tmp/001.png\n",
      "-rw-rw-r-- 1 usuario usuario 57470 ene 29 10:44 /tmp/002.png\n",
      "-rw-rw-r-- 1 usuario usuario 57643 ene 29 10:44 /tmp/003.png\n",
      "-rw-rw-r-- 1 usuario usuario 57501 ene 29 10:44 /tmp/004.png\n",
      "-rw-rw-r-- 1 usuario usuario 57318 ene 29 10:44 /tmp/005.png\n",
      "-rw-rw-r-- 1 usuario usuario 57410 ene 29 10:44 /tmp/006.png\n",
      "-rw-rw-r-- 1 usuario usuario 57398 ene 29 10:44 /tmp/007.png\n",
      "-rw-rw-r-- 1 usuario usuario 57538 ene 29 10:44 /tmp/008.png\n"
     ]
    }
   ],
   "source": [
    "%%bash\n",
    "folder=\"/tmp/images/\"\n",
    "rm /tmp/*.png  2> /dev/null\n",
    "cp $folder*.png /tmp/\n",
    "ls -la /tmp/*.png"
   ]
  },
  {
   "cell_type": "markdown",
   "metadata": {},
   "source": [
    "# Execute MDWT and MCDWT afterwards"
   ]
  },
  {
   "cell_type": "code",
   "execution_count": 7,
   "metadata": {},
   "outputs": [],
   "source": [
    "num_imgs=9\n",
    "predictor=1\n",
    "iterations=1\n",
    "folder=\"/tmp/images/\"\n",
    "!python3 -O MDWT.py -N $num_imgs -p /tmp/ \n",
    "!python3 -O MCDWT.py -N $num_imgs -P $predictor -p /tmp/ -T $iterations"
   ]
  },
  {
   "cell_type": "markdown",
   "metadata": {},
   "source": [
    "# copy compressed results to evaluate later"
   ]
  },
  {
   "cell_type": "code",
   "execution_count": 8,
   "metadata": {},
   "outputs": [],
   "source": [
    "%%bash\n",
    "iterations=1\n",
    "folder=\"/tmp/it$iterations\"\n",
    "rm -r $folder 2> /dev/null\n",
    "mkdir $folder\n",
    "cp /tmp/*.png $folder\n",
    "rm $folder/???.png"
   ]
  },
  {
   "cell_type": "markdown",
   "metadata": {},
   "source": [
    "# 2 iteraciones"
   ]
  },
  {
   "cell_type": "code",
   "execution_count": 9,
   "metadata": {},
   "outputs": [],
   "source": [
    "%%bash\n",
    "folder='/tmp/images/'\n",
    "rm /tmp/*.png  2> /dev/null\n",
    "cp $folder*.png /tmp/"
   ]
  },
  {
   "cell_type": "code",
   "execution_count": 10,
   "metadata": {},
   "outputs": [],
   "source": [
    "num_imgs=9\n",
    "predictor=1\n",
    "iterations=2\n",
    "folder='/tmp/images/'\n",
    "!python3 -O MDWT.py -N $num_imgs -p /tmp/ \n",
    "!python3 -O MCDWT.py -N $num_imgs -P $predictor -p /tmp/ -T $iterations"
   ]
  },
  {
   "cell_type": "code",
   "execution_count": 11,
   "metadata": {},
   "outputs": [],
   "source": [
    "%%bash\n",
    "iterations=2\n",
    "folder=\"/tmp/it$iterations\"\n",
    "rm -r $folder 2> /dev/null\n",
    "mkdir $folder\n",
    "cp /tmp/*.png $folder\n",
    "rm $folder/???.png"
   ]
  },
  {
   "cell_type": "markdown",
   "metadata": {},
   "source": [
    "# 3 iteraciónes"
   ]
  },
  {
   "cell_type": "code",
   "execution_count": 12,
   "metadata": {},
   "outputs": [],
   "source": [
    "%%bash\n",
    "folder='/tmp/images/'\n",
    "rm /tmp/*.png  2> /dev/null\n",
    "cp $folder*.png /tmp/"
   ]
  },
  {
   "cell_type": "code",
   "execution_count": 13,
   "metadata": {},
   "outputs": [],
   "source": [
    "num_imgs=9\n",
    "predictor=1\n",
    "iterations=3\n",
    "folder='/tmp/images/'\n",
    "!python3 -O MDWT.py -N $num_imgs -p /tmp/ \n",
    "!python3 -O MCDWT.py -N $num_imgs -P $predictor -p /tmp/ -T $iterations"
   ]
  },
  {
   "cell_type": "code",
   "execution_count": 14,
   "metadata": {},
   "outputs": [],
   "source": [
    "%%bash\n",
    "iterations=3\n",
    "folder=\"/tmp/it$iterations\"\n",
    "rm -r $folder 2> /dev/null\n",
    "mkdir $folder\n",
    "cp /tmp/*.png $folder\n",
    "rm $folder/???.png"
   ]
  },
  {
   "cell_type": "markdown",
   "metadata": {},
   "source": [
    "# 5 iterationes"
   ]
  },
  {
   "cell_type": "code",
   "execution_count": 15,
   "metadata": {},
   "outputs": [],
   "source": [
    "%%bash\n",
    "folder='/tmp/images/'\n",
    "rm /tmp/*.png  2> /dev/null\n",
    "cp $folder*.png /tmp/"
   ]
  },
  {
   "cell_type": "code",
   "execution_count": 16,
   "metadata": {},
   "outputs": [],
   "source": [
    "num_imgs=9\n",
    "predictor=1\n",
    "iterations=5\n",
    "folder='/tmp/images/'\n",
    "!python3 -O MDWT.py -N $num_imgs -p /tmp/ \n",
    "!python3 -O MCDWT.py -N $num_imgs -P $predictor -p /tmp/ -T $iterations"
   ]
  },
  {
   "cell_type": "code",
   "execution_count": 17,
   "metadata": {},
   "outputs": [],
   "source": [
    "%%bash\n",
    "iterations=5\n",
    "folder=\"/tmp/it$iterations\"\n",
    "rm -r $folder 2> /dev/null\n",
    "mkdir $folder\n",
    "cp /tmp/*.png $folder\n",
    "rm $folder/???.png"
   ]
  },
  {
   "cell_type": "markdown",
   "metadata": {},
   "source": [
    "# 10 iteraciónes"
   ]
  },
  {
   "cell_type": "code",
   "execution_count": 18,
   "metadata": {},
   "outputs": [],
   "source": [
    "%%bash\n",
    "folder='/tmp/images/'\n",
    "rm /tmp/*.png  2> /dev/null\n",
    "cp $folder*.png /tmp/"
   ]
  },
  {
   "cell_type": "code",
   "execution_count": 19,
   "metadata": {},
   "outputs": [],
   "source": [
    "num_imgs=9\n",
    "predictor=1\n",
    "iterations=10\n",
    "folder='/tmp/images/'\n",
    "!python3 -O MDWT.py -N $num_imgs -p /tmp/ \n",
    "!python3 -O MCDWT.py -N $num_imgs -P $predictor -p /tmp/ -T $iterations"
   ]
  },
  {
   "cell_type": "code",
   "execution_count": 20,
   "metadata": {},
   "outputs": [],
   "source": [
    "%%bash\n",
    "iterations=10\n",
    "folder=\"/tmp/it$iterations\"\n",
    "rm -r $folder 2> /dev/null\n",
    "mkdir $folder\n",
    "cp /tmp/*.png $folder\n",
    "rm $folder/???.png"
   ]
  },
  {
   "cell_type": "markdown",
   "metadata": {},
   "source": [
    "# 20 iteraciones"
   ]
  },
  {
   "cell_type": "code",
   "execution_count": 21,
   "metadata": {},
   "outputs": [],
   "source": [
    "%%bash\n",
    "folder='/tmp/images/'\n",
    "rm /tmp/*.png  2> /dev/null\n",
    "cp $folder*.png /tmp/"
   ]
  },
  {
   "cell_type": "code",
   "execution_count": 22,
   "metadata": {},
   "outputs": [],
   "source": [
    "num_imgs=9\n",
    "predictor=1\n",
    "iterations=20\n",
    "folder='/tmp/images/'\n",
    "!python3 -O MDWT.py -N $num_imgs -p /tmp/ \n",
    "!python3 -O MCDWT.py -N $num_imgs -P $predictor -p /tmp/ -T $iterations"
   ]
  },
  {
   "cell_type": "code",
   "execution_count": 23,
   "metadata": {},
   "outputs": [],
   "source": [
    "%%bash\n",
    "iterations=20\n",
    "folder=\"/tmp/it$iterations\"\n",
    "rm -r $folder 2> /dev/null\n",
    "mkdir $folder\n",
    "cp /tmp/*.png $folder\n",
    "rm $folder/???.png"
   ]
  },
  {
   "cell_type": "markdown",
   "metadata": {},
   "source": [
    "# plot"
   ]
  },
  {
   "cell_type": "code",
   "execution_count": 51,
   "metadata": {},
   "outputs": [
    {
     "name": "stdout",
     "output_type": "stream",
     "text": [
      "-------------------------------------------------------------------------------------------------------------------------\n",
      "iteraciones: \n",
      "[1, 2, 3, 5, 10, 20]\n",
      "\n",
      "ratios de compresion: \n",
      "['-0.1822', '-0.1545', '-0.1406', '-0.1406', '-0.1406', '-0.1406']\n",
      "\n",
      "tamaño de imagenes comprimidas: \n",
      "[597, 583, 576, 576, 576, 576]\n",
      "\n",
      "tamaño de imagenes original: \n",
      "[505, 505, 505, 505, 505, 505]\n",
      "\n"
     ]
    },
    {
     "data": {
      "image/png": "[encoded data removed]",
      "text/plain": [
       "<Figure size 432x288 with 1 Axes>"
      ]
     },
     "metadata": {
      "needs_background": "light"
     },
     "output_type": "display_data"
    },
    {
     "data": {
      "image/png": "[encoded data removed]",
      "text/plain": [
       "<Figure size 432x288 with 1 Axes>"
      ]
     },
     "metadata": {
      "needs_background": "light"
     },
     "output_type": "display_data"
    }
   ],
   "source": [
    "from matplotlib import pyplot as plt\n",
    "import numpy as np\n",
    "import math\n",
    "import os\n",
    "def get_size(start_path = '.'):\n",
    "    #total size of folder in Kbytes\n",
    "    total_size = 0\n",
    "    for dirpath, dirnames, filenames in os.walk(start_path):\n",
    "        for f in filenames:\n",
    "            fp = os.path.join(dirpath, f)\n",
    "            # skip if it is symbolic link\n",
    "            if not os.path.islink(fp):\n",
    "                total_size += os.path.getsize(fp)\n",
    "\n",
    "    return (int) (total_size/1024)\n",
    "fp=\"/tmp/it1\"\n",
    "\n",
    "%matplotlib inline\n",
    "# x - numero de iteraciones\n",
    "x=[1,2,3,5,10,20] \n",
    "# y - tamaño imagenes comprimidas\n",
    "y=[get_size(\"/tmp/it1\"),get_size(\"/tmp/it2\"),get_size(\"/tmp/it3\"),get_size(\"/tmp/it5\"),get_size(\"/tmp/it10\"),get_size(\"/tmp/it20\")]\n",
    "a = get_size(\"/tmp/images/\")\n",
    "# y1 - tamaño imagenes sin comprimir \n",
    "y1 =[a,a,a,a,a,a]\n",
    "# z - ratio de compresión\n",
    "z = []\n",
    "for i in range(0,len(x)):\n",
    "    z.append(\"{0:.4f}\".format(1-(y[i]/y1[i])))\n",
    "print('-------------------------------------------------------------------------------------------------------------------------')\n",
    "print('iteraciones: ')\n",
    "print(str(x)+'\\n')\n",
    "print(\"ratios de compresion: \")\n",
    "print(str(z)+'\\n')\n",
    "\n",
    "fig1=plt.figure()\n",
    "ax=fig1.add_axes([0,0,2,1])\n",
    "ax.set_title(\"Tamaño imagenes: originales/comprimidas\")\n",
    "ax.set_xlabel(\"iteraciones\")\n",
    "ax.set_ylabel(\"tamaño KB\")\n",
    "ax.set_xticks(x)\n",
    "ax.set_yticks(y+y1)\n",
    "ax.plot(x,y,'-bo',color='r',label='data1')\n",
    "ax.plot(x,y1,'-bo',color='b',label='data2')\n",
    "\n",
    "fig2=plt.figure()\n",
    "ax1=fig2.add_axes([0,0,2,1])\n",
    "ax1.set_title('Ratios de compresion')\n",
    "ax1.set_xlabel(\"iteraciones\")\n",
    "ax1.set_ylabel(\"ratio\")\n",
    "ax1.set_xticks(x)\n",
    "ax1.plot(x,z,'-bo',color='b')\n",
    "\n",
    "print(\"tamaño de imagenes comprimidas: \")\n",
    "print(str(y)+'\\n')\n",
    "print(\"tamaño de imagenes original: \")\n",
    "print(str(y1)+'\\n')\n"
   ]
  },
  {
   "cell_type": "code",
   "execution_count": null,
   "metadata": {},
   "outputs": [],
   "source": []
  }
 ],
 "metadata": {
  "kernelspec": {
   "display_name": "Python 3",
   "language": "python",
   "name": "python3"
  },
  "language_info": {
   "codemirror_mode": {
    "name": "ipython",
    "version": 3
   },
   "file_extension": ".py",
   "mimetype": "text/x-python",
   "name": "python",
   "nbconvert_exporter": "python",
   "pygments_lexer": "ipython3",
   "version": "3.5.2"
  }
 },
 "nbformat": 4,
 "nbformat_minor": 4
}
