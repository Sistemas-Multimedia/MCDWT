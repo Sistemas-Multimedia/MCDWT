{
 "cells": [
  {
   "cell_type": "code",
   "execution_count": 1,
   "metadata": {},
   "outputs": [
    {
     "name": "stdout",
     "output_type": "stream",
     "text": [
      "00 - Explicación del script issue00-v1\r\n"
     ]
    }
   ],
   "source": [
    "!echo \"00 - Explicación del script issue00-v1\""
   ]
  },
  {
   "cell_type": "code",
   "execution_count": 2,
   "metadata": {},
   "outputs": [
    {
     "name": "stdout",
     "output_type": "stream",
     "text": [
      "01 - Declaración de parámetros\r\n"
     ]
    }
   ],
   "source": [
    "!echo \"01 - Declaración de parámetros\""
   ]
  },
  {
   "cell_type": "code",
   "execution_count": 3,
   "metadata": {},
   "outputs": [],
   "source": [
    "url_video = \"https://media.xiph.org/video/derf/y4m/galleon_422_qcif.y4m\"\n",
    "name_video = \"galleon_422_qcif.y4m\"\n",
    "entrada = \"entrada\"\n",
    "salida = \"salida\"\n",
    "limite = 9\n",
    "T=5"
   ]
  },
  {
   "cell_type": "code",
   "execution_count": 4,
   "metadata": {},
   "outputs": [
    {
     "name": "stdout",
     "output_type": "stream",
     "text": [
      "02 - Preparación de carpetas\r\n"
     ]
    }
   ],
   "source": [
    "!echo \"02 - Preparación de carpetas\""
   ]
  },
  {
   "cell_type": "code",
   "execution_count": 5,
   "metadata": {},
   "outputs": [],
   "source": [
    "!mkdir -p /tmp/{entrada}\n",
    "!mkdir -p /tmp/{salida}"
   ]
  },
  {
   "cell_type": "code",
   "execution_count": 6,
   "metadata": {},
   "outputs": [
    {
     "name": "stdout",
     "output_type": "stream",
     "text": [
      "03 - Limpieza de archivos temporales\r\n"
     ]
    }
   ],
   "source": [
    "!echo \"03 - Limpieza de archivos temporales\""
   ]
  },
  {
   "cell_type": "code",
   "execution_count": 7,
   "metadata": {},
   "outputs": [],
   "source": [
    "!rm *.y4m"
   ]
  },
  {
   "cell_type": "code",
   "execution_count": 8,
   "metadata": {},
   "outputs": [],
   "source": [
    "!rm /tmp/{entrada}/*.*\n",
    "!rm /tmp/{salida}/*.* "
   ]
  },
  {
   "cell_type": "code",
   "execution_count": 9,
   "metadata": {},
   "outputs": [
    {
     "name": "stdout",
     "output_type": "stream",
     "text": [
      "04 - Descarga de vídeo y extracción de imágenes\r\n"
     ]
    }
   ],
   "source": [
    "!echo \"04 - Descarga de vídeo y extracción de imágenes\""
   ]
  },
  {
   "cell_type": "code",
   "execution_count": 22,
   "metadata": {
    "scrolled": true
   },
   "outputs": [
    {
     "name": "stdout",
     "output_type": "stream",
     "text": [
      "--2020-01-24 18:58:01--  https://media.xiph.org/video/derf/y4m/galleon_422_qcif.y4m\n",
      "Resolving media.xiph.org (media.xiph.org)... 54.39.18.101, 2607:5300:203:2965::\n",
      "Connecting to media.xiph.org (media.xiph.org)|54.39.18.101|:443... connected.\n",
      "HTTP request sent, awaiting response... 200 OK\n",
      "Length: 18249883 (17M)\n",
      "Saving to: ‘galleon_422_qcif.y4m.1’\n",
      "\n",
      "galleon_422_qcif.y4 100%[===================>]  17.40M  1.20MB/s    in 15s     \n",
      "\n",
      "2020-01-24 18:58:16 (1.17 MB/s) - ‘galleon_422_qcif.y4m.1’ saved [18249883/18249883]\n",
      "\n"
     ]
    }
   ],
   "source": [
    "!wget {url_video}"
   ]
  },
  {
   "cell_type": "code",
   "execution_count": 11,
   "metadata": {},
   "outputs": [
    {
     "name": "stdout",
     "output_type": "stream",
     "text": [
      "ffmpeg version 3.4.6-0ubuntu0.18.04.1 Copyright (c) 2000-2019 the FFmpeg developers\n",
      "  built with gcc 7 (Ubuntu 7.3.0-16ubuntu3)\n",
      "  configuration: --prefix=/usr --extra-version=0ubuntu0.18.04.1 --toolchain=hardened --libdir=/usr/lib/x86_64-linux-gnu --incdir=/usr/include/x86_64-linux-gnu --enable-gpl --disable-stripping --enable-avresample --enable-avisynth --enable-gnutls --enable-ladspa --enable-libass --enable-libbluray --enable-libbs2b --enable-libcaca --enable-libcdio --enable-libflite --enable-libfontconfig --enable-libfreetype --enable-libfribidi --enable-libgme --enable-libgsm --enable-libmp3lame --enable-libmysofa --enable-libopenjpeg --enable-libopenmpt --enable-libopus --enable-libpulse --enable-librubberband --enable-librsvg --enable-libshine --enable-libsnappy --enable-libsoxr --enable-libspeex --enable-libssh --enable-libtheora --enable-libtwolame --enable-libvorbis --enable-libvpx --enable-libwavpack --enable-libwebp --enable-libx265 --enable-libxml2 --enable-libxvid --enable-libzmq --enable-libzvbi --enable-omx --enable-openal --enable-opengl --enable-sdl2 --enable-libdc1394 --enable-libdrm --enable-libiec61883 --enable-chromaprint --enable-frei0r --enable-libopencv --enable-libx264 --enable-shared\n",
      "  libavutil      55. 78.100 / 55. 78.100\n",
      "  libavcodec     57.107.100 / 57.107.100\n",
      "  libavformat    57. 83.100 / 57. 83.100\n",
      "  libavdevice    57. 10.100 / 57. 10.100\n",
      "  libavfilter     6.107.100 /  6.107.100\n",
      "  libavresample   3.  7.  0 /  3.  7.  0\n",
      "  libswscale      4.  8.100 /  4.  8.100\n",
      "  libswresample   2.  9.100 /  2.  9.100\n",
      "  libpostproc    54.  7.100 / 54.  7.100\n",
      "Input #0, yuv4mpegpipe, from 'galleon_422_qcif.y4m':\n",
      "  Duration: 00:00:12.00, start: 0.000000, bitrate: 12166 kb/s\n",
      "    Stream #0:0: Video: rawvideo (Y42B / 0x42323459), yuv422p(progressive), 176x144, SAR 128:117 DAR 1408:1053, 30 fps, 30 tbr, 30 tbn, 30 tbc\n",
      "Stream mapping:\n",
      "  Stream #0:0 -> #0:0 (rawvideo (native) -> png (native))\n",
      "Press [q] to stop, [?] for help\n",
      "Output #0, image2, to '/tmp/entrada/%03d.png':\n",
      "  Metadata:\n",
      "    encoder         : Lavf57.83.100\n",
      "    Stream #0:0: Video: png, rgb24, 176x144 [SAR 128:117 DAR 1408:1053], q=2-31, 200 kb/s, 30 fps, 30 tbn, 30 tbc\n",
      "    Metadata:\n",
      "      encoder         : Lavc57.107.100 png\n",
      "frame=    9 fps=0.0 q=-0.0 Lsize=N/A time=00:00:00.30 bitrate=N/A speed=6.81x    \n",
      "video:510kB audio:0kB subtitle:0kB other streams:0kB global headers:0kB muxing overhead: unknown\n"
     ]
    }
   ],
   "source": [
    "!ffmpeg -i {name_video} -vframes {limite} /tmp/{entrada}/%03d.png"
   ]
  },
  {
   "cell_type": "code",
   "execution_count": 13,
   "metadata": {},
   "outputs": [
    {
     "name": "stdout",
     "output_type": "stream",
     "text": [
      "05 - Se corrige bug de MDWT para la imagen 000\r\n"
     ]
    }
   ],
   "source": [
    "!echo \"05 - Se corrige bug de MDWT para la imagen 000\""
   ]
  },
  {
   "cell_type": "code",
   "execution_count": 14,
   "metadata": {},
   "outputs": [],
   "source": [
    "!sh corregir_png.sh {entrada}"
   ]
  },
  {
   "cell_type": "code",
   "execution_count": 15,
   "metadata": {},
   "outputs": [
    {
     "name": "stdout",
     "output_type": "stream",
     "text": [
      "06 - Pasar MDWT y MCDWT\n",
      "python3 -O MDWT.py -p /tmp/entrada/\n",
      "python3 -O MCDWT.py -P 1 -p /tmp/entrada/ -T 5\n"
     ]
    }
   ],
   "source": [
    "!echo \"06 - Pasar MDWT y MCDWT\"\n",
    "!echo \"python3 -O MDWT.py -p /tmp/{entrada}/\"\n",
    "!echo \"python3 -O MCDWT.py -P 1 -p /tmp/{entrada}/ -T {T}\""
   ]
  },
  {
   "cell_type": "code",
   "execution_count": 16,
   "metadata": {},
   "outputs": [
    {
     "name": "stdout",
     "output_type": "stream",
     "text": [
      "a=2 a=4 a=4 "
     ]
    }
   ],
   "source": [
    "!sh iteration_mcdwt.sh {entrada} {T}"
   ]
  },
  {
   "cell_type": "code",
   "execution_count": 17,
   "metadata": {
    "scrolled": false
   },
   "outputs": [
    {
     "name": "stdout",
     "output_type": "stream",
     "text": [
      "07 - Se mueven los archivos obtenidos a la carpeta de salida\r\n"
     ]
    }
   ],
   "source": [
    "!echo \"07 - Se mueven los archivos obtenidos a la carpeta de salida\""
   ]
  },
  {
   "cell_type": "code",
   "execution_count": 18,
   "metadata": {},
   "outputs": [],
   "source": [
    "!mv /tmp/{entrada}/?????.png /tmp/{salida}/"
   ]
  },
  {
   "cell_type": "code",
   "execution_count": 19,
   "metadata": {},
   "outputs": [
    {
     "name": "stdout",
     "output_type": "stream",
     "text": [
      "08 - Se obtiene el compressor ratio\r\n"
     ]
    }
   ],
   "source": [
    "!echo \"08 - Se obtiene el compressor ratio\""
   ]
  },
  {
   "cell_type": "code",
   "execution_count": 20,
   "metadata": {},
   "outputs": [
    {
     "name": "stdout",
     "output_type": "stream",
     "text": [
      "El tamaño de las imagenes finales es 416 bytes\n",
      "El tamaño de las imagenes iniciales es 544 bytes\n",
      "El ratio de compresion es 1.30\n"
     ]
    }
   ],
   "source": [
    "!sh calcular_ratio.sh {entrada} {salida}"
   ]
  }
 ],
 "metadata": {
  "kernelspec": {
   "display_name": "Python 3",
   "language": "python",
   "name": "python3"
  },
  "language_info": {
   "codemirror_mode": {
    "name": "ipython",
    "version": 3
   },
   "file_extension": ".py",
   "mimetype": "text/x-python",
   "name": "python",
   "nbconvert_exporter": "python",
   "pygments_lexer": "ipython3",
   "version": "3.6.9"
  }
 },
 "nbformat": 4,
 "nbformat_minor": 2
}
