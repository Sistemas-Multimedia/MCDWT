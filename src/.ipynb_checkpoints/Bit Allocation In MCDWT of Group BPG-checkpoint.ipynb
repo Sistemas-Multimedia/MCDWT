{
 "cells": [
  {
   "cell_type": "markdown",
   "metadata": {},
   "source": [
    "# Bit Allocation in MCDWT"
   ]
  },
  {
   "cell_type": "markdown",
   "metadata": {},
   "source": [
    "# LL subbuds for 001 and 002"
   ]
  },
  {
   "cell_type": "code",
   "execution_count": 5,
   "metadata": {},
   "outputs": [
    {
     "name": "stdout",
     "output_type": "stream",
     "text": [
      "this is deadzone\n",
      "this is deadzone\n",
      "this is deadzone\n",
      "this is deadzone\n",
      "this is deadzone\n",
      "this is deadzone\n",
      "this is deadzone\n",
      "this is deadzone\n",
      "this is deadzone\n",
      "this is deadzone\n",
      "this is deadzone\n",
      "this is deadzone\n"
     ]
    },
    {
     "name": "stderr",
     "output_type": "stream",
     "text": [
      "rm: cannot remove '/tmp/*.png': No such file or directory\n"
     ]
    }
   ],
   "source": [
    "%%bash\n",
    "for i in $(seq 5 5 30)\n",
    "do \n",
    "q_step=$i\n",
    "select=1\n",
    "predictor=2\n",
    "# You must be in the ’src’ directory.  \n",
    "rm /tmp/*.png  \n",
    "cp ../sequences/stockholm/*.png /tmp  \n",
    "\n",
    "python3 -O MDWT.py -p /tmp/  \n",
    "python3 -O MCDWT.py -P $predictor -p /tmp/  -T 1\n",
    "\n",
    "python3 ../tools/quantize1.py -i /tmp/LL001.png -o /tmp/LL001.png -q $q_step -s $select  \n",
    "python3 ../tools/quantize1.py -i /tmp/LL002.png -o /tmp/LL002.png -q $q_step -s $select \n",
    " \n",
    "#python3 ../tools/quantize1.py -i /tmp/LH001.png -o /tmp/LH001.png -q $q_step -s $select\n",
    " \n",
    "#python3 ../tools/quantize1.py -i /tmp/HL001.png -o /tmp/HL001.png -q $q_step -s $select\n",
    "#python3 ../tools/quantize1.py -i /tmp/HH001.png -o /tmp/HH001.png -q $q_step -s $select\n",
    " \n",
    "\n",
    "rm -rf /tmp/ll1$i\n",
    "mkdir /tmp/ll1$i\n",
    "cp /tmp/LL001.png /tmp/ll1$i  \n",
    "\n",
    "rm -rf /tmp/ll2$i\n",
    "mkdir /tmp/ll2$i\n",
    "cp /tmp/LL002.png /tmp/ll2$i \n",
    "\n",
    "#rm -rf /tmp/hl$i\n",
    "#mkdir /tmp/hl$i\n",
    "#cp /tmp/HL001.png /tmp/hl$i  \n",
    "#rm -rf /tmp/hh$i\n",
    "#mkdir /tmp/hh$i\n",
    "#cp /tmp/HH001.png /tmp/hh$i \n",
    "\n",
    "python3 -O MCDWT.py -P $predictor -p /tmp/ -b  -T 1\n",
    "python3 -O MDWT.py -p /tmp/ -b  \n",
    " \n",
    "rm -rf /tmp/ll1step$i\n",
    "mkdir /tmp/ll1step$i\n",
    "cp /tmp/*001.png /tmp/ll1step$i\n",
    "\n",
    "rm -rf /tmp/ll2step$i\n",
    "mkdir /tmp/ll2step$i\n",
    "cp /tmp/*002.png /tmp/ll2step$i\n",
    "\n",
    "done\n"
   ]
  },
  {
   "cell_type": "markdown",
   "metadata": {},
   "source": [
    "## size of LL subbunds of 001 and 002"
   ]
  },
  {
   "cell_type": "code",
   "execution_count": 6,
   "metadata": {},
   "outputs": [
    {
     "name": "stdout",
     "output_type": "stream",
     "text": [
      "ll11: 616793\n",
      "ll12: 510970\n",
      "ll13: 445874\n",
      "ll14: 403534\n",
      "ll15: 368415\n",
      "ll16: 340943\n",
      "ll21: 617562\n",
      "ll22: 511797\n",
      "ll23: 446966\n",
      "ll24: 403987\n",
      "ll25: 369081\n",
      "ll26: 342169\n"
     ]
    }
   ],
   "source": [
    "import subprocess\n",
    "#rate bit for 001\n",
    "path = '/tmp/ll15/'\n",
    "ll11 = subprocess.check_output(['du','-sb', path]).split()[0].decode('utf-8')\n",
    "print(\"ll11: \" + ll11)\n",
    "path = '/tmp/ll110/'\n",
    "ll12 = subprocess.check_output(['du','-sb', path]).split()[0].decode('utf-8')\n",
    "print(\"ll12: \" + ll12)\n",
    "path = '/tmp/ll115/'\n",
    "ll13 = subprocess.check_output(['du','-sb', path]).split()[0].decode('utf-8')\n",
    "print(\"ll13: \" + ll13)\n",
    "path = '/tmp/ll120/'\n",
    "ll14 = subprocess.check_output(['du','-sb', path]).split()[0].decode('utf-8')\n",
    "print(\"ll14: \" + ll14)\n",
    "\n",
    "path = '/tmp/ll125/'\n",
    "ll15 = subprocess.check_output(['du','-sb', path]).split()[0].decode('utf-8')\n",
    "print(\"ll15: \" + ll15)\n",
    "\n",
    "path = '/tmp/ll130/'\n",
    "ll16 = subprocess.check_output(['du','-sb', path]).split()[0].decode('utf-8')\n",
    "print(\"ll16: \" + ll16)\n",
    "\n",
    "#rate bit for 002\n",
    "path = '/tmp/ll25/'\n",
    "ll21 = subprocess.check_output(['du','-sb', path]).split()[0].decode('utf-8')\n",
    "print(\"ll21: \" + ll21)\n",
    "path = '/tmp/ll210/'\n",
    "ll22 = subprocess.check_output(['du','-sb', path]).split()[0].decode('utf-8')\n",
    "print(\"ll22: \" + ll22)\n",
    "path = '/tmp/ll215/'\n",
    "ll23 = subprocess.check_output(['du','-sb', path]).split()[0].decode('utf-8')\n",
    "print(\"ll23: \" + ll23)\n",
    "path = '/tmp/ll220/'\n",
    "ll24 = subprocess.check_output(['du','-sb', path]).split()[0].decode('utf-8')\n",
    "print(\"ll24: \" + ll24)\n",
    "\n",
    "path = '/tmp/ll225/'\n",
    "ll25 = subprocess.check_output(['du','-sb', path]).split()[0].decode('utf-8')\n",
    "print(\"ll25: \" + ll25)\n",
    "\n",
    "path = '/tmp/ll230/'\n",
    "ll26 = subprocess.check_output(['du','-sb', path]).split()[0].decode('utf-8')\n",
    "print(\"ll26: \" + ll26)"
   ]
  },
  {
   "cell_type": "markdown",
   "metadata": {},
   "source": [
    "## MSE of 001 and 002 LL subbunds"
   ]
  },
  {
   "cell_type": "code",
   "execution_count": 7,
   "metadata": {},
   "outputs": [
    {
     "name": "stdout",
     "output_type": "stream",
     "text": [
      "5.170754665798611\n",
      "11.402197604709201\n",
      "20.822687445746528\n",
      "33.4013658311632\n",
      "49.315387641059026\n",
      "68.38126017252604\n",
      "3.3501546223958334\n",
      "9.267030504014757\n",
      "18.3890865749783\n",
      "30.57810295952691\n",
      "46.16820237901476\n",
      "64.85401950412326\n"
     ]
    }
   ],
   "source": [
    "#mse for 001\n",
    "mse11=get_ipython().getoutput('python3 -O ../tools/MSE.py -x ../sequences/stockholm/001.png -y /tmp/ll1step5/001.png' )\n",
    "llmse11=float(mse11[0])\n",
    "print (llmse11)\n",
    "\n",
    "mse12=get_ipython().getoutput('python3 -O ../tools/MSE.py -x ../sequences/stockholm/001.png -y /tmp/ll1step10/001.png' )\n",
    "llmse12=float(mse12[0])\n",
    "print (llmse12)\n",
    "\n",
    "mse13=get_ipython().getoutput('python3 -O ../tools/MSE.py -x ../sequences/stockholm/001.png -y /tmp/ll1step15/001.png' )\n",
    "llmse13=float(mse13[0])\n",
    "print (llmse13)\n",
    "\n",
    "mse14=get_ipython().getoutput('python3 -O ../tools/MSE.py -x ../sequences/stockholm/001.png -y /tmp/ll1step20/001.png' )\n",
    "llmse14=float(mse14[0])\n",
    "print (llmse14)\n",
    "\n",
    "mse15=get_ipython().getoutput('python3 -O ../tools/MSE.py -x ../sequences/stockholm/001.png -y /tmp/ll1step25/001.png' )\n",
    "llmse15=float(mse15[0])\n",
    "print (llmse15)\n",
    "\n",
    "mse16=get_ipython().getoutput('python3 -O ../tools/MSE.py -x ../sequences/stockholm/001.png -y /tmp/ll1step30/001.png' )\n",
    "llmse16=float(mse16[0])\n",
    "print (llmse16)\n",
    "\n",
    "#mse for 002\n",
    "mse21=get_ipython().getoutput('python3 -O ../tools/MSE.py -x ../sequences/stockholm/002.png -y /tmp/ll2step5/002.png' )\n",
    "llmse21=float(mse21[0])\n",
    "print (llmse21)\n",
    "\n",
    "mse22=get_ipython().getoutput('python3 -O ../tools/MSE.py -x ../sequences/stockholm/002.png -y /tmp/ll2step10/002.png' )\n",
    "llmse22=float(mse22[0])\n",
    "print (llmse22)\n",
    "\n",
    "mse23=get_ipython().getoutput('python3 -O ../tools/MSE.py -x ../sequences/stockholm/002.png -y /tmp/ll2step15/002.png' )\n",
    "llmse23=float(mse23[0])\n",
    "print (llmse23)\n",
    "\n",
    "mse24=get_ipython().getoutput('python3 -O ../tools/MSE.py -x ../sequences/stockholm/002.png -y /tmp/ll2step20/002.png' )\n",
    "llmse24=float(mse24[0])\n",
    "print (llmse24)\n",
    "\n",
    "mse25=get_ipython().getoutput('python3 -O ../tools/MSE.py -x ../sequences/stockholm/002.png -y /tmp/ll2step25/002.png' )\n",
    "llmse25=float(mse25[0])\n",
    "print (llmse25)\n",
    "\n",
    "mse26=get_ipython().getoutput('python3 -O ../tools/MSE.py -x ../sequences/stockholm/002.png -y /tmp/ll2step30/002.png' )\n",
    "llmse26=float(mse26[0])\n",
    "print (llmse26)"
   ]
  },
  {
   "cell_type": "markdown",
   "metadata": {},
   "source": [
    "# LH subbud for 001 and 002"
   ]
  },
  {
   "cell_type": "code",
   "execution_count": 8,
   "metadata": {},
   "outputs": [
    {
     "name": "stdout",
     "output_type": "stream",
     "text": [
      "this is deadzone\n",
      "this is deadzone\n",
      "this is deadzone\n",
      "this is deadzone\n",
      "this is deadzone\n",
      "this is deadzone\n",
      "this is deadzone\n",
      "this is deadzone\n",
      "this is deadzone\n",
      "this is deadzone\n",
      "this is deadzone\n",
      "this is deadzone\n"
     ]
    }
   ],
   "source": [
    "%%bash\n",
    "for i in $(seq 5 5 30)\n",
    "do \n",
    "q_step=$i\n",
    "select=1\n",
    "predictor=2\n",
    "# You must be in the ’src’ directory.  \n",
    "rm /tmp/*.png  \n",
    "cp ../sequences/stockholm/*.png /tmp  \n",
    "\n",
    "python3 -O MDWT.py -p /tmp/  \n",
    "python3 -O MCDWT.py -P $predictor -p /tmp/ -T 1 \n",
    "\n",
    "python3 ../tools/quantize1.py -i /tmp/LH001.png -o /tmp/LH001.png -q $q_step -s $select  \n",
    "python3 ../tools/quantize1.py -i /tmp/LH002.png -o /tmp/LH002.png -q $q_step -s $select \n",
    " \n",
    "#python3 ../tools/quantize1.py -i /tmp/LH001.png -o /tmp/LH001.png -q $q_step -s $select\n",
    " \n",
    "#python3 ../tools/quantize1.py -i /tmp/HL001.png -o /tmp/HL001.png -q $q_step -s $select\n",
    "#python3 ../tools/quantize1.py -i /tmp/HH001.png -o /tmp/HH001.png -q $q_step -s $select\n",
    " \n",
    "\n",
    "rm -rf /tmp/lh1$i\n",
    "mkdir /tmp/lh1$i\n",
    "cp /tmp/LH001.png /tmp/lh1$i  \n",
    "\n",
    "rm -rf /tmp/lh2$i\n",
    "mkdir /tmp/lh2$i\n",
    "cp /tmp/LH002.png /tmp/lh2$i \n",
    "\n",
    "#rm -rf /tmp/hl$i\n",
    "#mkdir /tmp/hl$i\n",
    "#cp /tmp/HL001.png /tmp/hl$i  \n",
    "#rm -rf /tmp/hh$i\n",
    "#mkdir /tmp/hh$i\n",
    "#cp /tmp/HH001.png /tmp/hh$i \n",
    "\n",
    "python3 -O MCDWT.py -P $predictor -p /tmp/ -b  -T 1 \n",
    "python3 -O MDWT.py -p /tmp/ -b  \n",
    " \n",
    "rm -rf /tmp/lh1step$i\n",
    "mkdir /tmp/lh1step$i\n",
    "cp /tmp/*001.png /tmp/lh1step$i\n",
    "\n",
    "rm -rf /tmp/lh2step$i\n",
    "mkdir /tmp/lh2step$i\n",
    "cp /tmp/*002.png /tmp/lh2step$i\n",
    "\n",
    "done\n"
   ]
  },
  {
   "cell_type": "markdown",
   "metadata": {},
   "source": [
    "## size of LH subbunds of 001 and 002"
   ]
  },
  {
   "cell_type": "code",
   "execution_count": 9,
   "metadata": {},
   "outputs": [
    {
     "name": "stdout",
     "output_type": "stream",
     "text": [
      "lh11: 397904\n",
      "lh12: 129446\n",
      "lh13: 36557\n",
      "lh14: 403534\n",
      "lh15: 8530\n",
      "lh16: 7430\n",
      "lh21: 406909\n",
      "lh22: 180366\n",
      "lh23: 87140\n",
      "lh24: 48144\n",
      "lh25: 31485\n",
      "lh26: 22105\n"
     ]
    }
   ],
   "source": [
    "import subprocess\n",
    "#rate bit for 001\n",
    "path = '/tmp/lh15/'\n",
    "lh11 = subprocess.check_output(['du','-sb', path]).split()[0].decode('utf-8')\n",
    "print(\"lh11: \" + lh11)\n",
    "path = '/tmp/lh110/'\n",
    "lh12 = subprocess.check_output(['du','-sb', path]).split()[0].decode('utf-8')\n",
    "print(\"lh12: \" + lh12)\n",
    "path = '/tmp/lh115/'\n",
    "lh13 = subprocess.check_output(['du','-sb', path]).split()[0].decode('utf-8')\n",
    "print(\"lh13: \" + lh13)\n",
    "path = '/tmp/ll120/'\n",
    "lh14 = subprocess.check_output(['du','-sb', path]).split()[0].decode('utf-8')\n",
    "print(\"lh14: \" + lh14)\n",
    "\n",
    "path = '/tmp/lh125/'\n",
    "lh15 = subprocess.check_output(['du','-sb', path]).split()[0].decode('utf-8')\n",
    "print(\"lh15: \" + lh15)\n",
    "\n",
    "path = '/tmp/lh130/'\n",
    "lh16 = subprocess.check_output(['du','-sb', path]).split()[0].decode('utf-8')\n",
    "print(\"lh16: \" + lh16)\n",
    "\n",
    "#rate bit for 002\n",
    "path = '/tmp/lh25/'\n",
    "lh21 = subprocess.check_output(['du','-sb', path]).split()[0].decode('utf-8')\n",
    "print(\"lh21: \" + lh21)\n",
    "path = '/tmp/lh210/'\n",
    "lh22 = subprocess.check_output(['du','-sb', path]).split()[0].decode('utf-8')\n",
    "print(\"lh22: \" + lh22)\n",
    "path = '/tmp/lh215/'\n",
    "lh23 = subprocess.check_output(['du','-sb', path]).split()[0].decode('utf-8')\n",
    "print(\"lh23: \" + lh23)\n",
    "path = '/tmp/lh220/'\n",
    "lh24 = subprocess.check_output(['du','-sb', path]).split()[0].decode('utf-8')\n",
    "print(\"lh24: \" + lh24)\n",
    "\n",
    "path = '/tmp/lh225/'\n",
    "lh25 = subprocess.check_output(['du','-sb', path]).split()[0].decode('utf-8')\n",
    "print(\"lh25: \" + lh25)\n",
    "\n",
    "path = '/tmp/lh230/'\n",
    "lh26 = subprocess.check_output(['du','-sb', path]).split()[0].decode('utf-8')\n",
    "print(\"lh26: \" + lh26)"
   ]
  },
  {
   "cell_type": "markdown",
   "metadata": {},
   "source": [
    "## MSE of 001 and 002 LH subbunds"
   ]
  },
  {
   "cell_type": "code",
   "execution_count": 10,
   "metadata": {},
   "outputs": [
    {
     "name": "stdout",
     "output_type": "stream",
     "text": [
      "3.842476060655382\n",
      "7.104808213975694\n",
      "9.600506591796876\n",
      "11.165269978841145\n",
      "12.118157958984375\n",
      "12.943458726671007\n",
      "2.3726515028211805\n",
      "6.211720445421007\n",
      "10.310080295138889\n",
      "14.112695990668403\n",
      "16.934900580512153\n",
      "19.864534505208333\n"
     ]
    }
   ],
   "source": [
    "#mse for 001\n",
    "mse11=get_ipython().getoutput('python3 -O ../tools/MSE.py -x ../sequences/stockholm/001.png -y /tmp/lh1step5/001.png' )\n",
    "lhmse11=float(mse11[0])\n",
    "print (lhmse11)\n",
    "\n",
    "mse12=get_ipython().getoutput('python3 -O ../tools/MSE.py -x ../sequences/stockholm/001.png -y /tmp/lh1step10/001.png' )\n",
    "lhmse12=float(mse12[0])\n",
    "print (lhmse12)\n",
    "\n",
    "mse13=get_ipython().getoutput('python3 -O ../tools/MSE.py -x ../sequences/stockholm/001.png -y /tmp/lh1step15/001.png' )\n",
    "lhmse13=float(mse13[0])\n",
    "print (lhmse13)\n",
    "\n",
    "mse14=get_ipython().getoutput('python3 -O ../tools/MSE.py -x ../sequences/stockholm/001.png -y /tmp/lh1step20/001.png' )\n",
    "lhmse14=float(mse14[0])\n",
    "print (lhmse14)\n",
    "\n",
    "mse15=get_ipython().getoutput('python3 -O ../tools/MSE.py -x ../sequences/stockholm/001.png -y /tmp/lh1step25/001.png' )\n",
    "lhmse15=float(mse15[0])\n",
    "print (lhmse15)\n",
    "\n",
    "mse16=get_ipython().getoutput('python3 -O ../tools/MSE.py -x ../sequences/stockholm/001.png -y /tmp/lh1step30/001.png' )\n",
    "lhmse16=float(mse16[0])\n",
    "print (lhmse16)\n",
    "\n",
    "#mse for 002\n",
    "mse21=get_ipython().getoutput('python3 -O ../tools/MSE.py -x ../sequences/stockholm/002.png -y /tmp/lh2step5/002.png' )\n",
    "lhmse21=float(mse21[0])\n",
    "print (lhmse21)\n",
    "\n",
    "mse22=get_ipython().getoutput('python3 -O ../tools/MSE.py -x ../sequences/stockholm/002.png -y /tmp/lh2step10/002.png' )\n",
    "lhmse22=float(mse22[0])\n",
    "print (lhmse22)\n",
    "\n",
    "mse23=get_ipython().getoutput('python3 -O ../tools/MSE.py -x ../sequences/stockholm/002.png -y /tmp/lh2step15/002.png' )\n",
    "lhmse23=float(mse23[0])\n",
    "print (lhmse23)\n",
    "\n",
    "mse24=get_ipython().getoutput('python3 -O ../tools/MSE.py -x ../sequences/stockholm/002.png -y /tmp/lh2step20/002.png' )\n",
    "lhmse24=float(mse24[0])\n",
    "print (lhmse24)\n",
    "\n",
    "mse25=get_ipython().getoutput('python3 -O ../tools/MSE.py -x ../sequences/stockholm/002.png -y /tmp/lh2step25/002.png' )\n",
    "lhmse25=float(mse25[0])\n",
    "print (lhmse25)\n",
    "\n",
    "mse26=get_ipython().getoutput('python3 -O ../tools/MSE.py -x ../sequences/stockholm/002.png -y /tmp/lh2step30/002.png' )\n",
    "lhmse26=float(mse26[0])\n",
    "print (lhmse26)"
   ]
  },
  {
   "cell_type": "markdown",
   "metadata": {},
   "source": [
    "# HL subbud for 001 and 002"
   ]
  },
  {
   "cell_type": "code",
   "execution_count": 11,
   "metadata": {},
   "outputs": [
    {
     "name": "stdout",
     "output_type": "stream",
     "text": [
      "this is deadzone\n",
      "this is deadzone\n",
      "this is deadzone\n",
      "this is deadzone\n",
      "this is deadzone\n",
      "this is deadzone\n",
      "this is deadzone\n",
      "this is deadzone\n",
      "this is deadzone\n",
      "this is deadzone\n",
      "this is deadzone\n",
      "this is deadzone\n"
     ]
    }
   ],
   "source": [
    "%%bash\n",
    "for i in $(seq 5 5 30)\n",
    "do \n",
    "q_step=$i\n",
    "select=1\n",
    "predictor=2\n",
    "# You must be in the ’src’ directory.  \n",
    "rm /tmp/*.png  \n",
    "cp ../sequences/stockholm/*.png /tmp  \n",
    "\n",
    "python3 -O MDWT.py -p /tmp/  \n",
    "python3 -O MCDWT.py -P $predictor -p /tmp/  -T 1\n",
    "\n",
    "python3 ../tools/quantize1.py -i /tmp/HL001.png -o /tmp/HL001.png -q $q_step -s $select  \n",
    "python3 ../tools/quantize1.py -i /tmp/HL002.png -o /tmp/HL002.png -q $q_step -s $select \n",
    " \n",
    "\n",
    " \n",
    "\n",
    "rm -rf /tmp/hl1$i\n",
    "mkdir /tmp/hl1$i\n",
    "cp /tmp/HL001.png /tmp/hl1$i  \n",
    "\n",
    "rm -rf /tmp/hl2$i\n",
    "mkdir /tmp/hl2$i\n",
    "cp /tmp/HL002.png /tmp/hl2$i \n",
    "\n",
    "\n",
    "python3 -O MCDWT.py -P $predictor -p /tmp/ -b  -T 1\n",
    "python3 -O MDWT.py -p /tmp/ -b  \n",
    " \n",
    "rm -rf /tmp/hl1step$i\n",
    "mkdir /tmp/hl1step$i\n",
    "cp /tmp/*001.png /tmp/hl1step$i\n",
    "\n",
    "rm -rf /tmp/hl2step$i\n",
    "mkdir /tmp/hl2step$i\n",
    "cp /tmp/*002.png /tmp/hl2step$i\n",
    "\n",
    "done"
   ]
  },
  {
   "cell_type": "markdown",
   "metadata": {},
   "source": [
    "## size of HL subbunds of 001 and 002"
   ]
  },
  {
   "cell_type": "code",
   "execution_count": 12,
   "metadata": {},
   "outputs": [
    {
     "name": "stdout",
     "output_type": "stream",
     "text": [
      "hl11: 369603\n",
      "hl12: 94030\n",
      "lh13: 25682\n",
      "hl14: 12308\n",
      "hl15: 8841\n",
      "hl16: 7799\n",
      "hl21: 348625\n",
      "hl22: 96403\n",
      "hl23: 36373\n",
      "hl24: 19238\n",
      "hl25: 12715\n",
      "hl26: 10158\n"
     ]
    }
   ],
   "source": [
    "import subprocess\n",
    "#rate bit for 001\n",
    "path = '/tmp/hl15/'\n",
    "hl11 = subprocess.check_output(['du','-sb', path]).split()[0].decode('utf-8')\n",
    "print(\"hl11: \" + hl11)\n",
    "path = '/tmp/hl110/'\n",
    "hl12 = subprocess.check_output(['du','-sb', path]).split()[0].decode('utf-8')\n",
    "print(\"hl12: \" + hl12)\n",
    "path = '/tmp/hl115/'\n",
    "hl13 = subprocess.check_output(['du','-sb', path]).split()[0].decode('utf-8')\n",
    "print(\"lh13: \" + hl13)\n",
    "path = '/tmp/hl120/'\n",
    "hl14 = subprocess.check_output(['du','-sb', path]).split()[0].decode('utf-8')\n",
    "print(\"hl14: \" + hl14)\n",
    "\n",
    "path = '/tmp/hl125/'\n",
    "hl15 = subprocess.check_output(['du','-sb', path]).split()[0].decode('utf-8')\n",
    "print(\"hl15: \" + hl15)\n",
    "\n",
    "path = '/tmp/hl130/'\n",
    "hl16 = subprocess.check_output(['du','-sb', path]).split()[0].decode('utf-8')\n",
    "print(\"hl16: \" + hl16)\n",
    "\n",
    "#rate bit for 002\n",
    "path = '/tmp/hl25/'\n",
    "hl21 = subprocess.check_output(['du','-sb', path]).split()[0].decode('utf-8')\n",
    "print(\"hl21: \" + hl21)\n",
    "path = '/tmp/hl210/'\n",
    "hl22 = subprocess.check_output(['du','-sb', path]).split()[0].decode('utf-8')\n",
    "print(\"hl22: \" + hl22)\n",
    "path = '/tmp/hl215/'\n",
    "hl23 = subprocess.check_output(['du','-sb', path]).split()[0].decode('utf-8')\n",
    "print(\"hl23: \" + hl23)\n",
    "path = '/tmp/hl220/'\n",
    "hl24 = subprocess.check_output(['du','-sb', path]).split()[0].decode('utf-8')\n",
    "print(\"hl24: \" + hl24)\n",
    "\n",
    "path = '/tmp/hl225/'\n",
    "hl25 = subprocess.check_output(['du','-sb', path]).split()[0].decode('utf-8')\n",
    "print(\"hl25: \" + hl25)\n",
    "\n",
    "path = '/tmp/hl230/'\n",
    "hl26 = subprocess.check_output(['du','-sb', path]).split()[0].decode('utf-8')\n",
    "print(\"hl26: \" + hl26)"
   ]
  },
  {
   "cell_type": "markdown",
   "metadata": {},
   "source": [
    "## MSE of 001 and 002 HL subbunds"
   ]
  },
  {
   "cell_type": "code",
   "execution_count": 13,
   "metadata": {},
   "outputs": [
    {
     "name": "stdout",
     "output_type": "stream",
     "text": [
      "3.991599527994792\n",
      "7.63159654405382\n",
      "10.11571316189236\n",
      "11.430614895290798\n",
      "12.022093709309896\n",
      "12.302721150716145\n",
      "2.5257703993055554\n",
      "6.117346530490451\n",
      "8.767297702365452\n",
      "10.527930365668404\n",
      "11.607679239908855\n",
      "12.257922024197049\n"
     ]
    }
   ],
   "source": [
    "#mse for 001\n",
    "mse11=get_ipython().getoutput('python3 -O ../tools/MSE.py -x ../sequences/stockholm/001.png -y /tmp/hl1step5/001.png' )\n",
    "hlmse11=float(mse11[0])\n",
    "print (hlmse11)\n",
    "\n",
    "mse12=get_ipython().getoutput('python3 -O ../tools/MSE.py -x ../sequences/stockholm/001.png -y /tmp/hl1step10/001.png' )\n",
    "hlmse12=float(mse12[0])\n",
    "print (hlmse12)\n",
    "\n",
    "mse13=get_ipython().getoutput('python3 -O ../tools/MSE.py -x ../sequences/stockholm/001.png -y /tmp/hl1step15/001.png' )\n",
    "hlmse13=float(mse13[0])\n",
    "print (hlmse13)\n",
    "\n",
    "mse14=get_ipython().getoutput('python3 -O ../tools/MSE.py -x ../sequences/stockholm/001.png -y /tmp/hl1step20/001.png' )\n",
    "hlmse14=float(mse14[0])\n",
    "print (hlmse14)\n",
    "\n",
    "mse15=get_ipython().getoutput('python3 -O ../tools/MSE.py -x ../sequences/stockholm/001.png -y /tmp/hl1step25/001.png' )\n",
    "hlmse15=float(mse15[0])\n",
    "print (hlmse15)\n",
    "\n",
    "mse16=get_ipython().getoutput('python3 -O ../tools/MSE.py -x ../sequences/stockholm/001.png -y /tmp/hl1step30/001.png' )\n",
    "hlmse16=float(mse16[0])\n",
    "print (hlmse16)\n",
    "\n",
    "#mse for 002\n",
    "mse21=get_ipython().getoutput('python3 -O ../tools/MSE.py -x ../sequences/stockholm/002.png -y /tmp/hl2step5/002.png' )\n",
    "hlmse21=float(mse21[0])\n",
    "print (hlmse21)\n",
    "\n",
    "mse22=get_ipython().getoutput('python3 -O ../tools/MSE.py -x ../sequences/stockholm/002.png -y /tmp/hl2step10/002.png' )\n",
    "hlmse22=float(mse22[0])\n",
    "print (hlmse22)\n",
    "\n",
    "mse23=get_ipython().getoutput('python3 -O ../tools/MSE.py -x ../sequences/stockholm/002.png -y /tmp/hl2step15/002.png' )\n",
    "hlmse23=float(mse23[0])\n",
    "print (hlmse23)\n",
    "\n",
    "mse24=get_ipython().getoutput('python3 -O ../tools/MSE.py -x ../sequences/stockholm/002.png -y /tmp/hl2step20/002.png' )\n",
    "hlmse24=float(mse24[0])\n",
    "print (hlmse24)\n",
    "\n",
    "mse25=get_ipython().getoutput('python3 -O ../tools/MSE.py -x ../sequences/stockholm/002.png -y /tmp/hl2step25/002.png' )\n",
    "hlmse25=float(mse25[0])\n",
    "print (hlmse25)\n",
    "\n",
    "mse26=get_ipython().getoutput('python3 -O ../tools/MSE.py -x ../sequences/stockholm/002.png -y /tmp/hl2step30/002.png' )\n",
    "hlmse26=float(mse26[0])\n",
    "print (hlmse26)"
   ]
  },
  {
   "cell_type": "markdown",
   "metadata": {},
   "source": [
    "# HH subbud for 001 and 002"
   ]
  },
  {
   "cell_type": "code",
   "execution_count": 14,
   "metadata": {},
   "outputs": [
    {
     "name": "stdout",
     "output_type": "stream",
     "text": [
      "this is deadzone\n",
      "this is deadzone\n",
      "this is deadzone\n",
      "this is deadzone\n",
      "this is deadzone\n",
      "this is deadzone\n",
      "this is deadzone\n",
      "this is deadzone\n",
      "this is deadzone\n",
      "this is deadzone\n",
      "this is deadzone\n",
      "this is deadzone\n"
     ]
    }
   ],
   "source": [
    "%%bash\n",
    "for i in $(seq 5 5 30)\n",
    "do \n",
    "q_step=$i\n",
    "select=1\n",
    "predictor=2\n",
    "# You must be in the ’src’ directory.  \n",
    "rm /tmp/*.png  \n",
    "cp ../sequences/stockholm/*.png /tmp  \n",
    "\n",
    "python3 -O MDWT.py -p /tmp/  \n",
    "python3 -O MCDWT.py -P $predictor -p /tmp/  -T 1\n",
    "\n",
    "python3 ../tools/quantize1.py -i /tmp/HH001.png -o /tmp/HH001.png -q $q_step -s $select  \n",
    "python3 ../tools/quantize1.py -i /tmp/HH002.png -o /tmp/HH002.png -q $q_step -s $select \n",
    " \n",
    "\n",
    " \n",
    "\n",
    "rm -rf /tmp/hh1$i\n",
    "mkdir /tmp/hh1$i\n",
    "cp /tmp/HH001.png /tmp/hh1$i  \n",
    "\n",
    "rm -rf /tmp/hh2$i\n",
    "mkdir /tmp/hh2$i\n",
    "cp /tmp/HH002.png /tmp/hh2$i \n",
    "\n",
    "\n",
    "python3 -O MCDWT.py -P $predictor -p /tmp/ -b  -T 1\n",
    "python3 -O MDWT.py -p /tmp/ -b  \n",
    " \n",
    "rm -rf /tmp/hh1step$i\n",
    "mkdir /tmp/hh1step$i\n",
    "cp /tmp/*001.png /tmp/hh1step$i\n",
    "\n",
    "rm -rf /tmp/hh2step$i\n",
    "mkdir /tmp/hh2step$i\n",
    "cp /tmp/*002.png /tmp/hh2step$i\n",
    "\n",
    "done"
   ]
  },
  {
   "cell_type": "markdown",
   "metadata": {},
   "source": [
    "## size of HH subbunds of 001 and 002"
   ]
  },
  {
   "cell_type": "code",
   "execution_count": 15,
   "metadata": {},
   "outputs": [
    {
     "name": "stdout",
     "output_type": "stream",
     "text": [
      "hh11: 60703\n",
      "hh12: 7571\n",
      "hh13: 7023\n",
      "hh14: 6960\n",
      "hh15: 6960\n",
      "hh16: 6960\n",
      "hh21: 33205\n",
      "hh22: 7969\n",
      "hh23: 7210\n",
      "hh24: 7021\n",
      "hh25: 6972\n",
      "hh26: 6960\n"
     ]
    }
   ],
   "source": [
    "import subprocess\n",
    "#rate bit for 001\n",
    "path = '/tmp/hh15/'\n",
    "hh11 = subprocess.check_output(['du','-sb', path]).split()[0].decode('utf-8')\n",
    "print(\"hh11: \" + hh11)\n",
    "path = '/tmp/hh110/'\n",
    "hh12 = subprocess.check_output(['du','-sb', path]).split()[0].decode('utf-8')\n",
    "print(\"hh12: \" + hh12)\n",
    "path = '/tmp/hh115/'\n",
    "hh13 = subprocess.check_output(['du','-sb', path]).split()[0].decode('utf-8')\n",
    "print(\"hh13: \" + hh13)\n",
    "path = '/tmp/hh120/'\n",
    "hh14 = subprocess.check_output(['du','-sb', path]).split()[0].decode('utf-8')\n",
    "print(\"hh14: \" + hh14)\n",
    "\n",
    "path = '/tmp/hh125/'\n",
    "hh15 = subprocess.check_output(['du','-sb', path]).split()[0].decode('utf-8')\n",
    "print(\"hh15: \" + hh15)\n",
    "\n",
    "path = '/tmp/hh130/'\n",
    "hh16 = subprocess.check_output(['du','-sb', path]).split()[0].decode('utf-8')\n",
    "print(\"hh16: \" + hh16)\n",
    "\n",
    "#rate bit for 002\n",
    "path = '/tmp/hh25/'\n",
    "hh21 = subprocess.check_output(['du','-sb', path]).split()[0].decode('utf-8')\n",
    "print(\"hh21: \" + hh21)\n",
    "path = '/tmp/hh210/'\n",
    "hh22 = subprocess.check_output(['du','-sb', path]).split()[0].decode('utf-8')\n",
    "print(\"hh22: \" + hh22)\n",
    "path = '/tmp/hh215/'\n",
    "hh23 = subprocess.check_output(['du','-sb', path]).split()[0].decode('utf-8')\n",
    "print(\"hh23: \" + hh23)\n",
    "path = '/tmp/hh220/'\n",
    "hh24 = subprocess.check_output(['du','-sb', path]).split()[0].decode('utf-8')\n",
    "print(\"hh24: \" + hh24)\n",
    "\n",
    "path = '/tmp/hh225/'\n",
    "hh25 = subprocess.check_output(['du','-sb', path]).split()[0].decode('utf-8')\n",
    "print(\"hh25: \" + hh25)\n",
    "\n",
    "path = '/tmp/hh230/'\n",
    "hh26 = subprocess.check_output(['du','-sb', path]).split()[0].decode('utf-8')\n",
    "print(\"hh26: \" + hh26)"
   ]
  },
  {
   "cell_type": "markdown",
   "metadata": {},
   "source": [
    "## MSE of 001 and 002 HL subbunds"
   ]
  },
  {
   "cell_type": "code",
   "execution_count": 16,
   "metadata": {},
   "outputs": [
    {
     "name": "stdout",
     "output_type": "stream",
     "text": [
      "4.638079833984375\n",
      "5.180798678927951\n",
      "5.204333157009549\n",
      "5.212464396158854\n",
      "5.213171725802951\n",
      "5.2132080078125\n",
      "3.2669219970703125\n",
      "3.705984836154514\n",
      "3.7506439208984377\n",
      "3.7704783121744794\n",
      "3.7764034695095487\n",
      "3.777745903862847\n"
     ]
    }
   ],
   "source": [
    "#mse for 001\n",
    "mse11=get_ipython().getoutput('python3 -O ../tools/MSE.py -x ../sequences/stockholm/001.png -y /tmp/hh1step5/001.png' )\n",
    "hhmse11=float(mse11[0])\n",
    "print (hhmse11)\n",
    "\n",
    "mse12=get_ipython().getoutput('python3 -O ../tools/MSE.py -x ../sequences/stockholm/001.png -y /tmp/hh1step10/001.png' )\n",
    "hhmse12=float(mse12[0])\n",
    "print (hhmse12)\n",
    "\n",
    "mse13=get_ipython().getoutput('python3 -O ../tools/MSE.py -x ../sequences/stockholm/001.png -y /tmp/hh1step15/001.png' )\n",
    "hhmse13=float(mse13[0])\n",
    "print (hhmse13)\n",
    "\n",
    "mse14=get_ipython().getoutput('python3 -O ../tools/MSE.py -x ../sequences/stockholm/001.png -y /tmp/hh1step20/001.png' )\n",
    "hhmse14=float(mse14[0])\n",
    "print (hhmse14)\n",
    "\n",
    "mse15=get_ipython().getoutput('python3 -O ../tools/MSE.py -x ../sequences/stockholm/001.png -y /tmp/hh1step25/001.png' )\n",
    "hhmse15=float(mse15[0])\n",
    "print (hhmse15)\n",
    "\n",
    "mse16=get_ipython().getoutput('python3 -O ../tools/MSE.py -x ../sequences/stockholm/001.png -y /tmp/hh1step30/001.png' )\n",
    "hhmse16=float(mse16[0])\n",
    "print (hhmse16)\n",
    "\n",
    "#mse for 002\n",
    "mse21=get_ipython().getoutput('python3 -O ../tools/MSE.py -x ../sequences/stockholm/002.png -y /tmp/hh2step5/002.png' )\n",
    "hhmse21=float(mse21[0])\n",
    "print (hhmse21)\n",
    "\n",
    "mse22=get_ipython().getoutput('python3 -O ../tools/MSE.py -x ../sequences/stockholm/002.png -y /tmp/hh2step10/002.png' )\n",
    "hhmse22=float(mse22[0])\n",
    "print (hhmse22)\n",
    "\n",
    "mse23=get_ipython().getoutput('python3 -O ../tools/MSE.py -x ../sequences/stockholm/002.png -y /tmp/hh2step15/002.png' )\n",
    "hhmse23=float(mse23[0])\n",
    "print (hhmse23)\n",
    "\n",
    "mse24=get_ipython().getoutput('python3 -O ../tools/MSE.py -x ../sequences/stockholm/002.png -y /tmp/hh2step20/002.png' )\n",
    "hhmse24=float(mse24[0])\n",
    "print (hhmse24)\n",
    "\n",
    "mse25=get_ipython().getoutput('python3 -O ../tools/MSE.py -x ../sequences/stockholm/002.png -y /tmp/hh2step25/002.png' )\n",
    "hhmse25=float(mse25[0])\n",
    "print (hhmse25)\n",
    "\n",
    "mse26=get_ipython().getoutput('python3 -O ../tools/MSE.py -x ../sequences/stockholm/002.png -y /tmp/hh2step30/002.png' )\n",
    "hhmse26=float(mse26[0])\n",
    "print (hhmse26)"
   ]
  },
  {
   "cell_type": "markdown",
   "metadata": {},
   "source": [
    "# Draw curves seperately"
   ]
  },
  {
   "cell_type": "markdown",
   "metadata": {},
   "source": [
    "## Draw curves 0"
   ]
  },
  {
   "cell_type": "code",
   "execution_count": 112,
   "metadata": {},
   "outputs": [
    {
     "data": {
      "image/png": "[encoded data removed]",
      "text/plain": [
       "<Figure size 432x288 with 1 Axes>"
      ]
     },
     "metadata": {
      "needs_background": "light"
     },
     "output_type": "display_data"
    }
   ],
   "source": [
    "import numpy as np\n",
    "import matplotlib.pyplot as plt\n",
    "%matplotlib inline\n",
    "C0 = 1 # Number of curves\n",
    "# Lists of operational RD (Rate/Distortion) points\n",
    "curve = [None]*C0\n",
    "curve[0] = [(float(ll11),llmse11), (float(ll12),llmse12),(float(ll13),llmse13), (float(ll14),llmse14), \n",
    "            (float(ll15),llmse15), (float(ll16),llmse16)]\n",
    "for c0 in range(1):\n",
    "    fig = plt.figure()\n",
    "    ax = fig.add_subplot(111)\n",
    "    ax.set_title('LL of 001.png')\n",
    "    ax.xaxis.set_label_text('ratebit')\n",
    "    ax.yaxis.set_label_text('MSE')\n",
    "    ax.grid()\n",
    "    plt.scatter(*zip(*curve[c0]))\n",
    "    plt.plot(*zip(*curve[c0]))\n",
    "plt.show()"
   ]
  },
  {
   "cell_type": "markdown",
   "metadata": {},
   "source": [
    "## Draw curves 1"
   ]
  },
  {
   "cell_type": "code",
   "execution_count": 111,
   "metadata": {},
   "outputs": [
    {
     "data": {
      "image/png": "[encoded data removed]",
      "text/plain": [
       "<Figure size 432x288 with 1 Axes>"
      ]
     },
     "metadata": {
      "needs_background": "light"
     },
     "output_type": "display_data"
    }
   ],
   "source": [
    "import numpy as np\n",
    "import matplotlib.pyplot as plt\n",
    "%matplotlib inline\n",
    "C1 = 1 # Number of curves\n",
    "# Lists of operational RD (Rate/Distortion) points\n",
    "curve = [None]*C1\n",
    "curve[0] = [(float(lh11),lhmse11), (float(lh12),lhmse12), (float(lh13),lhmse13), \n",
    "           (float(lh15),lhmse15),(float(lh16),lhmse16)]\n",
    "for c1 in range(1):\n",
    "    fig = plt.figure()\n",
    "    ax = fig.add_subplot(111)\n",
    "    ax.set_title('LH of 001.png')\n",
    "    ax.xaxis.set_label_text('ratebit')\n",
    "    ax.yaxis.set_label_text('MSE')\n",
    "    ax.grid()\n",
    "    plt.scatter(*zip(*curve[c1]), color='yellow')\n",
    "    plt.plot(*zip(*curve[c1]), color='yellow')\n",
    "plt.show()"
   ]
  },
  {
   "cell_type": "markdown",
   "metadata": {},
   "source": [
    "## Draw curves 2"
   ]
  },
  {
   "cell_type": "code",
   "execution_count": 110,
   "metadata": {},
   "outputs": [
    {
     "data": {
      "image/png": "[encoded data removed]",
      "text/plain": [
       "<Figure size 432x288 with 1 Axes>"
      ]
     },
     "metadata": {
      "needs_background": "light"
     },
     "output_type": "display_data"
    }
   ],
   "source": [
    "import numpy as np\n",
    "import matplotlib.pyplot as plt\n",
    "%matplotlib inline\n",
    "C2 = 1 # Number of curves\n",
    "# Lists of operational RD (Rate/Distortion) points\n",
    "curve = [None]*C2\n",
    "curve[0] = [(float(hl11),hlmse11), (float(hl13),hlmse13), (float(hl14),hlmse14),\n",
    "            (float(hl15),hlmse15), (float(hl16),hlmse16)]\n",
    "for c2 in range(1):\n",
    "    fig = plt.figure()\n",
    "    ax = fig.add_subplot(111)\n",
    "    ax.set_title('HL of 001.png')\n",
    "    ax.xaxis.set_label_text('ratebit')\n",
    "    ax.yaxis.set_label_text('MSE')\n",
    "    ax.grid()\n",
    "    plt.scatter(*zip(*curve[c2]), color='green')\n",
    "    plt.plot(*zip(*curve[c2]), color='green')\n",
    "plt.show()"
   ]
  },
  {
   "cell_type": "markdown",
   "metadata": {},
   "source": [
    "## Draw curves 3"
   ]
  },
  {
   "cell_type": "code",
   "execution_count": 109,
   "metadata": {},
   "outputs": [
    {
     "data": {
      "image/png": "[encoded data removed]",
      "text/plain": [
       "<Figure size 432x288 with 1 Axes>"
      ]
     },
     "metadata": {
      "needs_background": "light"
     },
     "output_type": "display_data"
    }
   ],
   "source": [
    "import numpy as np\n",
    "import matplotlib.pyplot as plt\n",
    "\n",
    "%matplotlib inline\n",
    "C3 = 1 # Number of curves\n",
    "# Lists of operational RD (Rate/Distortion) points\n",
    "curve = [None]*C3\n",
    "curve[0] = [(float(hh11),hhmse11), (float(hh12),hhmse12), (float(hh13),hhmse13), \n",
    "            (float(hh15),hhmse15)]\n",
    "for c3 in range(1):\n",
    "    fig = plt.figure()\n",
    "    ax = fig.add_subplot(111)\n",
    "    ax.set_title('HH of 001.png')\n",
    "    ax.xaxis.set_label_text('ratebit')\n",
    "    ax.yaxis.set_label_text('MSE')\n",
    "    ax.grid()\n",
    "    plt.scatter(*zip(*curve[c3]), color='red')\n",
    "    plt.plot(*zip(*curve[c3]), color='red')\n",
    "   \n",
    "plt.show()"
   ]
  },
  {
   "cell_type": "markdown",
   "metadata": {},
   "source": [
    "## Draw curves 4"
   ]
  },
  {
   "cell_type": "code",
   "execution_count": 108,
   "metadata": {},
   "outputs": [
    {
     "data": {
      "image/png": "[encoded data removed]",
      "text/plain": [
       "<Figure size 432x288 with 1 Axes>"
      ]
     },
     "metadata": {
      "needs_background": "light"
     },
     "output_type": "display_data"
    }
   ],
   "source": [
    "import numpy as np\n",
    "import matplotlib.pyplot as plt\n",
    "\n",
    "%matplotlib inline\n",
    "C4 = 1 # Number of curves\n",
    "# Lists of operational RD (Rate/Distortion) points\n",
    "curve = [None]*C4\n",
    "curve[0] = [(float(ll21),llmse21), (float(ll22),llmse22),  (float(ll24),llmse24), \n",
    "           (float(ll25),llmse25), (float(ll26),llmse26)]\n",
    "for c4 in range(1):\n",
    "    fig = plt.figure()\n",
    "    ax = fig.add_subplot(111)\n",
    "    ax.set_title('LL of 002.png')\n",
    "    ax.xaxis.set_label_text('ratebit')\n",
    "    ax.yaxis.set_label_text('MSE')\n",
    "    ax.grid()\n",
    "    plt.scatter(*zip(*curve[c4]), color='purple')\n",
    "    plt.plot(*zip(*curve[c4]), color='purple')\n",
    "   \n",
    "plt.show()"
   ]
  },
  {
   "cell_type": "markdown",
   "metadata": {},
   "source": [
    "## Draw curves 5"
   ]
  },
  {
   "cell_type": "code",
   "execution_count": 107,
   "metadata": {},
   "outputs": [
    {
     "data": {
      "image/png": "[encoded data removed]",
      "text/plain": [
       "<Figure size 432x288 with 1 Axes>"
      ]
     },
     "metadata": {
      "needs_background": "light"
     },
     "output_type": "display_data"
    }
   ],
   "source": [
    "import numpy as np\n",
    "import matplotlib.pyplot as plt\n",
    "\n",
    "%matplotlib inline\n",
    "C5 = 1 # Number of curves\n",
    "# Lists of operational RD (Rate/Distortion) points\n",
    "curve = [None]*C5\n",
    "curve[0] =[(float(lh21),lhmse21), (float(lh22),lhmse22), (float(lh23),lhmse23), (float(lh24),lhmse24),\n",
    "           (float(lh25),lhmse25), (float(lh26),lhmse26)]\n",
    "for c5 in range(1):\n",
    "    fig = plt.figure()\n",
    "    ax = fig.add_subplot(111)\n",
    "    ax.set_title('LH of 002.png')\n",
    "    ax.xaxis.set_label_text('ratebit')\n",
    "    ax.yaxis.set_label_text('MSE')\n",
    "    ax.grid()\n",
    "    plt.scatter(*zip(*curve[c5]), color='maroon')\n",
    "    plt.plot(*zip(*curve[c5]), color='maroon')\n",
    "   \n",
    "plt.show()"
   ]
  },
  {
   "cell_type": "markdown",
   "metadata": {},
   "source": [
    "## Draw curves 6"
   ]
  },
  {
   "cell_type": "code",
   "execution_count": 106,
   "metadata": {},
   "outputs": [
    {
     "data": {
      "image/png": "[encoded data removed]",
      "text/plain": [
       "<Figure size 432x288 with 1 Axes>"
      ]
     },
     "metadata": {
      "needs_background": "light"
     },
     "output_type": "display_data"
    }
   ],
   "source": [
    "import numpy as np\n",
    "import matplotlib.pyplot as plt\n",
    "\n",
    "%matplotlib inline\n",
    "C6 = 1 # Number of curves\n",
    "# Lists of operational RD (Rate/Distortion) points\n",
    "curve = [None]*C6\n",
    "curve[0] = [(float(hl21),hlmse21), (float(hl22),hlmse22), (float(hl23),hlmse23), (float(hl24),hlmse24),\n",
    "           (float(hl25),hlmse25), (float(hl26),hlmse26)]\n",
    "for c6 in range(1):\n",
    "    fig = plt.figure()\n",
    "    ax = fig.add_subplot(111)\n",
    "    ax.set_title('HL of 002.png')\n",
    "    ax.xaxis.set_label_text('ratebit')\n",
    "    ax.yaxis.set_label_text('MSE')\n",
    "    ax.grid()\n",
    "    plt.scatter(*zip(*curve[c6]), color='plum')\n",
    "    plt.plot(*zip(*curve[c6]), color='plum')\n",
    "   \n",
    "plt.show()"
   ]
  },
  {
   "cell_type": "markdown",
   "metadata": {},
   "source": [
    "## Draw curves 7"
   ]
  },
  {
   "cell_type": "code",
   "execution_count": 105,
   "metadata": {
    "scrolled": true
   },
   "outputs": [
    {
     "data": {
      "image/png": "[encoded data removed]",
      "text/plain": [
       "<Figure size 432x288 with 1 Axes>"
      ]
     },
     "metadata": {
      "needs_background": "light"
     },
     "output_type": "display_data"
    }
   ],
   "source": [
    "import numpy as np\n",
    "import matplotlib.pyplot as plt\n",
    "\n",
    "%matplotlib inline\n",
    "C7 = 1 # Number of curves\n",
    "# Lists of operational RD (Rate/Distortion) points\n",
    "curve = [None]*C7\n",
    "curve[0] =  [(float(hh21),hhmse21), (float(hh22),hhmse22), (float(hh23),hhmse23), (float(hh24),hhmse24),\n",
    "            (float(hh25),hhmse25), (float(hh26),hhmse26)]\n",
    "for c7 in range(1):\n",
    "    fig = plt.figure()\n",
    "    ax = fig.add_subplot(111)\n",
    "    ax.set_title('HH of 002.png')\n",
    "    ax.xaxis.set_label_text('ratebit')\n",
    "    ax.yaxis.set_label_text('MSE')\n",
    "    ax.grid()\n",
    "    plt.scatter(*zip(*curve[c7]), color='grey')\n",
    "    plt.plot(*zip(*curve[c7]), color='grey')\n",
    "   \n",
    "plt.show()"
   ]
  },
  {
   "cell_type": "markdown",
   "metadata": {},
   "source": [
    "# All curves together"
   ]
  },
  {
   "cell_type": "code",
   "execution_count": 118,
   "metadata": {},
   "outputs": [
    {
     "data": {
      "image/png": "[encoded data removed]",
      "text/plain": [
       "<Figure size 432x288 with 1 Axes>"
      ]
     },
     "metadata": {
      "needs_background": "light"
     },
     "output_type": "display_data"
    }
   ],
   "source": [
    "import numpy as np\n",
    "import matplotlib.pyplot as plt\n",
    "\n",
    "\n",
    "%matplotlib inline\n",
    "C = 8 # Number of curves\n",
    "# Lists of operational RD (Rate/Distortion) points\n",
    "curve = [None]*C\n",
    "curve[0] = [(float(ll11),llmse11), (float(ll12),llmse12),(float(ll13),llmse13), (float(ll14),llmse14), \n",
    "           (float(ll15),llmse15), (float(ll16),llmse16)]\n",
    "curve[1] = [(float(lh11),lhmse11), (float(lh12),lhmse12), (float(lh13),lhmse13), \n",
    "           (float(lh15),lhmse15),(float(lh16),lhmse16)]\n",
    "curve[2] = [(float(hl11),hlmse11), (float(hl13),hlmse13), (float(hl14),hlmse14),\n",
    "            (float(hl15),hlmse15), (float(hl16),hlmse16)]\n",
    "\n",
    "curve[3] = [(float(hh11),hhmse11), (float(hh12),hhmse12), (float(hh13),hhmse13), \n",
    "            (float(hh15),hhmse15)]\n",
    "\n",
    "curve[4] = [(float(ll21),llmse21), (float(ll22),llmse22),  (float(ll24),llmse24), \n",
    "           (float(ll25),llmse25), (float(ll26),llmse26)]\n",
    "\n",
    "curve[5] = [(float(lh21),lhmse21), (float(lh22),lhmse22), (float(lh23),lhmse23), (float(lh24),lhmse24),\n",
    "           (float(lh25),lhmse25), (float(lh26),lhmse26)]\n",
    "\n",
    "curve[6] = [(float(hl21),hlmse21), (float(hl22),hlmse22), (float(hl23),hlmse23), (float(hl24),hlmse24),\n",
    "           (float(hl25),hlmse25), (float(hl26),hlmse26)]\n",
    "\n",
    "curve[7] = [(float(hh21),hhmse21), (float(hh22),hhmse22), (float(hh23),hhmse23), (float(hh24),hhmse24),\n",
    "            (float(hh25),hhmse25), (float(hh26),hhmse26)]\n",
    "fig = plt.figure()\n",
    "ax = fig.add_subplot(111)\n",
    "ax.set_title('8 subbunds curves of 001.png and 002.png')\n",
    "ax.xaxis.set_label_text('ratebit')\n",
    "ax.yaxis.set_label_text('MSE')\n",
    "ax.grid()\n",
    "for c in range(8):\n",
    " \n",
    "    plt.scatter(*zip(*curve[c]))\n",
    "    plt.plot(*zip(*curve[c]))\n",
    "    \n",
    "plt.show()"
   ]
  },
  {
   "cell_type": "code",
   "execution_count": 18,
   "metadata": {},
   "outputs": [
    {
     "name": "stdout",
     "output_type": "stream",
     "text": [
      "[(5.8885525253589385e-05, 105823.0, 0), (0.00014471687724341477, 65096.0, 0), (0.00029708734967918445, 42340.0, 0), (0.0004531456422419724, 35119.0, 0), (0.0006940110851582344, 27472.0, 0)]\n",
      "[(1.2152113750829971e-05, 268458.0, 1), (2.686753413021113e-05, 92889.0, 1), (8.982949895413347e-05, 28027.0, 1), (0.0007502734251696663, 1100.0, 1)]\n",
      "[(1.780674525224563e-05, 343921.0, 2), (9.83177608343381e-05, 13374.0, 2), (0.00017060248457429993, 3467.0, 2), (0.0002693161625779744, 1042.0, 2)]\n",
      "[(1.0214538224489502e-05, 53132.0, 3), (4.294612788612617e-05, 548.0, 3), (0.00014029474275242067, 63.0, 3)]\n",
      "[(5.594360971605847e-05, 105765.0, 4), (0.00019767250213813332, 107810.0, 4), (0.0004466309350681215, 34906.0, 4), (0.0006943303034002861, 26912.0, 4)]\n",
      "[(1.6946314574274317e-05, 226543.0, 5), (4.3961554177138154e-05, 93226.0, 5), (9.751296788207802e-05, 38996.0, 5), (0.00016941020408450387, 16659.0, 5), (0.0003123277105219808, 9380.0, 5)]\n",
      "[(1.423974170050549e-05, 252222.0, 6), (4.41437809740963e-05, 60030.0, 6), (0.00010275066608129276, 17135.0, 6), (0.00016552949168181067, 6523.0, 6), (0.0002542990943637833, 2557.0, 6)]\n",
      "[(1.7398273858147153e-05, 25236.0, 7), (5.883937383916161e-05, 759.0, 7), (0.00010494386918540581, 189.0, 7), (0.00012092157826672194, 49.0, 7), (0.00011186952944153283, 12.0, 7)]\n"
     ]
    }
   ],
   "source": [
    "slopes = [None]*C\n",
    "for c in range(C):\n",
    "    # Slopes of each pair of points\n",
    "    slopes[c] = [] \n",
    "    for i in range(len(curve[c])-1):\n",
    "        distortion_decrease = curve[c][i+1][1] - curve[c][i][1]\n",
    "        rate_increase = curve[c][i][0] - curve[c][i+1][0]\n",
    "        slope = distortion_decrease/rate_increase\n",
    "        slopes[c].append((slope, rate_increase, c))\n",
    "    print(slopes[c])"
   ]
  },
  {
   "cell_type": "code",
   "execution_count": 19,
   "metadata": {},
   "outputs": [
    {
     "name": "stdout",
     "output_type": "stream",
     "text": [
      "[(5.8885525253589385e-05, 105823.0, 0), (0.00014471687724341477, 65096.0, 0), (0.00029708734967918445, 42340.0, 0), (0.0004531456422419724, 35119.0, 0), (0.0006940110851582344, 27472.0, 0), (1.2152113750829971e-05, 268458.0, 1), (2.686753413021113e-05, 92889.0, 1), (8.982949895413347e-05, 28027.0, 1), (0.0007502734251696663, 1100.0, 1), (1.780674525224563e-05, 343921.0, 2), (9.83177608343381e-05, 13374.0, 2), (0.00017060248457429993, 3467.0, 2), (0.0002693161625779744, 1042.0, 2), (1.0214538224489502e-05, 53132.0, 3), (4.294612788612617e-05, 548.0, 3), (0.00014029474275242067, 63.0, 3), (5.594360971605847e-05, 105765.0, 4), (0.00019767250213813332, 107810.0, 4), (0.0004466309350681215, 34906.0, 4), (0.0006943303034002861, 26912.0, 4), (1.6946314574274317e-05, 226543.0, 5), (4.3961554177138154e-05, 93226.0, 5), (9.751296788207802e-05, 38996.0, 5), (0.00016941020408450387, 16659.0, 5), (0.0003123277105219808, 9380.0, 5), (1.423974170050549e-05, 252222.0, 6), (4.41437809740963e-05, 60030.0, 6), (0.00010275066608129276, 17135.0, 6), (0.00016552949168181067, 6523.0, 6), (0.0002542990943637833, 2557.0, 6), (1.7398273858147153e-05, 25236.0, 7), (5.883937383916161e-05, 759.0, 7), (0.00010494386918540581, 189.0, 7), (0.00012092157826672194, 49.0, 7), (0.00011186952944153283, 12.0, 7)]\n"
     ]
    }
   ],
   "source": [
    "total_slopes = []\n",
    "for c in range(C):\n",
    "    total_slopes += slopes[c]\n",
    "print(total_slopes)"
   ]
  },
  {
   "cell_type": "code",
   "execution_count": 20,
   "metadata": {},
   "outputs": [
    {
     "name": "stdout",
     "output_type": "stream",
     "text": [
      "[(0.0007502734251696663, 1100.0, 1), (0.0006943303034002861, 26912.0, 4), (0.0006940110851582344, 27472.0, 0), (0.0004531456422419724, 35119.0, 0), (0.0004466309350681215, 34906.0, 4), (0.0003123277105219808, 9380.0, 5), (0.00029708734967918445, 42340.0, 0), (0.0002693161625779744, 1042.0, 2), (0.0002542990943637833, 2557.0, 6), (0.00019767250213813332, 107810.0, 4), (0.00017060248457429993, 3467.0, 2), (0.00016941020408450387, 16659.0, 5), (0.00016552949168181067, 6523.0, 6), (0.00014471687724341477, 65096.0, 0), (0.00014029474275242067, 63.0, 3), (0.00012092157826672194, 49.0, 7), (0.00011186952944153283, 12.0, 7), (0.00010494386918540581, 189.0, 7), (0.00010275066608129276, 17135.0, 6), (9.83177608343381e-05, 13374.0, 2), (9.751296788207802e-05, 38996.0, 5), (8.982949895413347e-05, 28027.0, 1), (5.8885525253589385e-05, 105823.0, 0), (5.883937383916161e-05, 759.0, 7), (5.594360971605847e-05, 105765.0, 4), (4.41437809740963e-05, 60030.0, 6), (4.3961554177138154e-05, 93226.0, 5), (4.294612788612617e-05, 548.0, 3), (2.686753413021113e-05, 92889.0, 1), (1.780674525224563e-05, 343921.0, 2), (1.7398273858147153e-05, 25236.0, 7), (1.6946314574274317e-05, 226543.0, 5), (1.423974170050549e-05, 252222.0, 6), (1.2152113750829971e-05, 268458.0, 1), (1.0214538224489502e-05, 53132.0, 3)]\n"
     ]
    }
   ],
   "source": [
    "sorted_slopes = sorted(total_slopes, key=lambda tup: tup[0])[::-1]\n",
    "print(sorted_slopes)"
   ]
  },
  {
   "cell_type": "code",
   "execution_count": 23,
   "metadata": {},
   "outputs": [
    {
     "name": "stdout",
     "output_type": "stream",
     "text": [
      "Optimal progression of RD points = [(0.0007502734251696663, 1100.0, 1), (0.0006943303034002861, 26912.0, 4), (0.0006940110851582344, 27472.0, 0), (0.0004531456422419724, 35119.0, 0), (0.0004466309350681215, 34906.0, 4), (0.0003123277105219808, 9380.0, 5), (0.00029708734967918445, 42340.0, 0), (0.0002693161625779744, 1042.0, 2), (0.0002542990943637833, 2557.0, 6), (0.00019767250213813332, 107810.0, 4), (0.00017060248457429993, 3467.0, 2), (0.00016941020408450387, 16659.0, 5), (0.00016552949168181067, 6523.0, 6), (0.00014471687724341477, 65096.0, 0), (0.00014029474275242067, 63.0, 3), (0.00012092157826672194, 49.0, 7), (0.00011186952944153283, 12.0, 7), (0.00010494386918540581, 189.0, 7), (0.00010275066608129276, 17135.0, 6), (9.83177608343381e-05, 13374.0, 2), (9.751296788207802e-05, 38996.0, 5), (8.982949895413347e-05, 28027.0, 1)]\n",
      "Achieved rate = 478228.0\n",
      "Rate for curve 0 = 170027.0\n",
      "Rate for curve 1 = 29127.0\n",
      "Rate for curve 2 = 17883.0\n",
      "Rate for curve 3 = 63.0\n",
      "Rate for curve 4 = 169628.0\n",
      "Rate for curve 5 = 65035.0\n",
      "Rate for curve 6 = 26215.0\n",
      "Rate for curve 7 = 250.0\n"
     ]
    }
   ],
   "source": [
    "R = 500000 # Bit budget\n",
    "spent_br = 0 # Spent bit rate\n",
    "i = 0\n",
    "optimal_progression = []\n",
    "while True:\n",
    "    spent_br += sorted_slopes[i][1]\n",
    "    if spent_br < R:\n",
    "        optimal_progression.append(sorted_slopes[i])\n",
    "    else:\n",
    "        break\n",
    "    i += 1\n",
    "print(\"Optimal progression of RD points =\", optimal_progression)\n",
    "br = sum([i[1] for i in optimal_progression])\n",
    "print(\"Achieved rate =\", br)\n",
    "for c in range(C): # 2 = two curves\n",
    "    br = sum([i[1] for i in optimal_progression if i[2] == c])\n",
    "    print(\"Rate for curve {} = {}\".format(c,br))"
   ]
  },
  {
   "cell_type": "code",
   "execution_count": null,
   "metadata": {},
   "outputs": [],
   "source": []
  }
 ],
 "metadata": {
  "kernelspec": {
   "display_name": "Python 3",
   "language": "python",
   "name": "python3"
  },
  "language_info": {
   "codemirror_mode": {
    "name": "ipython",
    "version": 3
   },
   "file_extension": ".py",
   "mimetype": "text/x-python",
   "name": "python",
   "nbconvert_exporter": "python",
   "pygments_lexer": "ipython3",
   "version": "3.8.1"
  }
 },
 "nbformat": 4,
 "nbformat_minor": 4
}
